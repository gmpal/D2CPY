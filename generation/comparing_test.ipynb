{
 "cells": [
  {
   "cell_type": "code",
   "execution_count": 1,
   "metadata": {},
   "outputs": [],
   "source": [
    "from sklearn.model_selection import cross_validate, LeaveOneGroupOut\n",
    "import numpy as np\n",
    "import pandas as pd\n",
    "from sklearn.ensemble import RandomForestClassifier\n",
    "import networkx as nx\n"
   ]
  },
  {
   "cell_type": "code",
   "execution_count": 2,
   "metadata": {},
   "outputs": [],
   "source": [
    "df = pd.read_csv('descriptors.csv')"
   ]
  },
  {
   "cell_type": "code",
   "execution_count": 3,
   "metadata": {},
   "outputs": [],
   "source": [
    "# Populate the graph with edges and attributes\n",
    "graphs = {}\n",
    "for _, row in df.iterrows():\n",
    "    # Check if graph_id exists, if not create a new DiGraph\n",
    "    if row['graph_id'] not in graphs:\n",
    "        graphs[row['graph_id']] = nx.DiGraph()\n",
    "    G = graphs[row['graph_id']]\n",
    "    \n",
    "    # Add an edge if is_causal is True\n",
    "    if row['is_causal']: \n",
    "        G.add_edge(row['edge_source'], row['edge_dest'])\n",
    "    else:\n",
    "        G.add_node(row['edge_source'])\n",
    "        G.add_node(row['edge_dest'])\n"
   ]
  },
  {
   "cell_type": "code",
   "execution_count": 4,
   "metadata": {},
   "outputs": [],
   "source": [
    "from graphviz import Digraph\n",
    "\n",
    "for key, graph in graphs.items():\n",
    "    G_dot = Digraph(engine=\"dot\",format='png')\n",
    "\n",
    "    for node in graph.nodes():\n",
    "        G_dot.node(str(node))\n",
    "    for edge in graph.edges():\n",
    "        G_dot.edge(str(edge[0]), str(edge[1]))\n",
    "\n",
    "    # Render the graph in a hierarchical layout\n",
    "    G_dot.render(f\"pics/graph_{key}.png\", view=False)"
   ]
  },
  {
   "cell_type": "code",
   "execution_count": 5,
   "metadata": {},
   "outputs": [],
   "source": [
    "#load dags.pkl\n",
    "import pickle\n",
    "with open('dags.pkl', 'rb') as f:\n",
    "    dags = pickle.load(f)\n",
    "\n",
    "    "
   ]
  },
  {
   "cell_type": "code",
   "execution_count": 6,
   "metadata": {},
   "outputs": [],
   "source": [
    "from graphviz import Digraph\n",
    "\n",
    "for key, graph in enumerate(dags):\n",
    "    G_dot = Digraph(engine=\"dot\",format='png')\n",
    "\n",
    "    for node in graph.nodes():\n",
    "        G_dot.node(str(node))\n",
    "    for edge in graph.edges():\n",
    "        G_dot.edge(str(edge[0]), str(edge[1]))\n",
    "\n",
    "    # Render the graph in a hierarchical layout\n",
    "    G_dot.render(f\"pics/{key}_graph.png\", view=False)"
   ]
  },
  {
   "cell_type": "code",
   "execution_count": null,
   "metadata": {},
   "outputs": [],
   "source": []
  }
 ],
 "metadata": {
  "kernelspec": {
   "display_name": "d2c",
   "language": "python",
   "name": "python3"
  },
  "language_info": {
   "codemirror_mode": {
    "name": "ipython",
    "version": 3
   },
   "file_extension": ".py",
   "mimetype": "text/x-python",
   "name": "python",
   "nbconvert_exporter": "python",
   "pygments_lexer": "ipython3",
   "version": "3.8.16"
  },
  "orig_nbformat": 4
 },
 "nbformat": 4,
 "nbformat_minor": 2
}
