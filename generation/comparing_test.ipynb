{
 "cells": [
  {
   "cell_type": "code",
   "execution_count": 1,
   "metadata": {},
   "outputs": [],
   "source": [
    "from sklearn.model_selection import cross_validate, LeaveOneGroupOut\n",
    "import numpy as np\n",
    "import pandas as pd\n",
    "from sklearn.ensemble import RandomForestClassifier\n",
    "import networkx as nx\n"
   ]
  },
  {
   "cell_type": "code",
   "execution_count": 2,
   "metadata": {},
   "outputs": [],
   "source": [
    "df = pd.read_csv('descriptors.csv')"
   ]
  },
  {
   "cell_type": "code",
   "execution_count": 3,
   "metadata": {},
   "outputs": [],
   "source": [
    "# Populate the graph with edges and attributes\n",
    "graphs = {}\n",
    "for _, row in df.iterrows():\n",
    "    # Check if graph_id exists, if not create a new DiGraph\n",
    "    if row['graph_id'] not in graphs:\n",
    "        graphs[row['graph_id']] = nx.DiGraph()\n",
    "    G = graphs[row['graph_id']]\n",
    "    \n",
    "    # Add an edge if is_causal is True\n",
    "    if row['is_causal']: \n",
    "        G.add_edge(row['edge_source'], row['edge_dest'])\n",
    "    else:\n",
    "        G.add_node(row['edge_source'])\n",
    "        G.add_node(row['edge_dest'])\n"
   ]
  },
  {
   "cell_type": "code",
   "execution_count": 4,
   "metadata": {},
   "outputs": [],
   "source": [
    "from graphviz import Digraph\n",
    "\n",
    "for key, graph in graphs.items():\n",
    "    G_dot = Digraph(engine=\"dot\",format='png')\n",
    "\n",
    "    for node in graph.nodes():\n",
    "        G_dot.node(str(node))\n",
    "    for edge in graph.edges():\n",
    "        G_dot.edge(str(edge[0]), str(edge[1]))\n",
    "\n",
    "    # Render the graph in a hierarchical layout\n",
    "    G_dot.render(f\"pics/graph_{key}.png\", view=False)"
   ]
  },
  {
   "cell_type": "code",
   "execution_count": 5,
   "metadata": {},
   "outputs": [],
   "source": [
    "#load dags.pkl\n",
    "import pickle\n",
    "with open('dags.pkl', 'rb') as f:\n",
    "    dags = pickle.load(f)\n",
    "\n",
    "    "
   ]
  },
  {
   "cell_type": "code",
   "execution_count": 6,
   "metadata": {},
   "outputs": [],
   "source": [
    "from graphviz import Digraph\n",
    "\n",
    "for key, graph in enumerate(dags):\n",
    "    G_dot = Digraph(engine=\"dot\",format='png')\n",
    "\n",
    "    for node in graph.nodes():\n",
    "        G_dot.node(str(node))\n",
    "    for edge in graph.edges():\n",
    "        G_dot.edge(str(edge[0]), str(edge[1]))\n",
    "\n",
    "    # Render the graph in a hierarchical layout\n",
    "    G_dot.render(f\"pics/{key}_graph.png\", view=False)"
   ]
  },
  {
   "attachments": {},
   "cell_type": "markdown",
   "metadata": {},
   "source": [
    "# Checking the Observations"
   ]
  },
  {
   "attachments": {},
   "cell_type": "markdown",
   "metadata": {},
   "source": [
    "# Reconstructing the formula"
   ]
  },
  {
   "cell_type": "code",
   "execution_count": 2,
   "metadata": {},
   "outputs": [],
   "source": [
    "import pickle"
   ]
  },
  {
   "cell_type": "code",
   "execution_count": 3,
   "metadata": {},
   "outputs": [
    {
     "data": {
      "text/plain": [
       "0.35"
      ]
     },
     "execution_count": 3,
     "metadata": {},
     "output_type": "execute_result"
    }
   ],
   "source": [
    "import numpy as np\n",
    "np.round(np.random.uniform(low=-1, high=1),2)"
   ]
  },
  {
   "cell_type": "code",
   "execution_count": 10,
   "metadata": {},
   "outputs": [],
   "source": [
    "#load observations.pkl\n",
    "with open('observations.pkl', 'rb') as f:\n",
    "    observations = pickle.load(f)\n",
    "    "
   ]
  },
  {
   "cell_type": "code",
   "execution_count": 11,
   "metadata": {},
   "outputs": [],
   "source": [
    "import sys\n",
    "sys.path.append(\"../d2c\")\n",
    "from utils import dag_to_formula"
   ]
  },
  {
   "cell_type": "code",
   "execution_count": 12,
   "metadata": {},
   "outputs": [],
   "source": [
    "#load updated_dags.pkl\n",
    "with open('updated_dags.pkl', 'rb') as f:\n",
    "    updated_dags = pickle.load(f)"
   ]
  },
  {
   "cell_type": "code",
   "execution_count": 16,
   "metadata": {},
   "outputs": [
    {
     "name": "stdout",
     "output_type": "stream",
     "text": [
      "2 = 0.65238*2_t-1 + 0.08363*2_t-2 + 0.58096*2_t-3 + 0.08854\n",
      "1 = 0.02613*2_t-1 + 0.02613*2_t-2 + 0.02613*2_t-3 + 0.67594*1_t-1 + -0.67203*1_t-2 + 0.30246*1_t-3 + 0.00184\n",
      "0 = 0.91798*2_t-1 + 0.91798*2_t-2 + 0.91798*2_t-3 + 0.09556*1_t-1 + 0.09556*1_t-2 + 0.09556*1_t-3 + 0.07465*0_t-1 + -0.76375*0_t-2 + 0.22227*0_t-3 + -0.03458\n",
      "\n"
     ]
    }
   ],
   "source": [
    "dag = updated_dags[-1]\n",
    "\n",
    "\n",
    "formula = dag_to_formula(dag)\n",
    "print(formula)\n"
   ]
  },
  {
   "cell_type": "code",
   "execution_count": 14,
   "metadata": {},
   "outputs": [
    {
     "data": {
      "text/html": [
       "<div>\n",
       "<style scoped>\n",
       "    .dataframe tbody tr th:only-of-type {\n",
       "        vertical-align: middle;\n",
       "    }\n",
       "\n",
       "    .dataframe tbody tr th {\n",
       "        vertical-align: top;\n",
       "    }\n",
       "\n",
       "    .dataframe thead th {\n",
       "        text-align: right;\n",
       "    }\n",
       "</style>\n",
       "<table border=\"1\" class=\"dataframe\">\n",
       "  <thead>\n",
       "    <tr style=\"text-align: right;\">\n",
       "      <th></th>\n",
       "      <th>0</th>\n",
       "      <th>1</th>\n",
       "      <th>2</th>\n",
       "    </tr>\n",
       "  </thead>\n",
       "  <tbody>\n",
       "    <tr>\n",
       "      <th>0</th>\n",
       "      <td>2.365900e-01</td>\n",
       "      <td>-4.346700e-01</td>\n",
       "      <td>0.95201</td>\n",
       "    </tr>\n",
       "    <tr>\n",
       "      <th>1</th>\n",
       "      <td>3.461400e-01</td>\n",
       "      <td>-1.189400e-01</td>\n",
       "      <td>-0.42063</td>\n",
       "    </tr>\n",
       "    <tr>\n",
       "      <th>2</th>\n",
       "      <td>1.940000e-02</td>\n",
       "      <td>-7.750800e-01</td>\n",
       "      <td>-0.54609</td>\n",
       "    </tr>\n",
       "    <tr>\n",
       "      <th>3</th>\n",
       "      <td>4.716400e-01</td>\n",
       "      <td>3.927700e-01</td>\n",
       "      <td>0.89932</td>\n",
       "    </tr>\n",
       "    <tr>\n",
       "      <th>4</th>\n",
       "      <td>2.001800e-01</td>\n",
       "      <td>7.058100e-01</td>\n",
       "      <td>-1.21582</td>\n",
       "    </tr>\n",
       "    <tr>\n",
       "      <th>...</th>\n",
       "      <td>...</td>\n",
       "      <td>...</td>\n",
       "      <td>...</td>\n",
       "    </tr>\n",
       "    <tr>\n",
       "      <th>297</th>\n",
       "      <td>3.968097e+14</td>\n",
       "      <td>-1.342809e+10</td>\n",
       "      <td>-0.02748</td>\n",
       "    </tr>\n",
       "    <tr>\n",
       "      <th>298</th>\n",
       "      <td>4.465771e+14</td>\n",
       "      <td>-1.240734e+11</td>\n",
       "      <td>-0.23560</td>\n",
       "    </tr>\n",
       "    <tr>\n",
       "      <th>299</th>\n",
       "      <td>5.026030e+14</td>\n",
       "      <td>-4.736599e+10</td>\n",
       "      <td>0.01246</td>\n",
       "    </tr>\n",
       "    <tr>\n",
       "      <th>300</th>\n",
       "      <td>5.656598e+14</td>\n",
       "      <td>1.236509e+11</td>\n",
       "      <td>-0.19584</td>\n",
       "    </tr>\n",
       "    <tr>\n",
       "      <th>301</th>\n",
       "      <td>6.366090e+14</td>\n",
       "      <td>1.195903e+11</td>\n",
       "      <td>-0.10634</td>\n",
       "    </tr>\n",
       "  </tbody>\n",
       "</table>\n",
       "<p>302 rows × 3 columns</p>\n",
       "</div>"
      ],
      "text/plain": [
       "                0             1        2\n",
       "0    2.365900e-01 -4.346700e-01  0.95201\n",
       "1    3.461400e-01 -1.189400e-01 -0.42063\n",
       "2    1.940000e-02 -7.750800e-01 -0.54609\n",
       "3    4.716400e-01  3.927700e-01  0.89932\n",
       "4    2.001800e-01  7.058100e-01 -1.21582\n",
       "..            ...           ...      ...\n",
       "297  3.968097e+14 -1.342809e+10 -0.02748\n",
       "298  4.465771e+14 -1.240734e+11 -0.23560\n",
       "299  5.026030e+14 -4.736599e+10  0.01246\n",
       "300  5.656598e+14  1.236509e+11 -0.19584\n",
       "301  6.366090e+14  1.195903e+11 -0.10634\n",
       "\n",
       "[302 rows x 3 columns]"
      ]
     },
     "execution_count": 14,
     "metadata": {},
     "output_type": "execute_result"
    }
   ],
   "source": [
    "observations[3]"
   ]
  },
  {
   "cell_type": "code",
   "execution_count": 15,
   "metadata": {},
   "outputs": [
    {
     "name": "stdout",
     "output_type": "stream",
     "text": [
      "           0          1        2\n",
      "0   -0.99844    0.98442  0.23496\n",
      "1    0.22331   -0.98587 -0.95388\n",
      "2    0.04955   -0.20028 -0.90667\n",
      "3   -0.04738    0.22680  1.11966\n",
      "4    0.01777   -1.37269  0.03034\n",
      "..       ...        ...      ...\n",
      "297  0.02254  -77.75814  0.03542\n",
      "298  0.03577  124.85397  0.04834\n",
      "299  0.00735 -136.93057  0.00017\n",
      "300  0.04248  108.63246  0.02837\n",
      "301  0.07918  -47.75059  0.06796\n",
      "\n",
      "[302 rows x 3 columns]\n",
      "           0        1        2\n",
      "0    0.22426  0.18966 -0.49878\n",
      "1    0.14986  0.04463  0.35355\n",
      "2   -0.36073 -0.06368 -0.36801\n",
      "3    0.58093 -0.13256  0.25970\n",
      "4   -0.71243 -0.17278 -0.29328\n",
      "..       ...      ...      ...\n",
      "295 -0.02055 -0.21930 -0.05235\n",
      "296  0.03794 -0.22651 -0.02127\n",
      "297 -0.02542 -0.22325 -0.05980\n",
      "298  0.07010 -0.20111 -0.02780\n",
      "299 -0.03134 -0.19849 -0.05313\n",
      "\n",
      "[300 rows x 3 columns]\n",
      "           0        1        2\n",
      "0   -0.43488  0.83368 -0.58376\n",
      "1    0.17557  0.56312  0.31458\n",
      "2   -0.07940 -0.11166 -0.13506\n",
      "3    0.01852 -0.06045  0.08543\n",
      "4   -0.01752 -0.16200 -0.01180\n",
      "..       ...      ...      ...\n",
      "295 -0.02575 -0.16451  0.02115\n",
      "296 -0.00795 -0.16393  0.01301\n",
      "297 -0.02177 -0.14756  0.01219\n",
      "298 -0.00170 -0.15974  0.00466\n",
      "299  0.00000 -0.15214  0.02164\n",
      "\n",
      "[300 rows x 3 columns]\n",
      "                0             1        2\n",
      "0    2.365900e-01 -4.346700e-01  0.95201\n",
      "1    3.461400e-01 -1.189400e-01 -0.42063\n",
      "2    1.940000e-02 -7.750800e-01 -0.54609\n",
      "3    4.716400e-01  3.927700e-01  0.89932\n",
      "4    2.001800e-01  7.058100e-01 -1.21582\n",
      "..            ...           ...      ...\n",
      "297  3.968097e+14 -1.342809e+10 -0.02748\n",
      "298  4.465771e+14 -1.240734e+11 -0.23560\n",
      "299  5.026030e+14 -4.736599e+10  0.01246\n",
      "300  5.656598e+14  1.236509e+11 -0.19584\n",
      "301  6.366090e+14  1.195903e+11 -0.10634\n",
      "\n",
      "[302 rows x 3 columns]\n",
      "                0        1        2\n",
      "0   -4.198200e-01 -0.87764  0.81990\n",
      "1    8.357000e-01 -0.69928  0.31837\n",
      "2    1.199940e+00  1.62761 -0.36481\n",
      "3   -9.063100e-01 -1.06123  0.31740\n",
      "4    7.998100e-01  0.10822 -0.11084\n",
      "..            ...      ...      ...\n",
      "296  1.935483e+15 -0.00640  0.01222\n",
      "297 -2.192002e+15  0.05352  0.05642\n",
      "298  2.482519e+15  0.00004  0.04259\n",
      "299 -2.811540e+15  0.04599  0.04618\n",
      "300  3.184168e+15  0.02661  0.01568\n",
      "\n",
      "[301 rows x 3 columns]\n",
      "           0        1        2\n",
      "0    0.28171 -0.35558 -0.62901\n",
      "1    0.83439 -0.45816 -0.45290\n",
      "2    0.90883 -0.74577  0.49453\n",
      "3   -2.16940 -0.45026  0.70638\n",
      "4    0.43570 -0.38523  0.19863\n",
      "..       ...      ...      ...\n",
      "297  0.13043  0.24307 -0.12513\n",
      "298  0.12121  0.20967 -0.06289\n",
      "299  0.09563  0.21792  0.04335\n",
      "300  0.13720  0.19020  0.04943\n",
      "301  0.07816  0.17228 -0.01894\n",
      "\n",
      "[302 rows x 3 columns]\n",
      "           0        1        2\n",
      "0    0.30262  0.75058  0.46681\n",
      "1   -0.72103  0.76097  0.03110\n",
      "2   -0.56709  0.35764  0.00854\n",
      "3   -0.25652  0.12923  0.05085\n",
      "4   -0.11307  0.03858  0.02720\n",
      "..       ...      ...      ...\n",
      "295 -0.00934 -0.01074  0.04611\n",
      "296 -0.04852 -0.02056  0.02367\n",
      "297  0.00852 -0.04635  0.04119\n",
      "298  0.02807 -0.03378  0.04404\n",
      "299  0.00449 -0.01874  0.04024\n",
      "\n",
      "[300 rows x 3 columns]\n",
      "           0        1        2\n",
      "0   -0.61145 -0.27475 -0.73104\n",
      "1    0.22892  0.83441 -0.00874\n",
      "2    0.32180 -0.01239  0.90182\n",
      "3   -0.13428  0.38269 -0.12067\n",
      "4   -0.13940 -0.18712 -0.67968\n",
      "..       ...      ...      ...\n",
      "297  1.33320  1.82475 -0.13763\n",
      "298  1.21072  1.81403 -0.20074\n",
      "299  1.23018  1.77730 -0.07706\n",
      "300  1.33044  1.76589 -0.06624\n",
      "301  1.11305  1.69739 -0.17461\n",
      "\n",
      "[302 rows x 3 columns]\n",
      "           0        1        2\n",
      "0   -0.51154 -0.34961 -0.12139\n",
      "1   -0.06920  0.16073 -0.09868\n",
      "2   -0.27341 -0.20311 -0.06752\n",
      "3   -0.04375  0.05048 -0.02729\n",
      "4   -0.14965 -0.10104  0.00003\n",
      "..       ...      ...      ...\n",
      "295 -0.07390 -0.06864  0.29056\n",
      "296 -0.05401 -0.05010  0.26993\n",
      "297 -0.04282 -0.05599  0.26688\n",
      "298 -0.02125 -0.04426  0.26613\n",
      "299 -0.03531 -0.05644  0.24793\n",
      "\n",
      "[300 rows x 3 columns]\n",
      "                0             1             2\n",
      "0   -6.784000e-01 -6.155600e-01 -6.566500e-01\n",
      "1    4.621500e-01 -6.579000e-02 -1.711400e-01\n",
      "2   -9.383800e-01 -8.824900e-01 -5.832500e-01\n",
      "3   -2.063640e+00 -7.537800e-01 -6.603200e-01\n",
      "4   -8.102600e-01  7.270000e-03 -5.015800e-01\n",
      "..            ...           ...           ...\n",
      "297 -2.214501e+18 -1.178048e+17 -1.445687e+18\n",
      "298 -2.564196e+18 -1.364075e+17 -1.673978e+18\n",
      "299 -2.969112e+18 -1.579479e+17 -1.938318e+18\n",
      "300 -3.437970e+18 -1.828897e+17 -2.244401e+18\n",
      "301 -3.980865e+18 -2.117701e+17 -2.598818e+18\n",
      "\n",
      "[302 rows x 3 columns]\n"
     ]
    }
   ],
   "source": [
    "for i in range(10):\n",
    "    print(observations[i])"
   ]
  },
  {
   "cell_type": "code",
   "execution_count": 88,
   "metadata": {},
   "outputs": [
    {
     "data": {
      "text/plain": [
       "array([[-0.4116396 ,  0.59918992, -0.05521327, -0.96344891, -0.28722392,\n",
       "         0.41178005, -0.46637332],\n",
       "       [-0.36274806, -0.94912366,  0.70995491, -0.34068037, -0.55014107,\n",
       "         0.73657334, -0.39524943],\n",
       "       [ 0.27294033, -0.52211236, -0.0163236 ,  0.14364735, -0.09822959,\n",
       "         0.61521106,  0.60795329],\n",
       "       [-0.73870347, -0.73798428, -0.84602041,  0.67001708,  0.04804186,\n",
       "        -0.16917231,  0.89916076],\n",
       "       [ 0.92477042,  0.64188493, -0.99546754, -0.45671148, -0.28165316,\n",
       "         0.71274447, -0.58608868],\n",
       "       [-0.00413877, -0.65492847,  0.5151952 ,  0.22311102, -0.85539062,\n",
       "         0.86236875,  0.26217668],\n",
       "       [ 0.31001345,  0.73421258,  0.43562432,  0.59459153, -0.36976323,\n",
       "         0.09532587, -0.83274745]])"
      ]
     },
     "execution_count": 88,
     "metadata": {},
     "output_type": "execute_result"
    }
   ],
   "source": [
    "import numpy as np\n",
    "np.random.rand(7, 7)*2 -1 "
   ]
  },
  {
   "cell_type": "code",
   "execution_count": 18,
   "metadata": {},
   "outputs": [],
   "source": [
    "from statsmodels.tsa.api import VAR\n",
    "import numpy as np\n",
    "#np from txt\n",
    "data = np.loadtxt('linear-VAR_N-3_T-150_0194.txt')\n",
    "# Fit the VAR model\n",
    "model = VAR(data)\n",
    "results = model.fit(maxlags=5, ic='aic')\n",
    "print(results.params)\n"
   ]
  },
  {
   "cell_type": "code",
   "execution_count": 20,
   "metadata": {},
   "outputs": [
    {
     "name": "stdout",
     "output_type": "stream",
     "text": [
      "[[-0.20441909 -0.15274518 -0.1583341 ]\n",
      " [ 0.5377656  -0.08527162 -0.06662733]\n",
      " [-0.00156988  0.20105087  0.12849242]\n",
      " [ 0.05452649  0.05243838  0.06637332]]\n"
     ]
    }
   ],
   "source": []
  }
 ],
 "metadata": {
  "kernelspec": {
   "display_name": "d2c",
   "language": "python",
   "name": "python3"
  },
  "language_info": {
   "codemirror_mode": {
    "name": "ipython",
    "version": 3
   },
   "file_extension": ".py",
   "mimetype": "text/x-python",
   "name": "python",
   "nbconvert_exporter": "python",
   "pygments_lexer": "ipython3",
   "version": "3.8.16"
  },
  "orig_nbformat": 4
 },
 "nbformat": 4,
 "nbformat_minor": 2
}
