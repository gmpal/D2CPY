{
 "cells": [
  {
   "cell_type": "code",
   "execution_count": 1,
   "metadata": {},
   "outputs": [],
   "source": [
    "import numpy as np\n",
    "import pandas as pd\n",
    "import pickle\n",
    "import sys\n",
    "sys.path.append(\"..\")\n",
    "sys.path.append(\"../d2c/\")\n",
    "# Generating random dat+a for the test\n",
    "np.random.seed(42)  # Seed for reproducibility\n",
    "from utils import print_dag, dag_to_formula, show_dag, make_name, mRMR\n",
    "from d2c import D2C\n",
    "\n"
   ]
  },
  {
   "cell_type": "code",
   "execution_count": 2,
   "metadata": {},
   "outputs": [
    {
     "name": "stdout",
     "output_type": "stream",
     "text": [
      "Selected feature indices: [13, 12, 10, 11, 14]\n"
     ]
    }
   ],
   "source": [
    "import numpy as np\n",
    "import pandas as pd\n",
    "from datetime import datetime\n",
    "from sklearn.feature_selection import mutual_info_regression\n",
    "\n",
    "# mRMR function defined here...\n",
    "\n",
    "# Generate synthetic dataset\n",
    "np.random.seed(42)  # For reproducibility\n",
    "\n",
    "n_samples = 500\n",
    "n_relevant_features = 5\n",
    "n_noise_features = 10\n",
    "\n",
    "# Generate a target\n",
    "Y = np.random.randn(n_samples)\n",
    "\n",
    "# Generate relevant features based on Y\n",
    "relevant_features = [Y + np.random.normal(0, 0.1, n_samples) for _ in range(n_relevant_features)]\n",
    "relevant_features = np.array(relevant_features).T\n",
    "\n",
    "# Generate noise features that are just random values\n",
    "noise_features = np.random.randn(n_samples, n_noise_features)\n",
    "\n",
    "# Combine into one feature matrix\n",
    "X = np.hstack([noise_features, relevant_features])\n",
    "X = pd.DataFrame(X)\n",
    "\n",
    "# Test the function\n",
    "selected_indices = mRMR(X, Y, nmax=n_relevant_features)\n",
    "\n",
    "print(\"Selected feature indices:\", selected_indices)\n"
   ]
  },
  {
   "cell_type": "code",
   "execution_count": 3,
   "metadata": {},
   "outputs": [],
   "source": [
    "with open('../data/dag_test.pkl', 'rb') as f:\n",
    "    observations, dags = pickle.load(f)\n",
    "\n"
   ]
  },
  {
   "cell_type": "code",
   "execution_count": 4,
   "metadata": {},
   "outputs": [],
   "source": [
    "chosen = 0"
   ]
  },
  {
   "cell_type": "code",
   "execution_count": 5,
   "metadata": {},
   "outputs": [],
   "source": [
    "dag = dags[chosen]\n",
    "observation = observations[chosen]\n",
    "# updated_dag = updated_dags[chosen]"
   ]
  },
  {
   "cell_type": "code",
   "execution_count": 6,
   "metadata": {},
   "outputs": [
    {
     "name": "stdout",
     "output_type": "stream",
     "text": [
      "####################\n",
      "Node 0 has attributes {'bias': 0, 'sigma': 0.001, 'seed': 42}\n",
      "Node 1 has attributes {'bias': 0, 'sigma': 0.001, 'seed': 42}\n",
      "Node 2 has attributes {'bias': 0, 'sigma': 0.001, 'seed': 42}\n",
      "Node 3 has attributes {'bias': 0, 'sigma': 0.001, 'seed': 42}\n",
      "Node 4 has attributes {'bias': 0, 'sigma': 0.001, 'seed': 42}\n",
      "Node 5 has attributes {'bias': 0, 'sigma': 0.001, 'seed': 42}\n",
      "Node 6 has attributes {'bias': 0, 'sigma': 0.001, 'seed': 42}\n",
      "Node 7 has attributes {'bias': 0, 'sigma': 0.001, 'seed': 42}\n",
      "Node 8 has attributes {'bias': 0, 'sigma': 0.001, 'seed': 42}\n",
      "Node 9 has attributes {'bias': 0, 'sigma': 0.001, 'seed': 42}\n",
      "Edge 0 -> 7 has attributes {'weight': 0.16572, 'H': 'linear'}\n",
      "Edge 1 -> 7 has attributes {'weight': -0.45135, 'H': 'linear'}\n",
      "Edge 3 -> 0 has attributes {'weight': 0.28896, 'H': 'linear'}\n",
      "Edge 3 -> 2 has attributes {'weight': -0.26231, 'H': 'linear'}\n",
      "Edge 3 -> 7 has attributes {'weight': 0.32949, 'H': 'linear'}\n",
      "Edge 4 -> 0 has attributes {'weight': -0.05568, 'H': 'linear'}\n",
      "Edge 5 -> 2 has attributes {'weight': -0.03254, 'H': 'linear'}\n",
      "Edge 5 -> 8 has attributes {'weight': 0.10727, 'H': 'linear'}\n",
      "Edge 6 -> 5 has attributes {'weight': 0.2756, 'H': 'linear'}\n",
      "Edge 6 -> 7 has attributes {'weight': 0.07077, 'H': 'linear'}\n",
      "Edge 8 -> 2 has attributes {'weight': -0.3729, 'H': 'linear'}\n",
      "Edge 8 -> 4 has attributes {'weight': -0.42409, 'H': 'linear'}\n",
      "Edge 9 -> 2 has attributes {'weight': 0.05816, 'H': 'linear'}\n",
      "Edge 9 -> 6 has attributes {'weight': 0.22073, 'H': 'linear'}\n"
     ]
    }
   ],
   "source": [
    "print_dag(dag)"
   ]
  },
  {
   "cell_type": "code",
   "execution_count": 7,
   "metadata": {},
   "outputs": [
    {
     "name": "stdout",
     "output_type": "stream",
     "text": [
      "1 = 0\n",
      "3 = 0\n",
      "9 = 0\n",
      "6 = 0.22073*9 + 0\n",
      "5 = 0.2756*6 + 0\n",
      "8 = 0.10727*5 + 0\n",
      "2 = -0.26231*3 + -0.03254*5 + -0.3729*8 + 0.05816*9 + 0\n",
      "4 = -0.42409*8 + 0\n",
      "0 = 0.28896*3 + -0.05568*4 + 0\n",
      "7 = 0.16572*0 + -0.45135*1 + 0.32949*3 + 0.07077*6 + 0\n",
      "\n"
     ]
    }
   ],
   "source": [
    "dag_to_formula(dag)"
   ]
  },
  {
   "cell_type": "code",
   "execution_count": 8,
   "metadata": {},
   "outputs": [
    {
     "data": {
      "image/svg+xml": "<?xml version=\"1.0\" encoding=\"UTF-8\" standalone=\"no\"?>\n<!DOCTYPE svg PUBLIC \"-//W3C//DTD SVG 1.1//EN\"\n \"http://www.w3.org/Graphics/SVG/1.1/DTD/svg11.dtd\">\n<!-- Generated by graphviz version 2.50.0 (0)\n -->\n<!-- Pages: 1 -->\n<svg width=\"310pt\" height=\"476pt\"\n viewBox=\"0.00 0.00 310.00 476.00\" xmlns=\"http://www.w3.org/2000/svg\" xmlns:xlink=\"http://www.w3.org/1999/xlink\">\n<g id=\"graph0\" class=\"graph\" transform=\"scale(1 1) rotate(0) translate(4 472)\">\n<polygon fill=\"white\" stroke=\"transparent\" points=\"-4,4 -4,-472 306,-472 306,4 -4,4\"/>\n<!-- 0 -->\n<g id=\"node1\" class=\"node\">\n<title>0</title>\n<ellipse fill=\"none\" stroke=\"black\" cx=\"137\" cy=\"-90\" rx=\"27\" ry=\"18\"/>\n<text text-anchor=\"middle\" x=\"137\" y=\"-86.3\" font-family=\"Times New Roman,serif\" font-size=\"14.00\">0</text>\n</g>\n<!-- 7 -->\n<g id=\"node8\" class=\"node\">\n<title>7</title>\n<ellipse fill=\"none\" stroke=\"black\" cx=\"109\" cy=\"-18\" rx=\"27\" ry=\"18\"/>\n<text text-anchor=\"middle\" x=\"109\" y=\"-14.3\" font-family=\"Times New Roman,serif\" font-size=\"14.00\">7</text>\n</g>\n<!-- 0&#45;&gt;7 -->\n<g id=\"edge1\" class=\"edge\">\n<title>0&#45;&gt;7</title>\n<path fill=\"none\" stroke=\"black\" d=\"M130.36,-72.41C127.09,-64.22 123.06,-54.14 119.38,-44.95\"/>\n<polygon fill=\"black\" stroke=\"black\" points=\"122.55,-43.45 115.59,-35.47 116.05,-46.05 122.55,-43.45\"/>\n</g>\n<!-- 1 -->\n<g id=\"node2\" class=\"node\">\n<title>1</title>\n<ellipse fill=\"none\" stroke=\"black\" cx=\"27\" cy=\"-90\" rx=\"27\" ry=\"18\"/>\n<text text-anchor=\"middle\" x=\"27\" y=\"-86.3\" font-family=\"Times New Roman,serif\" font-size=\"14.00\">1</text>\n</g>\n<!-- 1&#45;&gt;7 -->\n<g id=\"edge2\" class=\"edge\">\n<title>1&#45;&gt;7</title>\n<path fill=\"none\" stroke=\"black\" d=\"M43.2,-75.17C55.18,-64.94 71.69,-50.85 85.18,-39.34\"/>\n<polygon fill=\"black\" stroke=\"black\" points=\"87.78,-41.72 93.11,-32.56 83.23,-36.39 87.78,-41.72\"/>\n</g>\n<!-- 2 -->\n<g id=\"node3\" class=\"node\">\n<title>2</title>\n<ellipse fill=\"none\" stroke=\"black\" cx=\"175\" cy=\"-162\" rx=\"27\" ry=\"18\"/>\n<text text-anchor=\"middle\" x=\"175\" y=\"-158.3\" font-family=\"Times New Roman,serif\" font-size=\"14.00\">2</text>\n</g>\n<!-- 3 -->\n<g id=\"node4\" class=\"node\">\n<title>3</title>\n<ellipse fill=\"none\" stroke=\"black\" cx=\"99\" cy=\"-234\" rx=\"27\" ry=\"18\"/>\n<text text-anchor=\"middle\" x=\"99\" y=\"-230.3\" font-family=\"Times New Roman,serif\" font-size=\"14.00\">3</text>\n</g>\n<!-- 3&#45;&gt;0 -->\n<g id=\"edge3\" class=\"edge\">\n<title>3&#45;&gt;0</title>\n<path fill=\"none\" stroke=\"black\" d=\"M103.51,-216.15C110.02,-191.81 122.13,-146.57 129.86,-117.67\"/>\n<polygon fill=\"black\" stroke=\"black\" points=\"133.29,-118.39 132.5,-107.82 126.53,-116.58 133.29,-118.39\"/>\n</g>\n<!-- 3&#45;&gt;2 -->\n<g id=\"edge4\" class=\"edge\">\n<title>3&#45;&gt;2</title>\n<path fill=\"none\" stroke=\"black\" d=\"M114.38,-218.83C125.2,-208.87 139.86,-195.37 152.05,-184.14\"/>\n<polygon fill=\"black\" stroke=\"black\" points=\"154.66,-186.49 159.64,-177.14 149.92,-181.34 154.66,-186.49\"/>\n</g>\n<!-- 3&#45;&gt;7 -->\n<g id=\"edge5\" class=\"edge\">\n<title>3&#45;&gt;7</title>\n<path fill=\"none\" stroke=\"black\" d=\"M98.43,-215.57C97.65,-185.99 96.76,-124.1 101,-72 101.69,-63.52 102.91,-54.34 104.19,-46.04\"/>\n<polygon fill=\"black\" stroke=\"black\" points=\"107.65,-46.55 105.81,-36.12 100.74,-45.42 107.65,-46.55\"/>\n</g>\n<!-- 4 -->\n<g id=\"node5\" class=\"node\">\n<title>4</title>\n<ellipse fill=\"none\" stroke=\"black\" cx=\"247\" cy=\"-162\" rx=\"27\" ry=\"18\"/>\n<text text-anchor=\"middle\" x=\"247\" y=\"-158.3\" font-family=\"Times New Roman,serif\" font-size=\"14.00\">4</text>\n</g>\n<!-- 4&#45;&gt;0 -->\n<g id=\"edge6\" class=\"edge\">\n<title>4&#45;&gt;0</title>\n<path fill=\"none\" stroke=\"black\" d=\"M227.84,-148.81C210.33,-137.67 184.24,-121.06 164.51,-108.5\"/>\n<polygon fill=\"black\" stroke=\"black\" points=\"166.26,-105.47 155.94,-103.05 162.5,-111.37 166.26,-105.47\"/>\n</g>\n<!-- 5 -->\n<g id=\"node6\" class=\"node\">\n<title>5</title>\n<ellipse fill=\"none\" stroke=\"black\" cx=\"228\" cy=\"-306\" rx=\"27\" ry=\"18\"/>\n<text text-anchor=\"middle\" x=\"228\" y=\"-302.3\" font-family=\"Times New Roman,serif\" font-size=\"14.00\">5</text>\n</g>\n<!-- 5&#45;&gt;2 -->\n<g id=\"edge7\" class=\"edge\">\n<title>5&#45;&gt;2</title>\n<path fill=\"none\" stroke=\"black\" d=\"M221.82,-288.43C212.73,-264.09 195.68,-218.4 184.85,-189.4\"/>\n<polygon fill=\"black\" stroke=\"black\" points=\"188.08,-188.05 181.31,-179.9 181.53,-190.49 188.08,-188.05\"/>\n</g>\n<!-- 8 -->\n<g id=\"node9\" class=\"node\">\n<title>8</title>\n<ellipse fill=\"none\" stroke=\"black\" cx=\"247\" cy=\"-234\" rx=\"27\" ry=\"18\"/>\n<text text-anchor=\"middle\" x=\"247\" y=\"-230.3\" font-family=\"Times New Roman,serif\" font-size=\"14.00\">8</text>\n</g>\n<!-- 5&#45;&gt;8 -->\n<g id=\"edge8\" class=\"edge\">\n<title>5&#45;&gt;8</title>\n<path fill=\"none\" stroke=\"black\" d=\"M232.6,-288.05C234.75,-280.14 237.35,-270.54 239.76,-261.69\"/>\n<polygon fill=\"black\" stroke=\"black\" points=\"243.2,-262.36 242.44,-251.79 236.45,-260.52 243.2,-262.36\"/>\n</g>\n<!-- 6 -->\n<g id=\"node7\" class=\"node\">\n<title>6</title>\n<ellipse fill=\"none\" stroke=\"black\" cx=\"228\" cy=\"-378\" rx=\"27\" ry=\"18\"/>\n<text text-anchor=\"middle\" x=\"228\" y=\"-374.3\" font-family=\"Times New Roman,serif\" font-size=\"14.00\">6</text>\n</g>\n<!-- 6&#45;&gt;5 -->\n<g id=\"edge9\" class=\"edge\">\n<title>6&#45;&gt;5</title>\n<path fill=\"none\" stroke=\"black\" d=\"M228,-359.7C228,-351.98 228,-342.71 228,-334.11\"/>\n<polygon fill=\"black\" stroke=\"black\" points=\"231.5,-334.1 228,-324.1 224.5,-334.1 231.5,-334.1\"/>\n</g>\n<!-- 6&#45;&gt;7 -->\n<g id=\"edge10\" class=\"edge\">\n<title>6&#45;&gt;7</title>\n<path fill=\"none\" stroke=\"black\" d=\"M241.92,-362.16C263.35,-337.68 302,-286.43 302,-235 302,-235 302,-235 302,-161 302,-83.46 199.68,-43.55 144.04,-27.59\"/>\n<polygon fill=\"black\" stroke=\"black\" points=\"144.8,-24.17 134.23,-24.88 142.94,-30.91 144.8,-24.17\"/>\n</g>\n<!-- 8&#45;&gt;2 -->\n<g id=\"edge11\" class=\"edge\">\n<title>8&#45;&gt;2</title>\n<path fill=\"none\" stroke=\"black\" d=\"M232.43,-218.83C222.25,-208.94 208.48,-195.55 196.97,-184.36\"/>\n<polygon fill=\"black\" stroke=\"black\" points=\"199.41,-181.85 189.8,-177.38 194.53,-186.87 199.41,-181.85\"/>\n</g>\n<!-- 8&#45;&gt;4 -->\n<g id=\"edge12\" class=\"edge\">\n<title>8&#45;&gt;4</title>\n<path fill=\"none\" stroke=\"black\" d=\"M247,-215.7C247,-207.98 247,-198.71 247,-190.11\"/>\n<polygon fill=\"black\" stroke=\"black\" points=\"250.5,-190.1 247,-180.1 243.5,-190.1 250.5,-190.1\"/>\n</g>\n<!-- 9 -->\n<g id=\"node10\" class=\"node\">\n<title>9</title>\n<ellipse fill=\"none\" stroke=\"black\" cx=\"200\" cy=\"-450\" rx=\"27\" ry=\"18\"/>\n<text text-anchor=\"middle\" x=\"200\" y=\"-446.3\" font-family=\"Times New Roman,serif\" font-size=\"14.00\">9</text>\n</g>\n<!-- 9&#45;&gt;2 -->\n<g id=\"edge13\" class=\"edge\">\n<title>9&#45;&gt;2</title>\n<path fill=\"none\" stroke=\"black\" d=\"M197.07,-431.86C195.39,-421.5 193.34,-408.02 192,-396 183.69,-321.68 178.53,-233.55 176.3,-190.06\"/>\n<polygon fill=\"black\" stroke=\"black\" points=\"179.79,-189.81 175.79,-180 172.8,-190.16 179.79,-189.81\"/>\n</g>\n<!-- 9&#45;&gt;6 -->\n<g id=\"edge14\" class=\"edge\">\n<title>9&#45;&gt;6</title>\n<path fill=\"none\" stroke=\"black\" d=\"M206.64,-432.41C209.91,-424.22 213.94,-414.14 217.62,-404.95\"/>\n<polygon fill=\"black\" stroke=\"black\" points=\"220.95,-406.05 221.41,-395.47 214.45,-403.45 220.95,-406.05\"/>\n</g>\n</g>\n</svg>\n",
      "text/plain": [
       "<graphviz.graphs.Digraph at 0x257bc4f82e0>"
      ]
     },
     "execution_count": 8,
     "metadata": {},
     "output_type": "execute_result"
    }
   ],
   "source": [
    "show_dag(dag)"
   ]
  },
  {
   "cell_type": "code",
   "execution_count": 9,
   "metadata": {},
   "outputs": [],
   "source": [
    "# Test 1/4 MB with DAG, no constraint on MB_size \n",
    "# Test 2/4 MB with DAG, constraint on MB_size\n",
    "# Test 3/4 MB without DAG, no constraint on MB_size\n",
    "# Test 4/4 MB without DAG, constraint on MB_size"
   ]
  },
  {
   "cell_type": "code",
   "execution_count": 10,
   "metadata": {},
   "outputs": [],
   "source": [
    "#Test 1"
   ]
  },
  {
   "cell_type": "code",
   "execution_count": 11,
   "metadata": {},
   "outputs": [],
   "source": [
    "d2c = D2C(dags, observations)"
   ]
  },
  {
   "cell_type": "code",
   "execution_count": 12,
   "metadata": {},
   "outputs": [
    {
     "name": "stdout",
     "output_type": "stream",
     "text": [
      "MB for node 0: [1, 3, 4, 6, 7]\n",
      "MB for node 1: [0, 3, 6, 7]\n",
      "MB for node 2: [8, 9, 3, 5]\n",
      "MB for node 3: [0, 1, 2, 4, 5, 6, 7, 8, 9]\n",
      "MB for node 4: [8, 0, 3]\n",
      "MB for node 5: [2, 3, 6, 8, 9]\n",
      "MB for node 6: [0, 1, 3, 5, 7, 9]\n",
      "MB for node 7: [0, 1, 3, 6]\n",
      "MB for node 8: [2, 3, 4, 5, 9]\n",
      "MB for node 9: [2, 3, 5, 6, 8]\n"
     ]
    }
   ],
   "source": [
    "mbs = []\n",
    "for i in range(observations[chosen].shape[1]):\n",
    "    print('MB for node', i, end=': ')\n",
    "    result = d2c.compute_markov_blanket(chosen, observation,i, MB_size=10)\n",
    "    mbs.append(result)\n",
    "    print(result)\n"
   ]
  },
  {
   "cell_type": "code",
   "execution_count": 13,
   "metadata": {},
   "outputs": [],
   "source": [
    "# Test 2"
   ]
  },
  {
   "cell_type": "code",
   "execution_count": 14,
   "metadata": {},
   "outputs": [
    {
     "name": "stdout",
     "output_type": "stream",
     "text": [
      "MB for node 0: [1, 4, 7]\n",
      "MB for node 1: [3, 6, 7]\n",
      "MB for node 2: [8, 5, 3]\n",
      "MB for node 3: [4, 5, 9]\n",
      "MB for node 4: [8, 0, 3]\n",
      "MB for node 5: [2, 8, 3]\n",
      "MB for node 6: [3, 5, 1]\n",
      "MB for node 7: [3, 6, 0]\n",
      "MB for node 8: [4, 3, 9]\n",
      "MB for node 9: [6, 3, 5]\n"
     ]
    }
   ],
   "source": [
    "mbs = []\n",
    "for i in range(observations[chosen].shape[1]):\n",
    "    print('MB for node', i, end=': ')\n",
    "    result = d2c.compute_markov_blanket(chosen, observation,i, MB_size=3)\n",
    "    mbs.append(result)\n",
    "    print(result)\n"
   ]
  },
  {
   "cell_type": "code",
   "execution_count": 15,
   "metadata": {},
   "outputs": [],
   "source": [
    "#Test 3\n"
   ]
  },
  {
   "cell_type": "code",
   "execution_count": 16,
   "metadata": {},
   "outputs": [],
   "source": [
    "d2c = D2C(None, observations)"
   ]
  },
  {
   "cell_type": "code",
   "execution_count": 17,
   "metadata": {},
   "outputs": [
    {
     "name": "stdout",
     "output_type": "stream",
     "text": [
      "[7, 4, 8]\n",
      "[7, 3, 2]\n",
      "[5, 6, 9]\n",
      "[2, 7, 1]\n",
      "[8, 0, 5]\n",
      "[6, 2, 9]\n",
      "[5, 9, 2]\n",
      "[0, 1, 6]\n",
      "[4, 5, 9]\n",
      "[6, 2, 5]\n"
     ]
    }
   ],
   "source": [
    "mbs = []\n",
    "for i in range(observations[chosen].shape[1]):\n",
    "    # print('MB for node', i, end=': ')\n",
    "    result = d2c.compute_markov_blanket(chosen, observation,i, MB_size=3)\n",
    "    mbs.append(result)\n",
    "    print(result)\n"
   ]
  },
  {
   "cell_type": "code",
   "execution_count": 18,
   "metadata": {},
   "outputs": [
    {
     "data": {
      "text/plain": [
       "[[7, 4, 8],\n",
       " [7, 3, 2],\n",
       " [5, 6, 9],\n",
       " [2, 7, 1],\n",
       " [8, 0, 5],\n",
       " [6, 2, 9],\n",
       " [5, 9, 2],\n",
       " [0, 1, 6],\n",
       " [4, 5, 9],\n",
       " [6, 2, 5]]"
      ]
     },
     "execution_count": 18,
     "metadata": {},
     "output_type": "execute_result"
    }
   ],
   "source": [
    "mbs"
   ]
  }
 ],
 "metadata": {
  "kernelspec": {
   "display_name": "d2c",
   "language": "python",
   "name": "python3"
  },
  "language_info": {
   "codemirror_mode": {
    "name": "ipython",
    "version": 3
   },
   "file_extension": ".py",
   "mimetype": "text/x-python",
   "name": "python",
   "nbconvert_exporter": "python",
   "pygments_lexer": "ipython3",
   "version": "3.8.16"
  },
  "orig_nbformat": 4
 },
 "nbformat": 4,
 "nbformat_minor": 2
}
