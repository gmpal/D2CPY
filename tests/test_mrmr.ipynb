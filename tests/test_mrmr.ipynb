{
 "cells": [
  {
   "cell_type": "code",
   "execution_count": 1,
   "metadata": {},
   "outputs": [],
   "source": [
    "import numpy as np\n",
    "import pandas as pd\n",
    "import pickle\n",
    "import sys\n",
    "sys.path.append(\"..\")\n",
    "sys.path.append(\"../d2c/\")\n",
    "# Generating random dat+a for the test\n",
    "np.random.seed(42)  # Seed for reproducibility\n",
    "from utils import print_dag, dag_to_formula, show_dag, make_name, mRMR\n",
    "from d2c import D2C\n",
    "\n"
   ]
  },
  {
   "cell_type": "code",
   "execution_count": 3,
   "metadata": {},
   "outputs": [
    {
     "name": "stdout",
     "output_type": "stream",
     "text": [
      "Selected feature indices: [3, 2, 0, 1, 4]\n"
     ]
    }
   ],
   "source": [
    "import numpy as np\n",
    "import pandas as pd\n",
    "from datetime import datetime\n",
    "from sklearn.feature_selection import mutual_info_regression\n",
    "\n",
    "# mRMR function defined here...\n",
    "\n",
    "# Generate synthetic dataset\n",
    "np.random.seed(42)  # For reproducibility\n",
    "\n",
    "n_samples = 500\n",
    "n_relevant_features = 5\n",
    "n_noise_features = 10\n",
    "\n",
    "# Generate a target\n",
    "Y = np.random.randn(n_samples)\n",
    "\n",
    "# Generate relevant features based on Y\n",
    "relevant_features = [Y + np.random.normal(0, 0.1, n_samples) for _ in range(n_relevant_features)]\n",
    "relevant_features = np.array(relevant_features).T\n",
    "\n",
    "# Generate noise features that are just random values\n",
    "noise_features = np.random.randn(n_samples, n_noise_features)\n",
    "\n",
    "# Combine into one feature matrix\n",
    "X = np.hstack([noise_features, relevant_features])\n",
    "X = pd.DataFrame(X)\n",
    "\n",
    "# Test the function\n",
    "selected_indices = mRMR(X, Y, nmax=n_relevant_features)\n",
    "\n",
    "print(\"Selected feature indices:\", selected_indices)\n"
   ]
  },
  {
   "cell_type": "code",
   "execution_count": null,
   "metadata": {},
   "outputs": [],
   "source": [
    "with open('../data/dag_test.pkl', 'rb') as f:\n",
    "    observations, dags = pickle.load(f)\n",
    "\n"
   ]
  },
  {
   "cell_type": "code",
   "execution_count": null,
   "metadata": {},
   "outputs": [],
   "source": [
    "chosen = 0"
   ]
  },
  {
   "cell_type": "code",
   "execution_count": null,
   "metadata": {},
   "outputs": [],
   "source": [
    "dag = dags[chosen]\n",
    "observation = observations[chosen]\n",
    "# updated_dag = updated_dags[chosen]"
   ]
  },
  {
   "cell_type": "code",
   "execution_count": null,
   "metadata": {},
   "outputs": [],
   "source": [
    "print_dag(dag)"
   ]
  },
  {
   "cell_type": "code",
   "execution_count": null,
   "metadata": {},
   "outputs": [],
   "source": [
    "dag_to_formula(dag)"
   ]
  },
  {
   "cell_type": "code",
   "execution_count": null,
   "metadata": {},
   "outputs": [],
   "source": [
    "show_dag(dag)"
   ]
  },
  {
   "cell_type": "code",
   "execution_count": null,
   "metadata": {},
   "outputs": [],
   "source": [
    "# Test 1/4 MB with DAG, no constraint on MB_size \n",
    "# Test 2/4 MB with DAG, constraint on MB_size\n",
    "# Test 3/4 MB without DAG, no constraint on MB_size\n",
    "# Test 4/4 MB without DAG, constraint on MB_size"
   ]
  },
  {
   "cell_type": "code",
   "execution_count": null,
   "metadata": {},
   "outputs": [],
   "source": [
    "#Test 1"
   ]
  },
  {
   "cell_type": "code",
   "execution_count": null,
   "metadata": {},
   "outputs": [],
   "source": [
    "d2c = D2C(dags, observations)"
   ]
  },
  {
   "cell_type": "code",
   "execution_count": null,
   "metadata": {},
   "outputs": [],
   "source": [
    "mbs = []\n",
    "for i in range(observations[chosen].shape[1]):\n",
    "    print('MB for node', i, end=': ')\n",
    "    result = d2c.compute_markov_blanket(chosen, observation,i, MB_size=10)\n",
    "    mbs.append(result)\n",
    "    print(result)\n"
   ]
  },
  {
   "cell_type": "code",
   "execution_count": null,
   "metadata": {},
   "outputs": [],
   "source": [
    "# Test 2"
   ]
  },
  {
   "cell_type": "code",
   "execution_count": null,
   "metadata": {},
   "outputs": [],
   "source": [
    "mbs = []\n",
    "for i in range(observations[chosen].shape[1]):\n",
    "    print('MB for node', i, end=': ')\n",
    "    result = d2c.compute_markov_blanket(chosen, observation,i, MB_size=3)\n",
    "    mbs.append(result)\n",
    "    print(result)\n"
   ]
  },
  {
   "cell_type": "code",
   "execution_count": null,
   "metadata": {},
   "outputs": [],
   "source": [
    "#Test 3\n"
   ]
  },
  {
   "cell_type": "code",
   "execution_count": null,
   "metadata": {},
   "outputs": [],
   "source": [
    "d2c = D2C(None, observations)"
   ]
  },
  {
   "cell_type": "code",
   "execution_count": null,
   "metadata": {},
   "outputs": [],
   "source": [
    "mbs = []\n",
    "for i in range(observations[chosen].shape[1]):\n",
    "    # print('MB for node', i, end=': ')\n",
    "    result = d2c.compute_markov_blanket(chosen, observation,i, MB_size=3)\n",
    "    mbs.append(result)\n",
    "    print(result)\n"
   ]
  },
  {
   "cell_type": "code",
   "execution_count": null,
   "metadata": {},
   "outputs": [],
   "source": [
    "mbs"
   ]
  }
 ],
 "metadata": {
  "kernelspec": {
   "display_name": "d2c",
   "language": "python",
   "name": "python3"
  },
  "language_info": {
   "codemirror_mode": {
    "name": "ipython",
    "version": 3
   },
   "file_extension": ".py",
   "mimetype": "text/x-python",
   "name": "python",
   "nbconvert_exporter": "python",
   "pygments_lexer": "ipython3",
   "version": "3.8.16"
  },
  "orig_nbformat": 4
 },
 "nbformat": 4,
 "nbformat_minor": 2
}
