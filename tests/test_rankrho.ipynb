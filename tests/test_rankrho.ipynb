{
 "cells": [
  {
   "cell_type": "code",
   "execution_count": 1,
   "metadata": {},
   "outputs": [],
   "source": [
    "import numpy as np\n",
    "import pandas as pd\n",
    "import pickle\n",
    "import sys\n",
    "sys.path.append(\"..\")\n",
    "sys.path.append(\"../d2c/\")\n",
    "# Generating random data for the test\n",
    "np.random.seed(42)  # Seed for reproducibility\n",
    "from utils import *\n",
    "from d2c import D2C\n",
    "\n"
   ]
  },
  {
   "cell_type": "code",
   "execution_count": 2,
   "metadata": {},
   "outputs": [],
   "source": [
    "def jaccard_similarity(set_a, set_b):\n",
    "    \"\"\"Compute the Jaccard similarity between two sets.\"\"\"\n",
    "    intersection_len = len(set_a.intersection(set_b))\n",
    "    union_len = len(set_a.union(set_b))\n",
    "    return intersection_len / union_len\n"
   ]
  },
  {
   "cell_type": "code",
   "execution_count": 3,
   "metadata": {},
   "outputs": [],
   "source": [
    "def generate_data(n_samples, n_features, top_k_features):\n",
    "    # Step 1: Generate Y\n",
    "    Y = np.random.rand(n_samples)\n",
    "\n",
    "    # Step 2: Generate Columns of X\n",
    "    X = []\n",
    "    for i in range(n_features):\n",
    "        if i < top_k_features:  # these columns will be related to Y\n",
    "            factor = np.random.rand()  # random factor\n",
    "            noise = np.random.rand(n_samples) * 0.05  # small noise to make it not perfectly correlated\n",
    "            X.append(Y * factor + noise)\n",
    "        else:\n",
    "            X.append(np.random.rand(n_samples))\n",
    "    X = np.array(X).T\n",
    "\n",
    "    return pd.DataFrame(X), pd.Series(Y)"
   ]
  },
  {
   "cell_type": "code",
   "execution_count": 4,
   "metadata": {},
   "outputs": [
    {
     "name": "stdout",
     "output_type": "stream",
     "text": [
      "All tests passed!\n"
     ]
    }
   ],
   "source": [
    "nmax = 10\n",
    "# Number of times the test will run\n",
    "num_iterations = 100\n",
    "\n",
    "# Expected result\n",
    "expected_features = set(range(1, nmax + 1))\n",
    "\n",
    "# Threshold for Jaccard similarity\n",
    "similarity_threshold = 0.65\n",
    "\n",
    "for i in range(num_iterations):\n",
    "    X, Y = generate_data(100, 100, nmax)\n",
    "    top_features = rankrho(X, Y, nmax=nmax, regr=False)\n",
    "    \n",
    "    # Check the Jaccard similarity between top features and expected features\n",
    "    similarity = jaccard_similarity(set(top_features), expected_features)\n",
    "    assert similarity >= similarity_threshold, f\"Failed at iteration {i} with Jaccard similarity of {similarity:.2f}\"\n",
    "\n",
    "print(\"All tests passed!\")"
   ]
  },
  {
   "cell_type": "code",
   "execution_count": 8,
   "metadata": {},
   "outputs": [
    {
     "name": "stdout",
     "output_type": "stream",
     "text": [
      "All tests passed!\n"
     ]
    }
   ],
   "source": [
    "nmax = 10\n",
    "# Number of times the test will run\n",
    "num_iterations = 50\n",
    "\n",
    "expected_features = set(range(1, nmax + 1))\n",
    "\n",
    "# Threshold for Jaccard similarity\n",
    "similarity_threshold = 0.8\n",
    "\n",
    "for i in range(num_iterations):\n",
    "    X, Y = generate_data(100, 100, nmax)\n",
    "    top_features = rankrho(X, Y, nmax=nmax, regr=True)\n",
    "\n",
    "     # Check the Jaccard similarity between top features and expected features\n",
    "    similarity = jaccard_similarity(set(top_features), expected_features)\n",
    "    assert similarity >= similarity_threshold, f\"Failed at iteration {i} with Jaccard similarity of {similarity:.2f}\"\n",
    "\n",
    "print(\"All tests passed!\")"
   ]
  }
 ],
 "metadata": {
  "kernelspec": {
   "display_name": "d2c",
   "language": "python",
   "name": "python3"
  },
  "language_info": {
   "codemirror_mode": {
    "name": "ipython",
    "version": 3
   },
   "file_extension": ".py",
   "mimetype": "text/x-python",
   "name": "python",
   "nbconvert_exporter": "python",
   "pygments_lexer": "ipython3",
   "version": "3.8.16"
  },
  "orig_nbformat": 4
 },
 "nbformat": 4,
 "nbformat_minor": 2
}
