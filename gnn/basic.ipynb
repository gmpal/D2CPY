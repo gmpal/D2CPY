{
 "cells": [
  {
   "cell_type": "code",
   "execution_count": 12,
   "metadata": {},
   "outputs": [],
   "source": [
    "import torch\n",
    "import torch.nn.functional as F\n",
    "from torch_geometric.nn import GCNConv\n",
    "from torch_geometric.data import Data\n"
   ]
  },
  {
   "cell_type": "code",
   "execution_count": 13,
   "metadata": {},
   "outputs": [],
   "source": [
    "class GNN(torch.nn.Module):\n",
    "    def __init__(self, hidden_channels):\n",
    "        super(GNN, self).__init__()\n",
    "        self.conv1 = GCNConv(2, hidden_channels)\n",
    "        self.conv2 = GCNConv(hidden_channels, 2) # 2 classes (causal, non-causal)\n",
    "\n",
    "    def forward(self, x, edge_index):\n",
    "        x = self.conv1(x, edge_index)\n",
    "        x = x.relu()\n",
    "        x = F.dropout(x, p=0.5, training=self.training)\n",
    "        x = self.conv2(x, edge_index)\n",
    "        return x\n"
   ]
  },
  {
   "cell_type": "code",
   "execution_count": 14,
   "metadata": {},
   "outputs": [],
   "source": [
    "# Example data (difference of mean and difference of std for edges)\n",
    "edge_features = torch.tensor([\n",
    "    [0.2, 0.1], # edge 0 -> 1\n",
    "    [-0.3, 0.2], # edge 1 -> 2\n",
    "    [0.1, -0.2], # edge 2 -> 0\n",
    "], dtype=torch.float)\n",
    "\n",
    "# Edge index (source -> target)\n",
    "edge_index = torch.tensor([\n",
    "    [0, 1, 2],\n",
    "    [1, 2, 0],\n",
    "], dtype=torch.long)\n",
    "\n",
    "# Define Graph\n",
    "data = Data(x=edge_features, edge_index=edge_index)\n",
    "\n",
    "# Labels for the edges (1 = causal, 0 = non-causal)\n",
    "edge_labels = torch.tensor([1, 0, 1], dtype=torch.long)\n"
   ]
  },
  {
   "cell_type": "code",
   "execution_count": 15,
   "metadata": {},
   "outputs": [
    {
     "name": "stdout",
     "output_type": "stream",
     "text": [
      "Epoch 0, Loss 0.6931743025779724\n",
      "Epoch 10, Loss 0.6460168361663818\n",
      "Epoch 20, Loss 0.6297574043273926\n",
      "Epoch 30, Loss 0.5344840884208679\n",
      "Epoch 40, Loss 0.509902834892273\n",
      "Epoch 50, Loss 0.4772721827030182\n",
      "Epoch 60, Loss 0.5411622524261475\n",
      "Epoch 70, Loss 0.5012961030006409\n",
      "Epoch 80, Loss 0.578216016292572\n",
      "Epoch 90, Loss 0.5210465788841248\n",
      "Epoch 100, Loss 0.3169881999492645\n",
      "Epoch 110, Loss 0.4279502332210541\n",
      "Epoch 120, Loss 0.5111482739448547\n",
      "Epoch 130, Loss 0.345454603433609\n",
      "Epoch 140, Loss 0.2688114047050476\n",
      "Epoch 150, Loss 0.5245887637138367\n",
      "Epoch 160, Loss 0.2210673838853836\n",
      "Epoch 170, Loss 0.30617836117744446\n",
      "Epoch 180, Loss 0.3048185408115387\n",
      "Epoch 190, Loss 0.4811214208602905\n"
     ]
    }
   ],
   "source": [
    "# Define model and optimizer\n",
    "model = GNN(hidden_channels=16)\n",
    "optimizer = torch.optim.Adam(model.parameters(), lr=0.01)\n",
    "\n",
    "# Training loop\n",
    "model.train()\n",
    "for epoch in range(200):\n",
    "    optimizer.zero_grad()\n",
    "    out = model(data.x, data.edge_index)\n",
    "    loss = F.cross_entropy(out[data.edge_index[0]], edge_labels)\n",
    "    loss.backward()\n",
    "    optimizer.step()\n",
    "    if epoch % 10 == 0:\n",
    "        print(f'Epoch {epoch}, Loss {loss.item()}')\n"
   ]
  },
  {
   "cell_type": "code",
   "execution_count": 16,
   "metadata": {},
   "outputs": [],
   "source": [
    "# New edge features for evaluation\n",
    "eval_edge_features = torch.tensor([\n",
    "    [0.3, 0.1],  # edge 0 -> 1\n",
    "    [-0.4, 0.2], # edge 1 -> 2\n",
    "    [0.15, -0.2],# edge 2 -> 0\n",
    "], dtype=torch.float)\n",
    "\n",
    "# Edge index for evaluation (same as training, but can be different)\n",
    "eval_edge_index = torch.tensor([\n",
    "    [0, 1, 2],\n",
    "    [1, 2, 0],\n",
    "], dtype=torch.long)\n",
    "\n",
    "# Define Graph for Evaluation\n",
    "eval_data = Data(x=eval_edge_features, edge_index=eval_edge_index)\n"
   ]
  },
  {
   "cell_type": "code",
   "execution_count": 17,
   "metadata": {},
   "outputs": [
    {
     "name": "stdout",
     "output_type": "stream",
     "text": [
      "tensor([1, 0, 1])\n"
     ]
    }
   ],
   "source": [
    "# Set the model to evaluation mode\n",
    "model.eval()\n",
    "\n",
    "# Make predictions using the evaluation data\n",
    "with torch.no_grad():\n",
    "    predictions = model(eval_data.x, eval_data.edge_index)\n",
    "\n",
    "# Convert the predictions to probabilities using the softmax function\n",
    "probs = F.softmax(predictions, dim=1)\n",
    "\n",
    "# Get the class with the highest probability\n",
    "predicted_labels = torch.argmax(probs, dim=1)\n",
    "\n",
    "# Print the Predicted Labels\n",
    "print(predicted_labels)\n"
   ]
  }
 ],
 "metadata": {
  "kernelspec": {
   "display_name": "d2c",
   "language": "python",
   "name": "python3"
  },
  "language_info": {
   "codemirror_mode": {
    "name": "ipython",
    "version": 3
   },
   "file_extension": ".py",
   "mimetype": "text/x-python",
   "name": "python",
   "nbconvert_exporter": "python",
   "pygments_lexer": "ipython3",
   "version": "3.8.16"
  },
  "orig_nbformat": 4
 },
 "nbformat": 4,
 "nbformat_minor": 2
}
