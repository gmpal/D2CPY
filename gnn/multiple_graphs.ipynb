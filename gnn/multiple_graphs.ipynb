{
 "cells": [
  {
   "cell_type": "code",
   "execution_count": 4,
   "metadata": {},
   "outputs": [],
   "source": [
    "import torch\n",
    "import torch.nn.functional as F\n",
    "from torch_geometric.nn import GCNConv\n",
    "from torch_geometric.data import Data\n",
    "from torch_geometric.data import Batch\n"
   ]
  },
  {
   "cell_type": "code",
   "execution_count": 5,
   "metadata": {},
   "outputs": [],
   "source": [
    "class GNN(torch.nn.Module):\n",
    "    def __init__(self, hidden_channels):\n",
    "        super(GNN, self).__init__()\n",
    "        self.conv1 = GCNConv(2, hidden_channels)\n",
    "        self.conv2 = GCNConv(hidden_channels, 2) # 2 classes (causal, non-causal)\n",
    "\n",
    "    def forward(self, x, edge_index):\n",
    "        x = self.conv1(x, edge_index)\n",
    "        x = x.relu()\n",
    "        x = F.dropout(x, p=0.5, training=self.training)\n",
    "        x = self.conv2(x, edge_index)\n",
    "        return x\n"
   ]
  },
  {
   "cell_type": "code",
   "execution_count": 6,
   "metadata": {},
   "outputs": [],
   "source": [
    "# Example data (difference of mean and difference of std for edges)\n",
    "edge_features_1 = torch.tensor([\n",
    "    [0.2, 0.1], # edge 0 -> 1\n",
    "    [-0.3, 0.2], # edge 1 -> 2\n",
    "    [0.1, -0.2], # edge 2 -> 0\n",
    "], dtype=torch.float)\n",
    "\n",
    "# Edge index (source -> target)\n",
    "edge_index_1 = torch.tensor([\n",
    "    [0, 1, 2],\n",
    "    [1, 2, 0],\n",
    "], dtype=torch.long)\n",
    "\n",
    "edge_labels_1 = torch.tensor([1, 0, 1], dtype=torch.long)\n",
    "\n",
    "# Example data (difference of mean and difference of std for edges)\n",
    "edge_features_2 = torch.tensor([\n",
    "    [0.2, 0.1], # edge 0 -> 1\n",
    "    [-0.3, 0.2], # edge 1 -> 2\n",
    "    [0.1, -0.2], # edge 2 -> 0\n",
    "], dtype=torch.float)\n",
    "\n",
    "# Edge index (source -> target)\n",
    "edge_index_2 = torch.tensor([\n",
    "    [0, 1, 2],\n",
    "    [1, 2, 0],\n",
    "], dtype=torch.long)\n",
    "\n",
    "edge_labels_2 = torch.tensor([1, 0, 1], dtype=torch.long)\n",
    "\n",
    "graphs = [Data(x=edge_features_1, edge_index=edge_index_1, y=edge_labels_1),\n",
    "          Data(x=edge_features_2, edge_index=edge_index_2, y=edge_labels_2)\n",
    "          ]\n",
    "\n",
    "train_data = Batch.from_data_list(graphs)"
   ]
  },
  {
   "cell_type": "code",
   "execution_count": 7,
   "metadata": {},
   "outputs": [],
   "source": [
    "# Define model and optimizer\n",
    "model = GNN(hidden_channels=16)\n",
    "optimizer = torch.optim.Adam(model.parameters(), lr=0.01)\n",
    "\n",
    "model.train()\n",
    "for epoch in range(200):\n",
    "    optimizer.zero_grad()\n",
    "    out = model(train_data.x, train_data.edge_index)\n",
    "    loss = F.cross_entropy(out, train_data.y)\n",
    "    loss.backward()\n",
    "    optimizer.step()\n"
   ]
  },
  {
   "cell_type": "code",
   "execution_count": 8,
   "metadata": {},
   "outputs": [],
   "source": [
    "# New edge features for evaluation\n",
    "eval_edge_features_1 = torch.tensor([\n",
    "    [0.3, 0.1],  # edge 0 -> 1\n",
    "    [-0.4, 0.2], # edge 1 -> 2\n",
    "    [0.15, -0.2],# edge 2 -> 0\n",
    "], dtype=torch.float)\n",
    "\n",
    "# Edge index for evaluation (same as training, but can be different)\n",
    "eval_edge_index_1 = torch.tensor([\n",
    "    [0, 1, 2],\n",
    "    [1, 2, 0],\n",
    "], dtype=torch.long)\n",
    "\n",
    "# New edge features for evaluation\n",
    "eval_edge_features_2 = torch.tensor([\n",
    "    [0.3, 0.1],  # edge 0 -> 1\n",
    "    [-0.4, 0.2], # edge 1 -> 2\n",
    "    [0.15, -0.2],# edge 2 -> 0\n",
    "], dtype=torch.float)\n",
    "\n",
    "# Edge index for evaluation (same as training, but can be different)\n",
    "eval_edge_index_2 = torch.tensor([\n",
    "    [0, 1, 2],\n",
    "    [1, 2, 0],\n",
    "], dtype=torch.long)\n",
    "\n",
    "\n",
    "eval_graphs = [Data(x=eval_edge_features_1, edge_index=eval_edge_index_1),\n",
    "               Data(x=eval_edge_features_2, edge_index=eval_edge_index_2)\n",
    "               ]\n",
    "\n",
    "eval_data = Batch.from_data_list(eval_graphs)\n",
    "\n"
   ]
  },
  {
   "cell_type": "code",
   "execution_count": 9,
   "metadata": {},
   "outputs": [
    {
     "name": "stdout",
     "output_type": "stream",
     "text": [
      "tensor([1, 0, 1, 1, 0, 1])\n"
     ]
    }
   ],
   "source": [
    "# Set the model to evaluation mode\n",
    "model.eval()\n",
    "\n",
    "# Make predictions using the evaluation data\n",
    "with torch.no_grad():\n",
    "    predictions = model(eval_data.x, eval_data.edge_index)\n",
    "\n",
    "# Convert the predictions to probabilities using the softmax function\n",
    "probs = F.softmax(predictions, dim=1)\n",
    "\n",
    "# Get the class with the highest probability\n",
    "predicted_labels = torch.argmax(probs, dim=1)\n",
    "\n",
    "# Print the Predicted Labels\n",
    "print(predicted_labels)\n"
   ]
  },
  {
   "cell_type": "code",
   "execution_count": null,
   "metadata": {},
   "outputs": [],
   "source": []
  }
 ],
 "metadata": {
  "kernelspec": {
   "display_name": "d2c",
   "language": "python",
   "name": "python3"
  },
  "language_info": {
   "codemirror_mode": {
    "name": "ipython",
    "version": 3
   },
   "file_extension": ".py",
   "mimetype": "text/x-python",
   "name": "python",
   "nbconvert_exporter": "python",
   "pygments_lexer": "ipython3",
   "version": "3.8.16"
  },
  "orig_nbformat": 4
 },
 "nbformat": 4,
 "nbformat_minor": 2
}
