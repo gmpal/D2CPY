{
 "cells": [
  {
   "cell_type": "code",
   "execution_count": 88,
   "metadata": {},
   "outputs": [],
   "source": [
    "import pandas as pd \n",
    "import os \n",
    "import pickle\n",
    "from tqdm import tqdm"
   ]
  },
  {
   "cell_type": "code",
   "execution_count": 81,
   "metadata": {},
   "outputs": [],
   "source": [
    "descriptors = pd.read_pickle('causeme/2024.01.20.pkl')"
   ]
  },
  {
   "cell_type": "code",
   "execution_count": 94,
   "metadata": {},
   "outputs": [
    {
     "data": {
      "text/plain": [
       "(61200, 92)"
      ]
     },
     "execution_count": 94,
     "metadata": {},
     "output_type": "execute_result"
    }
   ],
   "source": [
    "descriptors.shape"
   ]
  },
  {
   "cell_type": "code",
   "execution_count": 82,
   "metadata": {},
   "outputs": [],
   "source": [
    "data_path = '2024.01.20/'\n",
    "loaded_observations = {}\n",
    "loaded_dags = {}\n",
    "loaded_causal_dfs = {}\n",
    "for file in os.listdir(data_path):\n",
    "    if file.startswith('data'):\n",
    "        index = file.split('_')[1].split('.')[0]\n",
    "        with open(data_path+file, 'rb') as f:\n",
    "            loaded_observations[int(index)], loaded_dags[int(index)], loaded_causal_dfs[int(index)], _ = pickle.load(f)\n"
   ]
  },
  {
   "cell_type": "code",
   "execution_count": 83,
   "metadata": {},
   "outputs": [],
   "source": [
    "import statsmodels.tsa.api as tsa\n",
    "def create_lagged_multiple_ts(observations, maxlags):\n",
    "    #create lagged observations for all the available time series\n",
    "    lagged_observations = []\n",
    "    for obs in observations:\n",
    "        lagged = obs.copy()\n",
    "        for i in range(1,maxlags+1):\n",
    "            lagged = pd.concat([lagged, obs.shift(i)], axis=1)\n",
    "        lagged.columns = [i for i in range(len(lagged.columns))]\n",
    "        lagged_observations.append(lagged.dropna())\n",
    "    return lagged_observations\n",
    "\n",
    "def infer( single_ts, maxlags):\n",
    "    model = tsa.var.var_model.VAR(single_ts.values)\n",
    "    results = model.fit(maxlags=maxlags)\n",
    "    return results\n",
    "\n",
    "def build_causal_df(results, n_variables):\n",
    "    pvalues = results.pvalues\n",
    "    values = results.coefs\n",
    "\n",
    "    #initialization\n",
    "    pairs = [(source, effect) for source in range(n_variables) for effect in range(n_variables)]\n",
    "    multi_index = pd.MultiIndex.from_tuples(pairs, names=['source', 'target'])\n",
    "    causal_dataframe = pd.DataFrame(index=multi_index, columns=['is_causal', 'value', 'pvalue'])\n",
    "\n",
    "    \n",
    "    for source in range(n_variables):\n",
    "        for effect in range(n_variables):\n",
    "            current_pvalue = pvalues[source, effect]\n",
    "            current_value = values[0][effect][source]\n",
    "\n",
    "            is_causal = 0 if current_pvalue > 0.05 else 0 if abs(current_value) < 0.1 else 1\n",
    "            causal_dataframe.loc[(source, effect)] = is_causal, current_value, current_pvalue\n",
    "\n",
    "    return causal_dataframe\n"
   ]
  },
  {
   "cell_type": "code",
   "execution_count": 91,
   "metadata": {},
   "outputs": [
    {
     "name": "stderr",
     "output_type": "stream",
     "text": [
      "60it [01:26,  1.45s/it]\n",
      "51it [01:14,  1.45s/it]\n"
     ]
    },
    {
     "ename": "KeyboardInterrupt",
     "evalue": "",
     "output_type": "error",
     "traceback": [
      "\u001b[0;31m---------------------------------------------------------------------------\u001b[0m",
      "\u001b[0;31mKeyboardInterrupt\u001b[0m                         Traceback (most recent call last)",
      "\u001b[1;32m/home/gpaldino/D2CPY/create_d2cvar.ipynb Cell 5\u001b[0m line \u001b[0;36m1\n\u001b[1;32m     <a href='vscode-notebook-cell://ssh-remote%2B51.178.93.50/home/gpaldino/D2CPY/create_d2cvar.ipynb#X12sdnNjb2RlLXJlbW90ZQ%3D%3D?line=9'>10</a>\u001b[0m corresponding_graph_id \u001b[39m=\u001b[39m (generative_process_idx \u001b[39m-\u001b[39m \u001b[39m1\u001b[39m)\u001b[39m*\u001b[39mlenght_data_generative_process \u001b[39m+\u001b[39m internal_idx\n\u001b[1;32m     <a href='vscode-notebook-cell://ssh-remote%2B51.178.93.50/home/gpaldino/D2CPY/create_d2cvar.ipynb#X12sdnNjb2RlLXJlbW90ZQ%3D%3D?line=10'>11</a>\u001b[0m results \u001b[39m=\u001b[39m infer(ts,maxlags\u001b[39m=\u001b[39m\u001b[39m1\u001b[39m)\n\u001b[0;32m---> <a href='vscode-notebook-cell://ssh-remote%2B51.178.93.50/home/gpaldino/D2CPY/create_d2cvar.ipynb#X12sdnNjb2RlLXJlbW90ZQ%3D%3D?line=11'>12</a>\u001b[0m causal_df \u001b[39m=\u001b[39m build_causal_df(results, n_variables\u001b[39m*\u001b[39;49m(maxlags\u001b[39m+\u001b[39;49m\u001b[39m1\u001b[39;49m))\n\u001b[1;32m     <a href='vscode-notebook-cell://ssh-remote%2B51.178.93.50/home/gpaldino/D2CPY/create_d2cvar.ipynb#X12sdnNjb2RlLXJlbW90ZQ%3D%3D?line=12'>13</a>\u001b[0m descriptors_chunk \u001b[39m=\u001b[39m descriptors\u001b[39m.\u001b[39mloc[descriptors\u001b[39m.\u001b[39mgraph_id \u001b[39m==\u001b[39m corresponding_graph_id]\n\u001b[1;32m     <a href='vscode-notebook-cell://ssh-remote%2B51.178.93.50/home/gpaldino/D2CPY/create_d2cvar.ipynb#X12sdnNjb2RlLXJlbW90ZQ%3D%3D?line=13'>14</a>\u001b[0m joined_table \u001b[39m=\u001b[39m pd\u001b[39m.\u001b[39mmerge(descriptors_chunk, causal_df\u001b[39m.\u001b[39mdrop(columns\u001b[39m=\u001b[39m\u001b[39m'\u001b[39m\u001b[39mis_causal\u001b[39m\u001b[39m'\u001b[39m), how\u001b[39m=\u001b[39m\u001b[39m'\u001b[39m\u001b[39minner\u001b[39m\u001b[39m'\u001b[39m, left_on\u001b[39m=\u001b[39m[\u001b[39m'\u001b[39m\u001b[39medge_source\u001b[39m\u001b[39m'\u001b[39m, \u001b[39m'\u001b[39m\u001b[39medge_dest\u001b[39m\u001b[39m'\u001b[39m], right_on\u001b[39m=\u001b[39m[\u001b[39m'\u001b[39m\u001b[39msource\u001b[39m\u001b[39m'\u001b[39m, \u001b[39m'\u001b[39m\u001b[39mtarget\u001b[39m\u001b[39m'\u001b[39m])\n",
      "\u001b[1;32m/home/gpaldino/D2CPY/create_d2cvar.ipynb Cell 5\u001b[0m line \u001b[0;36m3\n\u001b[1;32m     <a href='vscode-notebook-cell://ssh-remote%2B51.178.93.50/home/gpaldino/D2CPY/create_d2cvar.ipynb#X12sdnNjb2RlLXJlbW90ZQ%3D%3D?line=30'>31</a>\u001b[0m         current_value \u001b[39m=\u001b[39m values[\u001b[39m0\u001b[39m][effect][source]\n\u001b[1;32m     <a href='vscode-notebook-cell://ssh-remote%2B51.178.93.50/home/gpaldino/D2CPY/create_d2cvar.ipynb#X12sdnNjb2RlLXJlbW90ZQ%3D%3D?line=32'>33</a>\u001b[0m         is_causal \u001b[39m=\u001b[39m \u001b[39m0\u001b[39m \u001b[39mif\u001b[39;00m current_pvalue \u001b[39m>\u001b[39m \u001b[39m0.05\u001b[39m \u001b[39melse\u001b[39;00m \u001b[39m0\u001b[39m \u001b[39mif\u001b[39;00m \u001b[39mabs\u001b[39m(current_value) \u001b[39m<\u001b[39m \u001b[39m0.1\u001b[39m \u001b[39melse\u001b[39;00m \u001b[39m1\u001b[39m\n\u001b[0;32m---> <a href='vscode-notebook-cell://ssh-remote%2B51.178.93.50/home/gpaldino/D2CPY/create_d2cvar.ipynb#X12sdnNjb2RlLXJlbW90ZQ%3D%3D?line=33'>34</a>\u001b[0m         causal_dataframe\u001b[39m.\u001b[39;49mloc[(source, effect)] \u001b[39m=\u001b[39m is_causal, current_value, current_pvalue\n\u001b[1;32m     <a href='vscode-notebook-cell://ssh-remote%2B51.178.93.50/home/gpaldino/D2CPY/create_d2cvar.ipynb#X12sdnNjb2RlLXJlbW90ZQ%3D%3D?line=35'>36</a>\u001b[0m \u001b[39mreturn\u001b[39;00m causal_dataframe\n",
      "File \u001b[0;32m~/miniconda3/envs/d2cpy/lib/python3.8/site-packages/pandas/core/indexing.py:818\u001b[0m, in \u001b[0;36m_LocationIndexer.__setitem__\u001b[0;34m(self, key, value)\u001b[0m\n\u001b[1;32m    815\u001b[0m \u001b[39mself\u001b[39m\u001b[39m.\u001b[39m_has_valid_setitem_indexer(key)\n\u001b[1;32m    817\u001b[0m iloc \u001b[39m=\u001b[39m \u001b[39mself\u001b[39m \u001b[39mif\u001b[39;00m \u001b[39mself\u001b[39m\u001b[39m.\u001b[39mname \u001b[39m==\u001b[39m \u001b[39m\"\u001b[39m\u001b[39miloc\u001b[39m\u001b[39m\"\u001b[39m \u001b[39melse\u001b[39;00m \u001b[39mself\u001b[39m\u001b[39m.\u001b[39mobj\u001b[39m.\u001b[39miloc\n\u001b[0;32m--> 818\u001b[0m iloc\u001b[39m.\u001b[39;49m_setitem_with_indexer(indexer, value, \u001b[39mself\u001b[39;49m\u001b[39m.\u001b[39;49mname)\n",
      "File \u001b[0;32m~/miniconda3/envs/d2cpy/lib/python3.8/site-packages/pandas/core/indexing.py:1680\u001b[0m, in \u001b[0;36m_iLocIndexer._setitem_with_indexer\u001b[0;34m(self, indexer, value, name)\u001b[0m\n\u001b[1;32m   1677\u001b[0m \u001b[39mif\u001b[39;00m \u001b[39mnot\u001b[39;00m take_split_path \u001b[39mand\u001b[39;00m \u001b[39mlen\u001b[39m(\u001b[39mself\u001b[39m\u001b[39m.\u001b[39mobj\u001b[39m.\u001b[39m_mgr\u001b[39m.\u001b[39marrays) \u001b[39mand\u001b[39;00m \u001b[39mself\u001b[39m\u001b[39m.\u001b[39mndim \u001b[39m>\u001b[39m \u001b[39m1\u001b[39m:\n\u001b[1;32m   1678\u001b[0m     \u001b[39m# in case of dict, keys are indices\u001b[39;00m\n\u001b[1;32m   1679\u001b[0m     val \u001b[39m=\u001b[39m \u001b[39mlist\u001b[39m(value\u001b[39m.\u001b[39mvalues()) \u001b[39mif\u001b[39;00m \u001b[39misinstance\u001b[39m(value, \u001b[39mdict\u001b[39m) \u001b[39melse\u001b[39;00m value\n\u001b[0;32m-> 1680\u001b[0m     arr \u001b[39m=\u001b[39m \u001b[39mself\u001b[39;49m\u001b[39m.\u001b[39;49mobj\u001b[39m.\u001b[39;49m_mgr\u001b[39m.\u001b[39;49marrays[\u001b[39m0\u001b[39;49m]\n\u001b[1;32m   1681\u001b[0m     take_split_path \u001b[39m=\u001b[39m \u001b[39mnot\u001b[39;00m can_hold_element(\n\u001b[1;32m   1682\u001b[0m         arr, extract_array(val, extract_numpy\u001b[39m=\u001b[39m\u001b[39mTrue\u001b[39;00m)\n\u001b[1;32m   1683\u001b[0m     )\n\u001b[1;32m   1685\u001b[0m \u001b[39m# if we have any multi-indexes that have non-trivial slices\u001b[39;00m\n\u001b[1;32m   1686\u001b[0m \u001b[39m# (not null slices) then we must take the split path, xref\u001b[39;00m\n\u001b[1;32m   1687\u001b[0m \u001b[39m# GH 10360, GH 27841\u001b[39;00m\n",
      "\u001b[0;31mKeyboardInterrupt\u001b[0m: "
     ]
    }
   ],
   "source": [
    "n_variables = 20\n",
    "maxlags = 5\n",
    "descriptors_plus_var = pd.DataFrame()\n",
    "joined = []\n",
    "for generative_process_idx in range(1, 18):\n",
    "    lenght_data_generative_process = len(loaded_observations[generative_process_idx])\n",
    "    lagged_time_series = create_lagged_multiple_ts(loaded_observations[generative_process_idx],maxlags)\n",
    "    for internal_idx, ts in tqdm(enumerate(lagged_time_series)):\n",
    "\n",
    "        corresponding_graph_id = (generative_process_idx - 1)*lenght_data_generative_process + internal_idx\n",
    "        results = infer(ts,maxlags=1)\n",
    "        causal_df = build_causal_df(results, n_variables*(maxlags+1))\n",
    "        descriptors_chunk = descriptors.loc[descriptors.graph_id == corresponding_graph_id]\n",
    "        joined_table = pd.merge(descriptors_chunk, causal_df.drop(columns='is_causal'), how='inner', left_on=['edge_source', 'edge_dest'], right_on=['source', 'target'])\n",
    "        joined.append(joined_table)\n",
    "\n",
    "descriptors_plus_var = pd.concat([descriptors_plus_var, joined_table], axis=0)\n",
    "descriptors_plus_var = descriptors_plus_var[[c for c in descriptors_plus_var if c not in ['is_causal']] + ['is_causal']]        "
   ]
  },
  {
   "cell_type": "code",
   "execution_count": null,
   "metadata": {},
   "outputs": [],
   "source": [
    "from multiprocessing import Pool\n",
    "\n",
    "def process_time_series(args):\n",
    "    generative_process_idx, internal_idx, ts = args\n",
    "    lenght_data_generative_process = len(loaded_observations[generative_process_idx])\n",
    "    corresponding_graph_id = (generative_process_idx - 1) * lenght_data_generative_process + internal_idx\n",
    "    results = infer(ts, maxlags=1)\n",
    "    causal_df = build_causal_df(results, n_variables * (maxlags + 1))\n",
    "    descriptors_chunk = descriptors.loc[descriptors.graph_id == corresponding_graph_id]\n",
    "    joined_table = pd.merge(descriptors_chunk, causal_df.drop(columns='is_causal'), how='inner', left_on=['edge_source', 'edge_dest'], right_on=['source', 'target'])\n",
    "    return joined_table\n",
    "\n",
    "list_results = []\n",
    "for generative_process_idx in range(1, 18):\n",
    "    lagged_time_series = create_lagged_multiple_ts(loaded_observations[generative_process_idx], maxlags)\n",
    "\n",
    "    with Pool(60) as pool:\n",
    "        args = [(generative_process_idx, internal_idx, ts) for internal_idx, ts in enumerate(lagged_time_series)]\n",
    "        results = pool.map(process_time_series, args)\n",
    "    list_results.append(results)\n"
   ]
  },
  {
   "cell_type": "code",
   "execution_count": 106,
   "metadata": {},
   "outputs": [
    {
     "data": {
      "text/plain": [
       "1020"
      ]
     },
     "execution_count": 106,
     "metadata": {},
     "output_type": "execute_result"
    }
   ],
   "source": [
    "list_flat = [item for sublist in list_results for item in sublist]\n",
    "len(list_flat)\n"
   ]
  },
  {
   "cell_type": "code",
   "execution_count": 108,
   "metadata": {},
   "outputs": [],
   "source": [
    "descriptors_var = pd.concat(list_flat, axis=0)\n",
    "descriptors_var = descriptors_var[[c for c in descriptors_var if c not in ['is_causal']] + ['is_causal']]\n",
    "descriptors_var.to_pickle(data_path+'descriptors_var.pkl')"
   ]
  },
  {
   "cell_type": "code",
   "execution_count": 3,
   "metadata": {},
   "outputs": [],
   "source": [
    "import numpy as np\n",
    "from sklearn.model_selection import TimeSeriesSplit\n",
    "X = np.array([[1, 2], [3, 4], [1, 2], [3, 4], [1, 2], [3, 4]])\n",
    "y = np.array([1, 2, 3, 4, 5, 6])"
   ]
  },
  {
   "cell_type": "code",
   "execution_count": 4,
   "metadata": {},
   "outputs": [
    {
     "name": "stdout",
     "output_type": "stream",
     "text": [
      "TimeSeriesSplit(gap=0, max_train_size=None, n_splits=5, test_size=None)\n"
     ]
    }
   ],
   "source": [
    "import numpy as np\n",
    "from sklearn.model_selection import TimeSeriesSplit\n",
    "tscv = TimeSeriesSplit(n_splits=5)\n",
    "print(tscv)"
   ]
  },
  {
   "cell_type": "code",
   "execution_count": null,
   "metadata": {},
   "outputs": [],
   "source": [
    "#random forest \n",
    "from sklearn.ensemble import RandomForestClassifier\n",
    "\n",
    "#classification metrics\n",
    "from sklearn.metrics import accuracy_score, f1_score, precision_score, recall_score, roc_auc_score\n",
    "\n",
    "results = pd.DataFrame(columns=['accuracy', 'f1', 'precision', 'recall', 'roc_auc'])\n",
    "for i, (train_index, test_index) in enumerate(tscv.split(X)):\n",
    "    print(\"TRAIN:\", train_index, \"TEST:\", test_index)\n",
    "    X_train, X_test = X[train_index], X[test_index]\n",
    "    y_train, y_test = y[train_index], y[test_index]\n",
    "\n",
    "    clf = RandomForestClassifier(n_estimators=100, max_depth=2, random_state=0)\n",
    "    clf.fit(X_train, y_train)\n",
    "\n",
    "    y_pred = clf.predict(X_test)\n",
    "\n",
    "    accuracy = accuracy_score(y_test, y_pred)\n",
    "    f1 = f1_score(y_test, y_pred)\n",
    "    precision = precision_score(y_test, y_pred)\n",
    "    recall = recall_score(y_test, y_pred)\n",
    "    roc_auc = roc_auc_score(y_test, y_pred)\n",
    "\n",
    "    results.loc[i] = [accuracy, f1, precision, recall, roc_auc]\n",
    "\n",
    "\n",
    "    # evaluate classification\n",
    "\n"
   ]
  }
 ],
 "metadata": {
  "kernelspec": {
   "display_name": "d2cpy",
   "language": "python",
   "name": "python3"
  },
  "language_info": {
   "codemirror_mode": {
    "name": "ipython",
    "version": 3
   },
   "file_extension": ".py",
   "mimetype": "text/x-python",
   "name": "python",
   "nbconvert_exporter": "python",
   "pygments_lexer": "ipython3",
   "version": "3.8.18"
  }
 },
 "nbformat": 4,
 "nbformat_minor": 2
}
