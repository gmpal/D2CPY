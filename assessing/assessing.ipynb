{
 "cells": [
  {
   "cell_type": "code",
   "execution_count": 1,
   "metadata": {},
   "outputs": [],
   "source": [
    "from sklearn.model_selection import cross_validate, LeaveOneGroupOut\n",
    "import numpy as np\n",
    "import pandas as pd\n",
    "from sklearn.ensemble import RandomForestClassifier\n",
    "import networkx as nx\n"
   ]
  },
  {
   "cell_type": "code",
   "execution_count": 2,
   "metadata": {},
   "outputs": [],
   "source": [
    "\n",
    "# assuming df is your dataframe, X are your features, y is your target\n",
    "df = pd.read_csv('with_extra_descriptors.csv')  # replace with your data file\n",
    "\n",
    "sampled_ids = df['graph_id'].drop_duplicates().sample(10)\n",
    "\n",
    "# Use the sampled_ids to select from the original df\n",
    "df = df[df['graph_id'].isin(sampled_ids)]\n",
    "\n",
    "# Populate the graph with edges and attributes\n",
    "graphs = {}\n",
    "for _, row in df.iterrows():\n",
    "    # Check if graph_id exists, if not create a new DiGraph\n",
    "    if row['graph_id'] not in graphs:\n",
    "        graphs[row['graph_id']] = nx.DiGraph()\n",
    "    G = graphs[row['graph_id']]\n",
    "    \n",
    "    # Add an edge if is_causal is True\n",
    "    if row['is_causal']: \n",
    "        G.add_edge(row['edge_source'], row['edge_dest'])\n"
   ]
  },
  {
   "cell_type": "code",
   "execution_count": 5,
   "metadata": {},
   "outputs": [],
   "source": [
    "from graphviz import Digraph\n",
    "\n",
    "for key, graph in graphs.items():\n",
    "    G_dot = Digraph(engine=\"dot\",format='png')\n",
    "\n",
    "    for node in graph.nodes():\n",
    "        G_dot.node(str(node))\n",
    "    for edge in graph.edges():\n",
    "        G_dot.edge(str(edge[0]), str(edge[1]))\n",
    "\n",
    "    # Render the graph in a hierarchical layout\n",
    "    G_dot.render(f\"pics/graph_{key}.png\", view=False)"
   ]
  },
  {
   "cell_type": "code",
   "execution_count": null,
   "metadata": {},
   "outputs": [],
   "source": [
    "\n",
    "\n",
    "X = df.drop(columns=['graph_id','edge_source','edge_dest', 'is_causal'])\n",
    "y = df['is_causal']\n",
    "\n",
    "# Leave-One-Group-Out cross validator\n",
    "logo = LeaveOneGroupOut()\n",
    "\n",
    "# create a Logistic Regression classifier\n",
    "classifier = RandomForestClassifier(n_estimators=100, n_jobs=-1)\n",
    "\n",
    "# use cross_validate and fit it with LOGO cross-validator\n",
    "scores = cross_validate(classifier, X, y, cv=logo.split(X, y, df['graph_id']), n_jobs=-1, \n",
    "                        scoring=['accuracy', 'f1', 'roc_auc'], return_train_score=True)\n",
    "\n",
    "# print(scores)\n",
    "print(\"Test Accuracy: %0.2f (+/- %0.2f)\" % (scores['test_accuracy'].mean(), scores['test_accuracy'].std() * 2))\n",
    "print(\"Test F1: %0.2f (+/- %0.2f)\" % (scores['test_f1'].mean(), scores['test_f1'].std() * 2))\n",
    "print(\"Test ROC AUC: %0.2f (+/- %0.2f)\" % (scores['test_roc_auc'].mean(), scores['test_roc_auc'].std() * 2))\n"
   ]
  },
  {
   "cell_type": "code",
   "execution_count": null,
   "metadata": {},
   "outputs": [],
   "source": []
  }
 ],
 "metadata": {
  "kernelspec": {
   "display_name": "d2c",
   "language": "python",
   "name": "python3"
  },
  "language_info": {
   "codemirror_mode": {
    "name": "ipython",
    "version": 3
   },
   "file_extension": ".py",
   "mimetype": "text/x-python",
   "name": "python",
   "nbconvert_exporter": "python",
   "pygments_lexer": "ipython3",
   "version": "3.8.16"
  },
  "orig_nbformat": 4
 },
 "nbformat": 4,
 "nbformat_minor": 2
}
