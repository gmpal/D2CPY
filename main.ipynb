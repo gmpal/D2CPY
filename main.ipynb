{
 "cells": [
  {
   "cell_type": "code",
   "execution_count": 1,
   "metadata": {},
   "outputs": [],
   "source": [
    "from d2c.simulatedDAGs import SimulatedDAGs\n",
    "from d2c.D2C import D2C"
   ]
  },
  {
   "cell_type": "code",
   "execution_count": 2,
   "metadata": {},
   "outputs": [],
   "source": [
    "N_JOBS = 4\n",
    "\n",
    "n_dags = 10\n",
    "n_observations = 100\n",
    "n_nodes = 10"
   ]
  },
  {
   "cell_type": "code",
   "execution_count": 3,
   "metadata": {},
   "outputs": [],
   "source": [
    "simulated_dags = SimulatedDAGs(n_dags, n_observations, n_nodes, n_jobs=N_JOBS)\n",
    "simulated_dags.generate_dags()"
   ]
  },
  {
   "cell_type": "code",
   "execution_count": 4,
   "metadata": {},
   "outputs": [],
   "source": [
    "simulated_dags.simulate_observations()"
   ]
  },
  {
   "cell_type": "code",
   "execution_count": 5,
   "metadata": {},
   "outputs": [],
   "source": [
    "d2c = D2C(simulated_dags, n_jobs=N_JOBS)\n",
    "d2c.initialize()\n"
   ]
  },
  {
   "cell_type": "code",
   "execution_count": null,
   "metadata": {},
   "outputs": [
    {
     "data": {
      "text/html": [
       "<div>\n",
       "<style scoped>\n",
       "    .dataframe tbody tr th:only-of-type {\n",
       "        vertical-align: middle;\n",
       "    }\n",
       "\n",
       "    .dataframe tbody tr th {\n",
       "        vertical-align: top;\n",
       "    }\n",
       "\n",
       "    .dataframe thead th {\n",
       "        text-align: right;\n",
       "    }\n",
       "</style>\n",
       "<table border=\"1\" class=\"dataframe\">\n",
       "  <thead>\n",
       "    <tr style=\"text-align: right;\">\n",
       "      <th></th>\n",
       "      <th>correlation</th>\n",
       "      <th>skewness_ca</th>\n",
       "      <th>skewness_ef</th>\n",
       "      <th>mean_diff</th>\n",
       "      <th>0</th>\n",
       "    </tr>\n",
       "  </thead>\n",
       "  <tbody>\n",
       "    <tr>\n",
       "      <th>0</th>\n",
       "      <td>-0.356635</td>\n",
       "      <td>0.298824</td>\n",
       "      <td>0.626357</td>\n",
       "      <td>0.000000e+00</td>\n",
       "      <td>1</td>\n",
       "    </tr>\n",
       "    <tr>\n",
       "      <th>1</th>\n",
       "      <td>-0.356635</td>\n",
       "      <td>0.626357</td>\n",
       "      <td>0.298824</td>\n",
       "      <td>0.000000e+00</td>\n",
       "      <td>0</td>\n",
       "    </tr>\n",
       "    <tr>\n",
       "      <th>2</th>\n",
       "      <td>0.923428</td>\n",
       "      <td>1.126612</td>\n",
       "      <td>0.626357</td>\n",
       "      <td>-4.440892e-17</td>\n",
       "      <td>1</td>\n",
       "    </tr>\n",
       "    <tr>\n",
       "      <th>3</th>\n",
       "      <td>0.923428</td>\n",
       "      <td>0.626357</td>\n",
       "      <td>1.126612</td>\n",
       "      <td>4.440892e-17</td>\n",
       "      <td>0</td>\n",
       "    </tr>\n",
       "    <tr>\n",
       "      <th>4</th>\n",
       "      <td>-0.419773</td>\n",
       "      <td>1.126612</td>\n",
       "      <td>0.298824</td>\n",
       "      <td>-4.440892e-17</td>\n",
       "      <td>1</td>\n",
       "    </tr>\n",
       "    <tr>\n",
       "      <th>...</th>\n",
       "      <td>...</td>\n",
       "      <td>...</td>\n",
       "      <td>...</td>\n",
       "      <td>...</td>\n",
       "      <td>...</td>\n",
       "    </tr>\n",
       "    <tr>\n",
       "      <th>895</th>\n",
       "      <td>-0.391298</td>\n",
       "      <td>0.407746</td>\n",
       "      <td>-0.070434</td>\n",
       "      <td>-4.857226e-17</td>\n",
       "      <td>0</td>\n",
       "    </tr>\n",
       "    <tr>\n",
       "      <th>896</th>\n",
       "      <td>0.761185</td>\n",
       "      <td>-0.070434</td>\n",
       "      <td>-0.161566</td>\n",
       "      <td>6.106227e-17</td>\n",
       "      <td>1</td>\n",
       "    </tr>\n",
       "    <tr>\n",
       "      <th>897</th>\n",
       "      <td>0.761185</td>\n",
       "      <td>-0.161566</td>\n",
       "      <td>-0.070434</td>\n",
       "      <td>-6.106227e-17</td>\n",
       "      <td>0</td>\n",
       "    </tr>\n",
       "    <tr>\n",
       "      <th>898</th>\n",
       "      <td>-0.667206</td>\n",
       "      <td>-0.070434</td>\n",
       "      <td>0.863468</td>\n",
       "      <td>1.110223e-17</td>\n",
       "      <td>1</td>\n",
       "    </tr>\n",
       "    <tr>\n",
       "      <th>899</th>\n",
       "      <td>-0.667206</td>\n",
       "      <td>0.863468</td>\n",
       "      <td>-0.070434</td>\n",
       "      <td>-1.110223e-17</td>\n",
       "      <td>0</td>\n",
       "    </tr>\n",
       "  </tbody>\n",
       "</table>\n",
       "<p>9000 rows × 5 columns</p>\n",
       "</div>"
      ],
      "text/plain": [
       "     correlation  skewness_ca  skewness_ef     mean_diff  0\n",
       "0      -0.356635     0.298824     0.626357  0.000000e+00  1\n",
       "1      -0.356635     0.626357     0.298824  0.000000e+00  0\n",
       "2       0.923428     1.126612     0.626357 -4.440892e-17  1\n",
       "3       0.923428     0.626357     1.126612  4.440892e-17  0\n",
       "4      -0.419773     1.126612     0.298824 -4.440892e-17  1\n",
       "..           ...          ...          ...           ... ..\n",
       "895    -0.391298     0.407746    -0.070434 -4.857226e-17  0\n",
       "896     0.761185    -0.070434    -0.161566  6.106227e-17  1\n",
       "897     0.761185    -0.161566    -0.070434 -6.106227e-17  0\n",
       "898    -0.667206    -0.070434     0.863468  1.110223e-17  1\n",
       "899    -0.667206     0.863468    -0.070434 -1.110223e-17  0\n",
       "\n",
       "[9000 rows x 5 columns]"
      ]
     },
     "execution_count": 7,
     "metadata": {},
     "output_type": "execute_result"
    }
   ],
   "source": [
    "dataframe = d2c.get_df()\n",
    "dataframe"
   ]
  },
  {
   "cell_type": "code",
   "execution_count": null,
   "metadata": {},
   "outputs": [
    {
     "data": {
      "text/plain": [
       "1.0"
      ]
     },
     "execution_count": 9,
     "metadata": {},
     "output_type": "execute_result"
    }
   ],
   "source": [
    "score = d2c.get_score(metric=\"f1\")\n",
    "score"
   ]
  }
 ],
 "metadata": {
  "kernelspec": {
   "display_name": "Python 3 (ipykernel)",
   "language": "python",
   "name": "python3"
  },
  "language_info": {
   "codemirror_mode": {
    "name": "ipython",
    "version": 3
   },
   "file_extension": ".py",
   "mimetype": "text/x-python",
   "name": "python",
   "nbconvert_exporter": "python",
   "pygments_lexer": "ipython3",
   "version": "3.8.16"
  }
 },
 "nbformat": 4,
 "nbformat_minor": 2
}
