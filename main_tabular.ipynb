{
 "cells": [
  {
   "cell_type": "code",
   "execution_count": 1,
   "metadata": {},
   "outputs": [],
   "source": [
    "from d2c.simulatedDAGs import SimulatedDAGs\n",
    "from d2c.D2C import D2C"
   ]
  },
  {
   "cell_type": "code",
   "execution_count": 2,
   "metadata": {},
   "outputs": [],
   "source": [
    "n_dags = 3\n",
    "n_observations = 100\n",
    "n_nodes = 4"
   ]
  },
  {
   "cell_type": "code",
   "execution_count": 3,
   "metadata": {},
   "outputs": [],
   "source": [
    "simulated_dags = SimulatedDAGs(n_dags, n_observations, n_nodes)\n",
    "simulated_dags.generate_dags()"
   ]
  },
  {
   "cell_type": "code",
   "execution_count": 4,
   "metadata": {},
   "outputs": [],
   "source": [
    "simulated_dags.simulate_observations()"
   ]
  },
  {
   "cell_type": "code",
   "execution_count": 5,
   "metadata": {},
   "outputs": [],
   "source": [
    "all_DAGs = simulated_dags.get_dags()\n",
    "training_DAGs = all_DAGs[:-1]\n",
    "testing_DAGs = all_DAGs[-1]\n",
    "\n",
    "all_observations = simulated_dags.get_observations()\n",
    "training_observations = all_observations[:-1]\n",
    "testing_observations = all_observations[-1]\n"
   ]
  },
  {
   "cell_type": "code",
   "execution_count": 6,
   "metadata": {},
   "outputs": [
    {
     "name": "stdout",
     "output_type": "stream",
     "text": [
      "20:59:26 Descriptors for DAG 0 edge pair 1 0 computed\n",
      "20:59:28 Descriptors for DAG 0 edge pair 0 1 computed\n",
      "20:59:31 Descriptors for DAG 0 edge pair 2 0 computed\n",
      "20:59:33 Descriptors for DAG 0 edge pair 0 2 computed\n",
      "20:59:36 Descriptors for DAG 0 edge pair 2 1 computed\n",
      "20:59:39 Descriptors for DAG 0 edge pair 1 2 computed\n",
      "20:59:42 Descriptors for DAG 0 edge pair 3 0 computed\n",
      "20:59:45 Descriptors for DAG 0 edge pair 0 3 computed\n",
      "20:59:47 Descriptors for DAG 0 edge pair 3 1 computed\n",
      "20:59:50 Descriptors for DAG 0 edge pair 1 3 computed\n",
      "20:59:52 Descriptors for DAG 0 edge pair 3 2 computed\n",
      "20:59:54 Descriptors for DAG 0 edge pair 2 3 computed\n",
      "20:59:56 Descriptors for DAG 1 edge pair 1 0 computed\n",
      "20:59:58 Descriptors for DAG 1 edge pair 0 1 computed\n",
      "21:00:01 Descriptors for DAG 1 edge pair 2 0 computed\n",
      "21:00:03 Descriptors for DAG 1 edge pair 0 2 computed\n",
      "21:00:06 Descriptors for DAG 1 edge pair 2 1 computed\n",
      "21:00:08 Descriptors for DAG 1 edge pair 1 2 computed\n",
      "21:00:10 Descriptors for DAG 1 edge pair 3 0 computed\n",
      "21:00:12 Descriptors for DAG 1 edge pair 0 3 computed\n",
      "21:00:14 Descriptors for DAG 1 edge pair 3 1 computed\n",
      "21:00:16 Descriptors for DAG 1 edge pair 1 3 computed\n",
      "21:00:18 Descriptors for DAG 1 edge pair 3 2 computed\n",
      "21:00:20 Descriptors for DAG 1 edge pair 2 3 computed\n"
     ]
    }
   ],
   "source": [
    "d2c = D2C(training_DAGs,training_observations)\n",
    "d2c.initialize()\n",
    "\n"
   ]
  },
  {
   "cell_type": "code",
   "execution_count": 8,
   "metadata": {},
   "outputs": [],
   "source": [
    "dataframe = d2c.get_decsriptors_df()"
   ]
  },
  {
   "cell_type": "code",
   "execution_count": 10,
   "metadata": {},
   "outputs": [
    {
     "data": {
      "text/plain": [
       "0.7916666666666667"
      ]
     },
     "execution_count": 10,
     "metadata": {},
     "output_type": "execute_result"
    }
   ],
   "source": [
    "score = d2c.get_score(n_splits=2)\n",
    "score\n"
   ]
  },
  {
   "cell_type": "code",
   "execution_count": null,
   "metadata": {},
   "outputs": [],
   "source": []
  }
 ],
 "metadata": {
  "kernelspec": {
   "display_name": "Python 3 (ipykernel)",
   "language": "python",
   "name": "python3"
  },
  "language_info": {
   "codemirror_mode": {
    "name": "ipython",
    "version": 3
   },
   "file_extension": ".py",
   "mimetype": "text/x-python",
   "name": "python",
   "nbconvert_exporter": "python",
   "pygments_lexer": "ipython3",
   "version": "3.8.16"
  }
 },
 "nbformat": 4,
 "nbformat_minor": 2
}
