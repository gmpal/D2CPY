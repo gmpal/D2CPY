{
 "cells": [
  {
   "cell_type": "code",
   "execution_count": null,
   "metadata": {},
   "outputs": [],
   "source": [
    "from d2c.simulatedDAGs import SimulatedDAGs\n",
    "from d2c.D2C import D2C"
   ]
  },
  {
   "cell_type": "code",
   "execution_count": null,
   "metadata": {},
   "outputs": [],
   "source": [
    "N_JOBS = 1\n",
    "\n",
    "n_dags = 3\n",
    "n_observations = 100\n",
    "n_nodes = 4"
   ]
  },
  {
   "cell_type": "code",
   "execution_count": null,
   "metadata": {},
   "outputs": [],
   "source": [
    "simulated_dags = SimulatedDAGs(n_dags, n_observations, n_nodes, n_jobs=N_JOBS)\n",
    "simulated_dags.generate_dags()"
   ]
  },
  {
   "cell_type": "code",
   "execution_count": null,
   "metadata": {},
   "outputs": [],
   "source": [
    "simulated_dags.simulate_observations()"
   ]
  },
  {
   "cell_type": "code",
   "execution_count": null,
   "metadata": {},
   "outputs": [],
   "source": [
    "all_DAGs = simulated_dags.get_dags()\n",
    "training_DAGs = all_DAGs[:-1]\n",
    "testing_DAGs = all_DAGs[-1]\n",
    "\n",
    "all_observations = simulated_dags.get_observations()\n",
    "training_observations = all_observations[:-1]\n",
    "testing_observations = all_observations[-1]\n"
   ]
  },
  {
   "cell_type": "code",
   "execution_count": null,
   "metadata": {},
   "outputs": [],
   "source": [
    "testing_DAGs"
   ]
  },
  {
   "cell_type": "code",
   "execution_count": 8,
   "metadata": {},
   "outputs": [
    {
     "name": "stdout",
     "output_type": "stream",
     "text": [
      "19:19:51 Descriptors for DAG 1 edge pair 2 0 computed\n",
      "Computing descriptors for edge pair:  0 2 in DAG 1\n",
      "19:19:53 Descriptors for DAG 1 edge pair 0 2 computed\n",
      "19:19:53 Computing descriptors for DAG 1 edge pair 2 1\n",
      "Computing descriptors for edge pair:  2 1 in DAG 1\n",
      "19:19:54 Descriptors for DAG 1 edge pair 2 1 computed\n",
      "Computing descriptors for edge pair:  1 2 in DAG 1\n",
      "19:19:56 Descriptors for DAG 1 edge pair 1 2 computed\n",
      "19:19:56 Computing descriptors for DAG 1 edge pair 3 0\n",
      "Computing descriptors for edge pair:  3 0 in DAG 1\n",
      "19:19:57 Descriptors for DAG 1 edge pair 3 0 computed\n",
      "Computing descriptors for edge pair:  0 3 in DAG 1\n",
      "19:19:59 Descriptors for DAG 1 edge pair 0 3 computed\n",
      "19:19:59 Computing descriptors for DAG 1 edge pair 3 1\n",
      "Computing descriptors for edge pair:  3 1 in DAG 1\n",
      "19:20:00 Descriptors for DAG 1 edge pair 3 1 computed\n",
      "Computing descriptors for edge pair:  1 3 in DAG 1\n",
      "19:20:02 Descriptors for DAG 1 edge pair 1 3 computed\n",
      "19:20:02 Computing descriptors for DAG 1 edge pair 3 2\n",
      "Computing descriptors for edge pair:  3 2 in DAG 1\n",
      "19:20:03 Descriptors for DAG 1 edge pair 3 2 computed\n",
      "Computing descriptors for edge pair:  2 3 in DAG 1\n",
      "19:20:05 Descriptors for DAG 1 edge pair 2 3 computed\n",
      "19:20:05 Edge pairs for DAG 2 computed: [(1, 0), (2, 0), (2, 1), (3, 0), (3, 1), (3, 2)]\n",
      "19:20:05 Computing descriptors for DAG 2 edge pair 1 0\n",
      "Computing descriptors for edge pair:  1 0 in DAG 2\n",
      "19:20:07 Descriptors for DAG 2 edge pair 1 0 computed\n",
      "Computing descriptors for edge pair:  0 1 in DAG 2\n",
      "19:20:08 Descriptors for DAG 2 edge pair 0 1 computed\n",
      "19:20:08 Computing descriptors for DAG 2 edge pair 2 0\n",
      "Computing descriptors for edge pair:  2 0 in DAG 2\n",
      "19:20:09 Descriptors for DAG 2 edge pair 2 0 computed\n",
      "Computing descriptors for edge pair:  0 2 in DAG 2\n",
      "19:20:11 Descriptors for DAG 2 edge pair 0 2 computed\n",
      "19:20:11 Computing descriptors for DAG 2 edge pair 2 1\n",
      "Computing descriptors for edge pair:  2 1 in DAG 2\n",
      "19:20:12 Descriptors for DAG 2 edge pair 2 1 computed\n",
      "Computing descriptors for edge pair:  1 2 in DAG 2\n",
      "19:20:13 Descriptors for DAG 2 edge pair 1 2 computed\n",
      "19:20:13 Computing descriptors for DAG 2 edge pair 3 0\n",
      "Computing descriptors for edge pair:  3 0 in DAG 2\n",
      "19:20:15 Descriptors for DAG 2 edge pair 3 0 computed\n",
      "Computing descriptors for edge pair:  0 3 in DAG 2\n",
      "19:20:16 Descriptors for DAG 2 edge pair 0 3 computed\n",
      "19:20:16 Computing descriptors for DAG 2 edge pair 3 1\n",
      "Computing descriptors for edge pair:  3 1 in DAG 2\n",
      "19:20:17 Descriptors for DAG 2 edge pair 3 1 computed\n",
      "Computing descriptors for edge pair:  1 3 in DAG 2\n",
      "19:20:19 Descriptors for DAG 2 edge pair 1 3 computed\n",
      "19:20:19 Computing descriptors for DAG 2 edge pair 3 2\n",
      "Computing descriptors for edge pair:  3 2 in DAG 2\n",
      "19:20:21 Descriptors for DAG 2 edge pair 3 2 computed\n",
      "Computing descriptors for edge pair:  2 3 in DAG 2\n",
      "19:20:22 Descriptors for DAG 2 edge pair 2 3 computed\n"
     ]
    }
   ],
   "source": [
    "d2c = D2C(simulated_dags, n_jobs=N_JOBS)\n",
    "d2c.initialize()\n",
    "\n"
   ]
  },
  {
   "cell_type": "code",
   "execution_count": null,
   "metadata": {},
   "outputs": [],
   "source": [
    "dataframe = d2c.get_df()"
   ]
  },
  {
   "cell_type": "code",
   "execution_count": null,
   "metadata": {},
   "outputs": [],
   "source": [
    "score = d2c.get_score(n_splits=3)\n",
    "score\n"
   ]
  },
  {
   "cell_type": "code",
   "execution_count": null,
   "metadata": {},
   "outputs": [],
   "source": []
  }
 ],
 "metadata": {
  "kernelspec": {
   "display_name": "Python 3 (ipykernel)",
   "language": "python",
   "name": "python3"
  },
  "language_info": {
   "codemirror_mode": {
    "name": "ipython",
    "version": 3
   },
   "file_extension": ".py",
   "mimetype": "text/x-python",
   "name": "python",
   "nbconvert_exporter": "python",
   "pygments_lexer": "ipython3",
   "version": "3.8.16"
  }
 },
 "nbformat": 4,
 "nbformat_minor": 2
}
