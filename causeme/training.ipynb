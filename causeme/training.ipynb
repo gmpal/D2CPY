{
 "cells": [
  {
   "cell_type": "code",
   "execution_count": 1,
   "metadata": {},
   "outputs": [],
   "source": [
    "\n",
    "import sys\n",
    "sys.path.append(\"..\")\n",
    "\n",
    "from d2c.simulatedTimeSeries import SimulatedTimeSeries\n",
    "from d2c.D2C import D2C"
   ]
  },
  {
   "cell_type": "code",
   "execution_count": 2,
   "metadata": {},
   "outputs": [],
   "source": [
    "n_series = 5\n",
    "n_observations = 150\n",
    "n_variables = 3\n"
   ]
  },
  {
   "cell_type": "code",
   "execution_count": 3,
   "metadata": {},
   "outputs": [],
   "source": [
    "\n",
    "simulated_timeseries = SimulatedTimeSeries(n_series, n_observations, n_variables, random_state=0)\n",
    "simulated_timeseries.generate_time_series()"
   ]
  },
  {
   "cell_type": "code",
   "execution_count": 4,
   "metadata": {},
   "outputs": [
    {
     "data": {
      "text/plain": [
       "[            1          0         2\n",
       " 0    2.416411   2.146963  1.204089\n",
       " 1    4.158211   5.973619  1.112717\n",
       " 2    4.905596  10.922415  1.198911\n",
       " 3    5.452700  16.240474  0.967848\n",
       " 4    5.345288  21.285442  1.115806\n",
       " ..        ...        ...       ...\n",
       " 145  5.767337  93.224347  0.975267\n",
       " 146  5.603069  93.404857  1.147011\n",
       " 147  5.691487  93.488075  1.082330\n",
       " 148  5.758904  93.600904  1.096327\n",
       " 149  5.805192  93.482782  0.866159\n",
       " \n",
       " [150 rows x 3 columns],\n",
       "             1          0         2\n",
       " 0   -1.227416   0.147402 -1.246050\n",
       " 1   -2.136932  -0.215052 -1.286838\n",
       " 2   -2.856595  -0.712115 -1.185375\n",
       " 3   -2.924854  -1.166757 -1.254499\n",
       " 4   -3.142183  -1.716966 -1.403961\n",
       " ..        ...        ...       ...\n",
       " 145 -3.484017 -27.685359 -1.135667\n",
       " 146 -3.109982 -27.530144 -1.201567\n",
       " 147 -3.031053 -27.538082 -1.446338\n",
       " 148 -3.236025 -27.635734 -1.460686\n",
       " 149 -3.405548 -27.782300 -1.366283\n",
       " \n",
       " [150 rows x 3 columns],\n",
       "             1         0         2\n",
       " 0   -1.196702  2.291452  1.350533\n",
       " 1   -1.247415  4.321037  1.590824\n",
       " 2   -1.309377  5.800860  1.440279\n",
       " 3   -1.222761  6.406531  1.444624\n",
       " 4   -1.323611  6.531588  1.491592\n",
       " ..        ...       ...       ...\n",
       " 145 -1.191470  7.344786  1.628772\n",
       " 146 -1.192476  7.146189  1.628911\n",
       " 147 -1.434679  7.226463  1.609874\n",
       " 148 -1.204706  7.251999  1.559054\n",
       " 149 -1.223067  7.131644  1.641180\n",
       " \n",
       " [150 rows x 3 columns],\n",
       "             1         0         2\n",
       " 0    2.382556  2.339752 -0.078591\n",
       " 1    2.597883  5.431464 -0.055925\n",
       " 2    2.876469  6.717821 -0.285038\n",
       " 3    2.655944  7.411342 -0.317694\n",
       " 4    2.488442  7.053225 -0.036901\n",
       " ..        ...       ...       ...\n",
       " 145  2.581666  6.779473 -0.298010\n",
       " 146  2.419594  6.808433 -0.309002\n",
       " 147  2.471803  6.253243 -0.291835\n",
       " 148  2.557434  6.300152 -0.219472\n",
       " 149  2.430027  6.684646 -0.132918\n",
       " \n",
       " [150 rows x 3 columns],\n",
       "             1          0         2\n",
       " 0   -0.061847  -0.952341  0.360257\n",
       " 1   -0.236518  -1.344884  0.333882\n",
       " 2   -0.534252  -1.961256  0.215980\n",
       " 3   -0.860611  -2.962426  0.107729\n",
       " 4   -1.107842  -4.244508  0.244493\n",
       " ..        ...        ...       ...\n",
       " 145 -6.560765 -27.013986  0.322408\n",
       " 146 -6.579856 -26.825485  0.218993\n",
       " 147 -6.479967 -26.930691  0.235781\n",
       " 148 -6.517669 -26.639858  0.247594\n",
       " 149 -6.394282 -26.674178  0.186620\n",
       " \n",
       " [150 rows x 3 columns]]"
      ]
     },
     "execution_count": 4,
     "metadata": {},
     "output_type": "execute_result"
    }
   ],
   "source": [
    "simulated_timeseries.get_observations()"
   ]
  },
  {
   "cell_type": "code",
   "execution_count": 5,
   "metadata": {},
   "outputs": [
    {
     "ename": "IndexError",
     "evalue": "cannot do a non-empty take from an empty axes.",
     "output_type": "error",
     "traceback": [
      "\u001b[1;31m---------------------------------------------------------------------------\u001b[0m",
      "\u001b[1;31mIndexError\u001b[0m                                Traceback (most recent call last)",
      "\u001b[1;32mc:\\Users\\Administrateur\\git\\D2CPY\\causeme\\training.ipynb Cell 5\u001b[0m in \u001b[0;36m<cell line: 2>\u001b[1;34m()\u001b[0m\n\u001b[0;32m      <a href='vscode-notebook-cell:/c%3A/Users/Administrateur/git/D2CPY/causeme/training.ipynb#W3sZmlsZQ%3D%3D?line=0'>1</a>\u001b[0m d2c \u001b[39m=\u001b[39m D2C(simulated_timeseries\u001b[39m.\u001b[39mget_dags(),simulated_timeseries\u001b[39m.\u001b[39mget_observations())\n\u001b[1;32m----> <a href='vscode-notebook-cell:/c%3A/Users/Administrateur/git/D2CPY/causeme/training.ipynb#W3sZmlsZQ%3D%3D?line=1'>2</a>\u001b[0m d2c\u001b[39m.\u001b[39;49minitialize()\n",
      "File \u001b[1;32mc:\\Users\\Administrateur\\git\\D2CPY\\causeme\\..\\d2c\\D2C.py:68\u001b[0m, in \u001b[0;36mD2C.initialize\u001b[1;34m(self)\u001b[0m\n\u001b[0;32m     63\u001b[0m \u001b[39m\u001b[39m\u001b[39m\"\"\"\u001b[39;00m\n\u001b[0;32m     64\u001b[0m \u001b[39mInitialize the D2C object by computing descriptors in parallel for all observations.\u001b[39;00m\n\u001b[0;32m     65\u001b[0m \n\u001b[0;32m     66\u001b[0m \u001b[39m\"\"\"\u001b[39;00m\n\u001b[0;32m     67\u001b[0m \u001b[39mif\u001b[39;00m \u001b[39mself\u001b[39m\u001b[39m.\u001b[39mn_jobs \u001b[39m==\u001b[39m \u001b[39m1\u001b[39m:\n\u001b[1;32m---> 68\u001b[0m     results \u001b[39m=\u001b[39m [\u001b[39mself\u001b[39m\u001b[39m.\u001b[39m_compute_descriptors_for_edge_pairs(DAG_index) \u001b[39mfor\u001b[39;00m DAG_index \u001b[39min\u001b[39;00m \u001b[39mself\u001b[39m\u001b[39m.\u001b[39mDAGs_index]\n\u001b[0;32m     69\u001b[0m \u001b[39melse\u001b[39;00m:\n\u001b[0;32m     70\u001b[0m     \u001b[39mwith\u001b[39;00m Pool(processes\u001b[39m=\u001b[39m\u001b[39mself\u001b[39m\u001b[39m.\u001b[39mn_jobs) \u001b[39mas\u001b[39;00m pool:\n",
      "File \u001b[1;32mc:\\Users\\Administrateur\\git\\D2CPY\\causeme\\..\\d2c\\D2C.py:68\u001b[0m, in \u001b[0;36m<listcomp>\u001b[1;34m(.0)\u001b[0m\n\u001b[0;32m     63\u001b[0m \u001b[39m\u001b[39m\u001b[39m\"\"\"\u001b[39;00m\n\u001b[0;32m     64\u001b[0m \u001b[39mInitialize the D2C object by computing descriptors in parallel for all observations.\u001b[39;00m\n\u001b[0;32m     65\u001b[0m \n\u001b[0;32m     66\u001b[0m \u001b[39m\"\"\"\u001b[39;00m\n\u001b[0;32m     67\u001b[0m \u001b[39mif\u001b[39;00m \u001b[39mself\u001b[39m\u001b[39m.\u001b[39mn_jobs \u001b[39m==\u001b[39m \u001b[39m1\u001b[39m:\n\u001b[1;32m---> 68\u001b[0m     results \u001b[39m=\u001b[39m [\u001b[39mself\u001b[39;49m\u001b[39m.\u001b[39;49m_compute_descriptors_for_edge_pairs(DAG_index) \u001b[39mfor\u001b[39;00m DAG_index \u001b[39min\u001b[39;00m \u001b[39mself\u001b[39m\u001b[39m.\u001b[39mDAGs_index]\n\u001b[0;32m     69\u001b[0m \u001b[39melse\u001b[39;00m:\n\u001b[0;32m     70\u001b[0m     \u001b[39mwith\u001b[39;00m Pool(processes\u001b[39m=\u001b[39m\u001b[39mself\u001b[39m\u001b[39m.\u001b[39mn_jobs) \u001b[39mas\u001b[39;00m pool:\n",
      "File \u001b[1;32mc:\\Users\\Administrateur\\git\\D2CPY\\causeme\\..\\d2c\\D2C.py:94\u001b[0m, in \u001b[0;36mD2C._compute_descriptors_for_edge_pairs\u001b[1;34m(self, DAG_index)\u001b[0m\n\u001b[0;32m     92\u001b[0m \u001b[39mfor\u001b[39;00m edge_pair \u001b[39min\u001b[39;00m edge_pairs:\n\u001b[0;32m     93\u001b[0m     parent, child \u001b[39m=\u001b[39m edge_pair[\u001b[39m0\u001b[39m], edge_pair[\u001b[39m1\u001b[39m]\n\u001b[1;32m---> 94\u001b[0m     descriptor \u001b[39m=\u001b[39m \u001b[39mself\u001b[39;49m\u001b[39m.\u001b[39;49m_compute_descriptors(DAG_index, parent, child)\n\u001b[0;32m     95\u001b[0m     X\u001b[39m.\u001b[39mappend(descriptor)\n\u001b[0;32m     96\u001b[0m     Y\u001b[39m.\u001b[39mappend(\u001b[39m1\u001b[39m)  \u001b[39m# Label edge as \"is.child\"\u001b[39;00m\n",
      "File \u001b[1;32mc:\\Users\\Administrateur\\git\\D2CPY\\causeme\\..\\d2c\\D2C.py:250\u001b[0m, in \u001b[0;36mD2C._compute_descriptors\u001b[1;34m(self, DAG_index, ca, ef, MB_size, maxs, lin, acc, pq)\u001b[0m\n\u001b[0;32m    248\u001b[0m values\u001b[39m.\u001b[39mextend(np\u001b[39m.\u001b[39mquantile(I3_j, q\u001b[39m=\u001b[39mpq, axis\u001b[39m=\u001b[39m\u001b[39m0\u001b[39m)\u001b[39m.\u001b[39mflatten()) \n\u001b[0;32m    249\u001b[0m values\u001b[39m.\u001b[39mextend(np\u001b[39m.\u001b[39mquantile(Int3_i, q\u001b[39m=\u001b[39mpq, axis\u001b[39m=\u001b[39m\u001b[39m0\u001b[39m)\u001b[39m.\u001b[39mflatten()) \n\u001b[1;32m--> 250\u001b[0m values\u001b[39m.\u001b[39mextend(np\u001b[39m.\u001b[39;49mquantile(Int3_j, q\u001b[39m=\u001b[39;49mpq, axis\u001b[39m=\u001b[39;49m\u001b[39m0\u001b[39;49m)\u001b[39m.\u001b[39mflatten()) \n\u001b[0;32m    251\u001b[0m values\u001b[39m.\u001b[39mextend([gini_delta, gini_delta2,gini_ca_ef, gini_ef_ca]) \n\u001b[0;32m    254\u001b[0m \u001b[39m# Replace NA values with 0\u001b[39;00m\n",
      "File \u001b[1;32m<__array_function__ internals>:180\u001b[0m, in \u001b[0;36mquantile\u001b[1;34m(*args, **kwargs)\u001b[0m\n",
      "File \u001b[1;32mc:\\ProgramData\\Anaconda3\\envs\\d2c\\lib\\site-packages\\numpy\\lib\\function_base.py:4412\u001b[0m, in \u001b[0;36mquantile\u001b[1;34m(a, q, axis, out, overwrite_input, method, keepdims, interpolation)\u001b[0m\n\u001b[0;32m   4410\u001b[0m \u001b[39mif\u001b[39;00m \u001b[39mnot\u001b[39;00m _quantile_is_valid(q):\n\u001b[0;32m   4411\u001b[0m     \u001b[39mraise\u001b[39;00m \u001b[39mValueError\u001b[39;00m(\u001b[39m\"\u001b[39m\u001b[39mQuantiles must be in the range [0, 1]\u001b[39m\u001b[39m\"\u001b[39m)\n\u001b[1;32m-> 4412\u001b[0m \u001b[39mreturn\u001b[39;00m _quantile_unchecked(\n\u001b[0;32m   4413\u001b[0m     a, q, axis, out, overwrite_input, method, keepdims)\n",
      "File \u001b[1;32mc:\\ProgramData\\Anaconda3\\envs\\d2c\\lib\\site-packages\\numpy\\lib\\function_base.py:4424\u001b[0m, in \u001b[0;36m_quantile_unchecked\u001b[1;34m(a, q, axis, out, overwrite_input, method, keepdims)\u001b[0m\n\u001b[0;32m   4416\u001b[0m \u001b[39mdef\u001b[39;00m \u001b[39m_quantile_unchecked\u001b[39m(a,\n\u001b[0;32m   4417\u001b[0m                         q,\n\u001b[0;32m   4418\u001b[0m                         axis\u001b[39m=\u001b[39m\u001b[39mNone\u001b[39;00m,\n\u001b[1;32m   (...)\u001b[0m\n\u001b[0;32m   4421\u001b[0m                         method\u001b[39m=\u001b[39m\u001b[39m\"\u001b[39m\u001b[39mlinear\u001b[39m\u001b[39m\"\u001b[39m,\n\u001b[0;32m   4422\u001b[0m                         keepdims\u001b[39m=\u001b[39m\u001b[39mFalse\u001b[39;00m):\n\u001b[0;32m   4423\u001b[0m \u001b[39m    \u001b[39m\u001b[39m\"\"\"Assumes that q is in [0, 1], and is an ndarray\"\"\"\u001b[39;00m\n\u001b[1;32m-> 4424\u001b[0m     r, k \u001b[39m=\u001b[39m _ureduce(a,\n\u001b[0;32m   4425\u001b[0m                     func\u001b[39m=\u001b[39;49m_quantile_ureduce_func,\n\u001b[0;32m   4426\u001b[0m                     q\u001b[39m=\u001b[39;49mq,\n\u001b[0;32m   4427\u001b[0m                     axis\u001b[39m=\u001b[39;49maxis,\n\u001b[0;32m   4428\u001b[0m                     out\u001b[39m=\u001b[39;49mout,\n\u001b[0;32m   4429\u001b[0m                     overwrite_input\u001b[39m=\u001b[39;49moverwrite_input,\n\u001b[0;32m   4430\u001b[0m                     method\u001b[39m=\u001b[39;49mmethod)\n\u001b[0;32m   4431\u001b[0m     \u001b[39mif\u001b[39;00m keepdims:\n\u001b[0;32m   4432\u001b[0m         \u001b[39mreturn\u001b[39;00m r\u001b[39m.\u001b[39mreshape(q\u001b[39m.\u001b[39mshape \u001b[39m+\u001b[39m k)\n",
      "File \u001b[1;32mc:\\ProgramData\\Anaconda3\\envs\\d2c\\lib\\site-packages\\numpy\\lib\\function_base.py:3725\u001b[0m, in \u001b[0;36m_ureduce\u001b[1;34m(a, func, **kwargs)\u001b[0m\n\u001b[0;32m   3722\u001b[0m \u001b[39melse\u001b[39;00m:\n\u001b[0;32m   3723\u001b[0m     keepdim \u001b[39m=\u001b[39m (\u001b[39m1\u001b[39m,) \u001b[39m*\u001b[39m a\u001b[39m.\u001b[39mndim\n\u001b[1;32m-> 3725\u001b[0m r \u001b[39m=\u001b[39m func(a, \u001b[39m*\u001b[39;49m\u001b[39m*\u001b[39;49mkwargs)\n\u001b[0;32m   3726\u001b[0m \u001b[39mreturn\u001b[39;00m r, keepdim\n",
      "File \u001b[1;32mc:\\ProgramData\\Anaconda3\\envs\\d2c\\lib\\site-packages\\numpy\\lib\\function_base.py:4593\u001b[0m, in \u001b[0;36m_quantile_ureduce_func\u001b[1;34m(a, q, axis, out, overwrite_input, method)\u001b[0m\n\u001b[0;32m   4591\u001b[0m     \u001b[39melse\u001b[39;00m:\n\u001b[0;32m   4592\u001b[0m         arr \u001b[39m=\u001b[39m a\u001b[39m.\u001b[39mcopy()\n\u001b[1;32m-> 4593\u001b[0m result \u001b[39m=\u001b[39m _quantile(arr,\n\u001b[0;32m   4594\u001b[0m                    quantiles\u001b[39m=\u001b[39;49mq,\n\u001b[0;32m   4595\u001b[0m                    axis\u001b[39m=\u001b[39;49maxis,\n\u001b[0;32m   4596\u001b[0m                    method\u001b[39m=\u001b[39;49mmethod,\n\u001b[0;32m   4597\u001b[0m                    out\u001b[39m=\u001b[39;49mout)\n\u001b[0;32m   4598\u001b[0m \u001b[39mreturn\u001b[39;00m result\n",
      "File \u001b[1;32mc:\\ProgramData\\Anaconda3\\envs\\d2c\\lib\\site-packages\\numpy\\lib\\function_base.py:4699\u001b[0m, in \u001b[0;36m_quantile\u001b[1;34m(arr, quantiles, axis, method, out)\u001b[0m\n\u001b[0;32m   4691\u001b[0m arr\u001b[39m.\u001b[39mpartition(\n\u001b[0;32m   4692\u001b[0m     np\u001b[39m.\u001b[39munique(np\u001b[39m.\u001b[39mconcatenate(([\u001b[39m0\u001b[39m, \u001b[39m-\u001b[39m\u001b[39m1\u001b[39m],\n\u001b[0;32m   4693\u001b[0m                               previous_indexes\u001b[39m.\u001b[39mravel(),\n\u001b[0;32m   4694\u001b[0m                               next_indexes\u001b[39m.\u001b[39mravel(),\n\u001b[0;32m   4695\u001b[0m                               ))),\n\u001b[0;32m   4696\u001b[0m     axis\u001b[39m=\u001b[39mDATA_AXIS)\n\u001b[0;32m   4697\u001b[0m \u001b[39mif\u001b[39;00m np\u001b[39m.\u001b[39missubdtype(arr\u001b[39m.\u001b[39mdtype, np\u001b[39m.\u001b[39minexact):\n\u001b[0;32m   4698\u001b[0m     slices_having_nans \u001b[39m=\u001b[39m np\u001b[39m.\u001b[39misnan(\n\u001b[1;32m-> 4699\u001b[0m         take(arr, indices\u001b[39m=\u001b[39;49m\u001b[39m-\u001b[39;49m\u001b[39m1\u001b[39;49m, axis\u001b[39m=\u001b[39;49mDATA_AXIS)\n\u001b[0;32m   4700\u001b[0m     )\n\u001b[0;32m   4701\u001b[0m \u001b[39melse\u001b[39;00m:\n\u001b[0;32m   4702\u001b[0m     slices_having_nans \u001b[39m=\u001b[39m \u001b[39mNone\u001b[39;00m\n",
      "File \u001b[1;32m<__array_function__ internals>:180\u001b[0m, in \u001b[0;36mtake\u001b[1;34m(*args, **kwargs)\u001b[0m\n",
      "File \u001b[1;32mc:\\ProgramData\\Anaconda3\\envs\\d2c\\lib\\site-packages\\numpy\\core\\fromnumeric.py:190\u001b[0m, in \u001b[0;36mtake\u001b[1;34m(a, indices, axis, out, mode)\u001b[0m\n\u001b[0;32m     93\u001b[0m \u001b[39m@array_function_dispatch\u001b[39m(_take_dispatcher)\n\u001b[0;32m     94\u001b[0m \u001b[39mdef\u001b[39;00m \u001b[39mtake\u001b[39m(a, indices, axis\u001b[39m=\u001b[39m\u001b[39mNone\u001b[39;00m, out\u001b[39m=\u001b[39m\u001b[39mNone\u001b[39;00m, mode\u001b[39m=\u001b[39m\u001b[39m'\u001b[39m\u001b[39mraise\u001b[39m\u001b[39m'\u001b[39m):\n\u001b[0;32m     95\u001b[0m \u001b[39m    \u001b[39m\u001b[39m\"\"\"\u001b[39;00m\n\u001b[0;32m     96\u001b[0m \u001b[39m    Take elements from an array along an axis.\u001b[39;00m\n\u001b[0;32m     97\u001b[0m \n\u001b[1;32m   (...)\u001b[0m\n\u001b[0;32m    188\u001b[0m \u001b[39m           [5, 7]])\u001b[39;00m\n\u001b[0;32m    189\u001b[0m \u001b[39m    \"\"\"\u001b[39;00m\n\u001b[1;32m--> 190\u001b[0m     \u001b[39mreturn\u001b[39;00m _wrapfunc(a, \u001b[39m'\u001b[39;49m\u001b[39mtake\u001b[39;49m\u001b[39m'\u001b[39;49m, indices, axis\u001b[39m=\u001b[39;49maxis, out\u001b[39m=\u001b[39;49mout, mode\u001b[39m=\u001b[39;49mmode)\n",
      "File \u001b[1;32mc:\\ProgramData\\Anaconda3\\envs\\d2c\\lib\\site-packages\\numpy\\core\\fromnumeric.py:57\u001b[0m, in \u001b[0;36m_wrapfunc\u001b[1;34m(obj, method, *args, **kwds)\u001b[0m\n\u001b[0;32m     54\u001b[0m     \u001b[39mreturn\u001b[39;00m _wrapit(obj, method, \u001b[39m*\u001b[39margs, \u001b[39m*\u001b[39m\u001b[39m*\u001b[39mkwds)\n\u001b[0;32m     56\u001b[0m \u001b[39mtry\u001b[39;00m:\n\u001b[1;32m---> 57\u001b[0m     \u001b[39mreturn\u001b[39;00m bound(\u001b[39m*\u001b[39;49margs, \u001b[39m*\u001b[39;49m\u001b[39m*\u001b[39;49mkwds)\n\u001b[0;32m     58\u001b[0m \u001b[39mexcept\u001b[39;00m \u001b[39mTypeError\u001b[39;00m:\n\u001b[0;32m     59\u001b[0m     \u001b[39m# A TypeError occurs if the object does have such a method in its\u001b[39;00m\n\u001b[0;32m     60\u001b[0m     \u001b[39m# class, but its signature is not identical to that of NumPy's. This\u001b[39;00m\n\u001b[1;32m   (...)\u001b[0m\n\u001b[0;32m     64\u001b[0m     \u001b[39m# Call _wrapit from within the except clause to ensure a potential\u001b[39;00m\n\u001b[0;32m     65\u001b[0m     \u001b[39m# exception has a traceback chain.\u001b[39;00m\n\u001b[0;32m     66\u001b[0m     \u001b[39mreturn\u001b[39;00m _wrapit(obj, method, \u001b[39m*\u001b[39margs, \u001b[39m*\u001b[39m\u001b[39m*\u001b[39mkwds)\n",
      "\u001b[1;31mIndexError\u001b[0m: cannot do a non-empty take from an empty axes."
     ]
    }
   ],
   "source": [
    "d2c = D2C(simulated_timeseries.get_dags(),simulated_timeseries.get_observations())\n",
    "d2c.initialize()\n"
   ]
  },
  {
   "cell_type": "code",
   "execution_count": null,
   "metadata": {},
   "outputs": [],
   "source": [
    "d2c.save_descriptors_df('training_descriptors.csv')"
   ]
  },
  {
   "cell_type": "code",
   "execution_count": null,
   "metadata": {},
   "outputs": [],
   "source": []
  }
 ],
 "metadata": {
  "kernelspec": {
   "display_name": "d2c",
   "language": "python",
   "name": "python3"
  },
  "language_info": {
   "codemirror_mode": {
    "name": "ipython",
    "version": 3
   },
   "file_extension": ".py",
   "mimetype": "text/x-python",
   "name": "python",
   "nbconvert_exporter": "python",
   "pygments_lexer": "ipython3",
   "version": "3.8.16"
  },
  "orig_nbformat": 4
 },
 "nbformat": 4,
 "nbformat_minor": 2
}
