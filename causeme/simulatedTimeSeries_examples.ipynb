{
 "cells": [
  {
   "attachments": {},
   "cell_type": "markdown",
   "metadata": {},
   "source": [
    "# Examples"
   ]
  },
  {
   "cell_type": "code",
   "execution_count": 1,
   "metadata": {},
   "outputs": [],
   "source": [
    "import sys\n",
    "sys.path.append(\"..\")"
   ]
  },
  {
   "cell_type": "code",
   "execution_count": 2,
   "metadata": {},
   "outputs": [],
   "source": [
    "from d2c.simulatedTimeSeries import SimulatedTimeSeries\n",
    "from d2c.D2C import D2C"
   ]
  },
  {
   "cell_type": "code",
   "execution_count": 3,
   "metadata": {},
   "outputs": [],
   "source": [
    "n_series = 10\n",
    "n_observations = 100\n",
    "n_variables = 4"
   ]
  },
  {
   "cell_type": "code",
   "execution_count": 4,
   "metadata": {},
   "outputs": [],
   "source": [
    "simulated_timeseries = SimulatedTimeSeries(n_series, n_observations, n_variables, random_state=0)\n",
    "simulated_timeseries.generate_time_series()"
   ]
  },
  {
   "cell_type": "code",
   "execution_count": 5,
   "metadata": {},
   "outputs": [],
   "source": [
    "all_DAGs = simulated_timeseries.get_dags()\n",
    "training_DAGs = all_DAGs[:-1]\n",
    "testing_DAGs = all_DAGs[-1]\n",
    "\n",
    "all_observations = simulated_timeseries.get_observations()\n",
    "training_observations = all_observations[:-1]\n",
    "testing_observations = all_observations[-1]\n"
   ]
  },
  {
   "cell_type": "code",
   "execution_count": 6,
   "metadata": {},
   "outputs": [
    {
     "name": "stdout",
     "output_type": "stream",
     "text": [
      "17:32:05 Descriptors for DAG 0 edge pair 1 0 computed\n",
      "17:32:07 Descriptors for DAG 0 edge pair 0 1 computed\n"
     ]
    },
    {
     "ename": "KeyboardInterrupt",
     "evalue": "",
     "output_type": "error",
     "traceback": [
      "\u001b[1;31m---------------------------------------------------------------------------\u001b[0m",
      "\u001b[1;31mEmpty\u001b[0m                                     Traceback (most recent call last)",
      "File \u001b[1;32mc:\\ProgramData\\Anaconda3\\envs\\d2c\\lib\\site-packages\\joblib\\parallel.py:862\u001b[0m, in \u001b[0;36mParallel.dispatch_one_batch\u001b[1;34m(self, iterator)\u001b[0m\n\u001b[0;32m    861\u001b[0m \u001b[39mtry\u001b[39;00m:\n\u001b[1;32m--> 862\u001b[0m     tasks \u001b[39m=\u001b[39m \u001b[39mself\u001b[39;49m\u001b[39m.\u001b[39;49m_ready_batches\u001b[39m.\u001b[39;49mget(block\u001b[39m=\u001b[39;49m\u001b[39mFalse\u001b[39;49;00m)\n\u001b[0;32m    863\u001b[0m \u001b[39mexcept\u001b[39;00m queue\u001b[39m.\u001b[39mEmpty:\n\u001b[0;32m    864\u001b[0m     \u001b[39m# slice the iterator n_jobs * batchsize items at a time. If the\u001b[39;00m\n\u001b[0;32m    865\u001b[0m     \u001b[39m# slice returns less than that, then the current batchsize puts\u001b[39;00m\n\u001b[1;32m   (...)\u001b[0m\n\u001b[0;32m    868\u001b[0m     \u001b[39m# accordingly to distribute evenly the last items between all\u001b[39;00m\n\u001b[0;32m    869\u001b[0m     \u001b[39m# workers.\u001b[39;00m\n",
      "File \u001b[1;32mc:\\ProgramData\\Anaconda3\\envs\\d2c\\lib\\queue.py:167\u001b[0m, in \u001b[0;36mQueue.get\u001b[1;34m(self, block, timeout)\u001b[0m\n\u001b[0;32m    166\u001b[0m     \u001b[39mif\u001b[39;00m \u001b[39mnot\u001b[39;00m \u001b[39mself\u001b[39m\u001b[39m.\u001b[39m_qsize():\n\u001b[1;32m--> 167\u001b[0m         \u001b[39mraise\u001b[39;00m Empty\n\u001b[0;32m    168\u001b[0m \u001b[39melif\u001b[39;00m timeout \u001b[39mis\u001b[39;00m \u001b[39mNone\u001b[39;00m:\n",
      "\u001b[1;31mEmpty\u001b[0m: ",
      "\nDuring handling of the above exception, another exception occurred:\n",
      "\u001b[1;31mKeyboardInterrupt\u001b[0m                         Traceback (most recent call last)",
      "\u001b[1;32mc:\\Users\\Administrateur\\git\\D2CPY\\causeme\\simulatedTimeSeries_examples.ipynb Cell 7\u001b[0m in \u001b[0;36m<cell line: 2>\u001b[1;34m()\u001b[0m\n\u001b[0;32m      <a href='vscode-notebook-cell:/c%3A/Users/Administrateur/git/D2CPY/causeme/simulatedTimeSeries_examples.ipynb#W6sZmlsZQ%3D%3D?line=0'>1</a>\u001b[0m d2c \u001b[39m=\u001b[39m D2C(training_DAGs,training_observations)\n\u001b[1;32m----> <a href='vscode-notebook-cell:/c%3A/Users/Administrateur/git/D2CPY/causeme/simulatedTimeSeries_examples.ipynb#W6sZmlsZQ%3D%3D?line=1'>2</a>\u001b[0m d2c\u001b[39m.\u001b[39;49minitialize()\n\u001b[0;32m      <a href='vscode-notebook-cell:/c%3A/Users/Administrateur/git/D2CPY/causeme/simulatedTimeSeries_examples.ipynb#W6sZmlsZQ%3D%3D?line=2'>3</a>\u001b[0m \u001b[39m# d2c.load_descriptors_df('timeseries.csv')\u001b[39;00m\n",
      "File \u001b[1;32mc:\\Users\\Administrateur\\git\\D2CPY\\causeme\\..\\d2c\\D2C.py:68\u001b[0m, in \u001b[0;36mD2C.initialize\u001b[1;34m(self)\u001b[0m\n\u001b[0;32m     63\u001b[0m \u001b[39m\u001b[39m\u001b[39m\"\"\"\u001b[39;00m\n\u001b[0;32m     64\u001b[0m \u001b[39mInitialize the D2C object by computing descriptors in parallel for all observations.\u001b[39;00m\n\u001b[0;32m     65\u001b[0m \n\u001b[0;32m     66\u001b[0m \u001b[39m\"\"\"\u001b[39;00m\n\u001b[0;32m     67\u001b[0m \u001b[39mif\u001b[39;00m \u001b[39mself\u001b[39m\u001b[39m.\u001b[39mn_jobs \u001b[39m==\u001b[39m \u001b[39m1\u001b[39m:\n\u001b[1;32m---> 68\u001b[0m     results \u001b[39m=\u001b[39m [\u001b[39mself\u001b[39m\u001b[39m.\u001b[39m_compute_descriptors_for_edge_pairs(DAG_index) \u001b[39mfor\u001b[39;00m DAG_index \u001b[39min\u001b[39;00m \u001b[39mself\u001b[39m\u001b[39m.\u001b[39mDAGs_index]\n\u001b[0;32m     69\u001b[0m \u001b[39melse\u001b[39;00m:\n\u001b[0;32m     70\u001b[0m     \u001b[39mwith\u001b[39;00m Pool(processes\u001b[39m=\u001b[39m\u001b[39mself\u001b[39m\u001b[39m.\u001b[39mn_jobs) \u001b[39mas\u001b[39;00m pool:\n",
      "File \u001b[1;32mc:\\Users\\Administrateur\\git\\D2CPY\\causeme\\..\\d2c\\D2C.py:68\u001b[0m, in \u001b[0;36m<listcomp>\u001b[1;34m(.0)\u001b[0m\n\u001b[0;32m     63\u001b[0m \u001b[39m\u001b[39m\u001b[39m\"\"\"\u001b[39;00m\n\u001b[0;32m     64\u001b[0m \u001b[39mInitialize the D2C object by computing descriptors in parallel for all observations.\u001b[39;00m\n\u001b[0;32m     65\u001b[0m \n\u001b[0;32m     66\u001b[0m \u001b[39m\"\"\"\u001b[39;00m\n\u001b[0;32m     67\u001b[0m \u001b[39mif\u001b[39;00m \u001b[39mself\u001b[39m\u001b[39m.\u001b[39mn_jobs \u001b[39m==\u001b[39m \u001b[39m1\u001b[39m:\n\u001b[1;32m---> 68\u001b[0m     results \u001b[39m=\u001b[39m [\u001b[39mself\u001b[39;49m\u001b[39m.\u001b[39;49m_compute_descriptors_for_edge_pairs(DAG_index) \u001b[39mfor\u001b[39;00m DAG_index \u001b[39min\u001b[39;00m \u001b[39mself\u001b[39m\u001b[39m.\u001b[39mDAGs_index]\n\u001b[0;32m     69\u001b[0m \u001b[39melse\u001b[39;00m:\n\u001b[0;32m     70\u001b[0m     \u001b[39mwith\u001b[39;00m Pool(processes\u001b[39m=\u001b[39m\u001b[39mself\u001b[39m\u001b[39m.\u001b[39mn_jobs) \u001b[39mas\u001b[39;00m pool:\n",
      "File \u001b[1;32mc:\\Users\\Administrateur\\git\\D2CPY\\causeme\\..\\d2c\\D2C.py:94\u001b[0m, in \u001b[0;36mD2C._compute_descriptors_for_edge_pairs\u001b[1;34m(self, DAG_index)\u001b[0m\n\u001b[0;32m     92\u001b[0m \u001b[39mfor\u001b[39;00m edge_pair \u001b[39min\u001b[39;00m edge_pairs:\n\u001b[0;32m     93\u001b[0m     parent, child \u001b[39m=\u001b[39m edge_pair[\u001b[39m0\u001b[39m], edge_pair[\u001b[39m1\u001b[39m]\n\u001b[1;32m---> 94\u001b[0m     descriptor \u001b[39m=\u001b[39m \u001b[39mself\u001b[39;49m\u001b[39m.\u001b[39;49m_compute_descriptors(DAG_index, parent, child)\n\u001b[0;32m     95\u001b[0m     X\u001b[39m.\u001b[39mappend(descriptor)\n\u001b[0;32m     96\u001b[0m     Y\u001b[39m.\u001b[39mappend(\u001b[39m1\u001b[39m)  \u001b[39m# Label edge as \"is.child\"\u001b[39;00m\n",
      "File \u001b[1;32mc:\\Users\\Administrateur\\git\\D2CPY\\causeme\\..\\d2c\\D2C.py:193\u001b[0m, in \u001b[0;36mD2C._compute_descriptors\u001b[1;34m(self, DAG_index, ca, ef, MB_size, maxs, lin, acc, pq)\u001b[0m\n\u001b[0;32m    190\u001b[0m IJ \u001b[39m=\u001b[39m IJ[:\u001b[39mmin\u001b[39m(maxs, \u001b[39mlen\u001b[39m(IJ))]\n\u001b[0;32m    192\u001b[0m I3_i \u001b[39m=\u001b[39m [normalized_conditional_information(D\u001b[39m.\u001b[39miloc[:, MBca[i]], D\u001b[39m.\u001b[39miloc[:, MBef[j]], D\u001b[39m.\u001b[39miloc[:, ca], lin\u001b[39m=\u001b[39mlin,verbose\u001b[39m=\u001b[39m\u001b[39mself\u001b[39m\u001b[39m.\u001b[39mverbose) \u001b[39mfor\u001b[39;00m i, j \u001b[39min\u001b[39;00m IJ]\n\u001b[1;32m--> 193\u001b[0m I3_j \u001b[39m=\u001b[39m [normalized_conditional_information(D\u001b[39m.\u001b[39miloc[:, MBca[i]], D\u001b[39m.\u001b[39miloc[:, MBef[j]], D\u001b[39m.\u001b[39miloc[:, ef], lin\u001b[39m=\u001b[39mlin,verbose\u001b[39m=\u001b[39m\u001b[39mself\u001b[39m\u001b[39m.\u001b[39mverbose) \u001b[39mfor\u001b[39;00m i, j \u001b[39min\u001b[39;00m IJ]\n\u001b[0;32m    195\u001b[0m IJ \u001b[39m=\u001b[39m np\u001b[39m.\u001b[39marray([(i, j) \u001b[39mfor\u001b[39;00m i \u001b[39min\u001b[39;00m \u001b[39mrange\u001b[39m(\u001b[39mlen\u001b[39m(MBca)) \u001b[39mfor\u001b[39;00m j \u001b[39min\u001b[39;00m \u001b[39mrange\u001b[39m(i\u001b[39m+\u001b[39m\u001b[39m1\u001b[39m, \u001b[39mlen\u001b[39m(MBca))])\n\u001b[0;32m    196\u001b[0m np\u001b[39m.\u001b[39mrandom\u001b[39m.\u001b[39mshuffle(IJ)\n",
      "File \u001b[1;32mc:\\Users\\Administrateur\\git\\D2CPY\\causeme\\..\\d2c\\D2C.py:193\u001b[0m, in \u001b[0;36m<listcomp>\u001b[1;34m(.0)\u001b[0m\n\u001b[0;32m    190\u001b[0m IJ \u001b[39m=\u001b[39m IJ[:\u001b[39mmin\u001b[39m(maxs, \u001b[39mlen\u001b[39m(IJ))]\n\u001b[0;32m    192\u001b[0m I3_i \u001b[39m=\u001b[39m [normalized_conditional_information(D\u001b[39m.\u001b[39miloc[:, MBca[i]], D\u001b[39m.\u001b[39miloc[:, MBef[j]], D\u001b[39m.\u001b[39miloc[:, ca], lin\u001b[39m=\u001b[39mlin,verbose\u001b[39m=\u001b[39m\u001b[39mself\u001b[39m\u001b[39m.\u001b[39mverbose) \u001b[39mfor\u001b[39;00m i, j \u001b[39min\u001b[39;00m IJ]\n\u001b[1;32m--> 193\u001b[0m I3_j \u001b[39m=\u001b[39m [normalized_conditional_information(D\u001b[39m.\u001b[39;49miloc[:, MBca[i]], D\u001b[39m.\u001b[39;49miloc[:, MBef[j]], D\u001b[39m.\u001b[39;49miloc[:, ef], lin\u001b[39m=\u001b[39;49mlin,verbose\u001b[39m=\u001b[39;49m\u001b[39mself\u001b[39;49m\u001b[39m.\u001b[39;49mverbose) \u001b[39mfor\u001b[39;00m i, j \u001b[39min\u001b[39;00m IJ]\n\u001b[0;32m    195\u001b[0m IJ \u001b[39m=\u001b[39m np\u001b[39m.\u001b[39marray([(i, j) \u001b[39mfor\u001b[39;00m i \u001b[39min\u001b[39;00m \u001b[39mrange\u001b[39m(\u001b[39mlen\u001b[39m(MBca)) \u001b[39mfor\u001b[39;00m j \u001b[39min\u001b[39;00m \u001b[39mrange\u001b[39m(i\u001b[39m+\u001b[39m\u001b[39m1\u001b[39m, \u001b[39mlen\u001b[39m(MBca))])\n\u001b[0;32m    196\u001b[0m np\u001b[39m.\u001b[39mrandom\u001b[39m.\u001b[39mshuffle(IJ)\n",
      "File \u001b[1;32mc:\\Users\\Administrateur\\git\\D2CPY\\causeme\\..\\d2c\\utils.py:32\u001b[0m, in \u001b[0;36mnormalized_conditional_information\u001b[1;34m(y, x1, x2, lin, verbose)\u001b[0m\n\u001b[0;32m     30\u001b[0m     entropy_y_given_x1 \u001b[39m=\u001b[39m normalized_prediction(x1, y, verbose\u001b[39m=\u001b[39mverbose)\n\u001b[0;32m     31\u001b[0m     \u001b[39mreturn\u001b[39;00m \u001b[39mmax\u001b[39m(\u001b[39m0\u001b[39m, \u001b[39m1\u001b[39m \u001b[39m-\u001b[39m entropy_y_given_x1)\n\u001b[1;32m---> 32\u001b[0m entropy_y_given_x2 \u001b[39m=\u001b[39m normalized_prediction(x2, y, verbose\u001b[39m=\u001b[39;49mverbose)\n\u001b[0;32m     33\u001b[0m entropy_y_given_x1_x2 \u001b[39m=\u001b[39m normalized_prediction(pd\u001b[39m.\u001b[39mconcat([x1, x2],axis\u001b[39m=\u001b[39m\u001b[39m1\u001b[39m), y, verbose\u001b[39m=\u001b[39mverbose)\n\u001b[0;32m     34\u001b[0m \u001b[39mreturn\u001b[39;00m \u001b[39mmax\u001b[39m(\u001b[39m0\u001b[39m, entropy_y_given_x2 \u001b[39m-\u001b[39m entropy_y_given_x1_x2 ) \u001b[39m/\u001b[39m (entropy_y_given_x2 \u001b[39m+\u001b[39m \u001b[39m0.01\u001b[39m)\n",
      "File \u001b[1;32mc:\\Users\\Administrateur\\git\\D2CPY\\causeme\\..\\d2c\\utils.py:56\u001b[0m, in \u001b[0;36mnormalized_prediction\u001b[1;34m(X, Y, lin, verbose)\u001b[0m\n\u001b[0;32m     54\u001b[0m     \u001b[39mreturn\u001b[39;00m np\u001b[39m.\u001b[39mvar(Y)\n\u001b[0;32m     55\u001b[0m \u001b[39mif\u001b[39;00m lin: \n\u001b[1;32m---> 56\u001b[0m     \u001b[39mreturn\u001b[39;00m \u001b[39mmax\u001b[39m(\u001b[39m1e-3\u001b[39m, \u001b[39m-\u001b[39mnp\u001b[39m.\u001b[39mmean(cross_val_score(Ridge(alpha\u001b[39m=\u001b[39;49m\u001b[39m1e-3\u001b[39;49m), XX, Y, scoring\u001b[39m=\u001b[39;49m\u001b[39m'\u001b[39;49m\u001b[39mneg_mean_squared_error\u001b[39;49m\u001b[39m'\u001b[39;49m, cv\u001b[39m=\u001b[39;49m\u001b[39m5\u001b[39;49m)) \u001b[39m/\u001b[39m (\u001b[39m1e-3\u001b[39m \u001b[39m+\u001b[39m np\u001b[39m.\u001b[39mvar(Y)))\n",
      "File \u001b[1;32m~\\AppData\\Roaming\\Python\\Python38\\site-packages\\sklearn\\model_selection\\_validation.py:515\u001b[0m, in \u001b[0;36mcross_val_score\u001b[1;34m(estimator, X, y, groups, scoring, cv, n_jobs, verbose, fit_params, pre_dispatch, error_score)\u001b[0m\n\u001b[0;32m    512\u001b[0m \u001b[39m# To ensure multimetric format is not supported\u001b[39;00m\n\u001b[0;32m    513\u001b[0m scorer \u001b[39m=\u001b[39m check_scoring(estimator, scoring\u001b[39m=\u001b[39mscoring)\n\u001b[1;32m--> 515\u001b[0m cv_results \u001b[39m=\u001b[39m cross_validate(\n\u001b[0;32m    516\u001b[0m     estimator\u001b[39m=\u001b[39;49mestimator,\n\u001b[0;32m    517\u001b[0m     X\u001b[39m=\u001b[39;49mX,\n\u001b[0;32m    518\u001b[0m     y\u001b[39m=\u001b[39;49my,\n\u001b[0;32m    519\u001b[0m     groups\u001b[39m=\u001b[39;49mgroups,\n\u001b[0;32m    520\u001b[0m     scoring\u001b[39m=\u001b[39;49m{\u001b[39m\"\u001b[39;49m\u001b[39mscore\u001b[39;49m\u001b[39m\"\u001b[39;49m: scorer},\n\u001b[0;32m    521\u001b[0m     cv\u001b[39m=\u001b[39;49mcv,\n\u001b[0;32m    522\u001b[0m     n_jobs\u001b[39m=\u001b[39;49mn_jobs,\n\u001b[0;32m    523\u001b[0m     verbose\u001b[39m=\u001b[39;49mverbose,\n\u001b[0;32m    524\u001b[0m     fit_params\u001b[39m=\u001b[39;49mfit_params,\n\u001b[0;32m    525\u001b[0m     pre_dispatch\u001b[39m=\u001b[39;49mpre_dispatch,\n\u001b[0;32m    526\u001b[0m     error_score\u001b[39m=\u001b[39;49merror_score,\n\u001b[0;32m    527\u001b[0m )\n\u001b[0;32m    528\u001b[0m \u001b[39mreturn\u001b[39;00m cv_results[\u001b[39m\"\u001b[39m\u001b[39mtest_score\u001b[39m\u001b[39m\"\u001b[39m]\n",
      "File \u001b[1;32m~\\AppData\\Roaming\\Python\\Python38\\site-packages\\sklearn\\model_selection\\_validation.py:266\u001b[0m, in \u001b[0;36mcross_validate\u001b[1;34m(estimator, X, y, groups, scoring, cv, n_jobs, verbose, fit_params, pre_dispatch, return_train_score, return_estimator, error_score)\u001b[0m\n\u001b[0;32m    263\u001b[0m \u001b[39m# We clone the estimator to make sure that all the folds are\u001b[39;00m\n\u001b[0;32m    264\u001b[0m \u001b[39m# independent, and that it is pickle-able.\u001b[39;00m\n\u001b[0;32m    265\u001b[0m parallel \u001b[39m=\u001b[39m Parallel(n_jobs\u001b[39m=\u001b[39mn_jobs, verbose\u001b[39m=\u001b[39mverbose, pre_dispatch\u001b[39m=\u001b[39mpre_dispatch)\n\u001b[1;32m--> 266\u001b[0m results \u001b[39m=\u001b[39m parallel(\n\u001b[0;32m    267\u001b[0m     delayed(_fit_and_score)(\n\u001b[0;32m    268\u001b[0m         clone(estimator),\n\u001b[0;32m    269\u001b[0m         X,\n\u001b[0;32m    270\u001b[0m         y,\n\u001b[0;32m    271\u001b[0m         scorers,\n\u001b[0;32m    272\u001b[0m         train,\n\u001b[0;32m    273\u001b[0m         test,\n\u001b[0;32m    274\u001b[0m         verbose,\n\u001b[0;32m    275\u001b[0m         \u001b[39mNone\u001b[39;49;00m,\n\u001b[0;32m    276\u001b[0m         fit_params,\n\u001b[0;32m    277\u001b[0m         return_train_score\u001b[39m=\u001b[39;49mreturn_train_score,\n\u001b[0;32m    278\u001b[0m         return_times\u001b[39m=\u001b[39;49m\u001b[39mTrue\u001b[39;49;00m,\n\u001b[0;32m    279\u001b[0m         return_estimator\u001b[39m=\u001b[39;49mreturn_estimator,\n\u001b[0;32m    280\u001b[0m         error_score\u001b[39m=\u001b[39;49merror_score,\n\u001b[0;32m    281\u001b[0m     )\n\u001b[0;32m    282\u001b[0m     \u001b[39mfor\u001b[39;49;00m train, test \u001b[39min\u001b[39;49;00m cv\u001b[39m.\u001b[39;49msplit(X, y, groups)\n\u001b[0;32m    283\u001b[0m )\n\u001b[0;32m    285\u001b[0m _warn_or_raise_about_fit_failures(results, error_score)\n\u001b[0;32m    287\u001b[0m \u001b[39m# For callabe scoring, the return type is only know after calling. If the\u001b[39;00m\n\u001b[0;32m    288\u001b[0m \u001b[39m# return type is a dictionary, the error scores can now be inserted with\u001b[39;00m\n\u001b[0;32m    289\u001b[0m \u001b[39m# the correct key.\u001b[39;00m\n",
      "File \u001b[1;32m~\\AppData\\Roaming\\Python\\Python38\\site-packages\\sklearn\\utils\\parallel.py:63\u001b[0m, in \u001b[0;36mParallel.__call__\u001b[1;34m(self, iterable)\u001b[0m\n\u001b[0;32m     58\u001b[0m config \u001b[39m=\u001b[39m get_config()\n\u001b[0;32m     59\u001b[0m iterable_with_config \u001b[39m=\u001b[39m (\n\u001b[0;32m     60\u001b[0m     (_with_config(delayed_func, config), args, kwargs)\n\u001b[0;32m     61\u001b[0m     \u001b[39mfor\u001b[39;00m delayed_func, args, kwargs \u001b[39min\u001b[39;00m iterable\n\u001b[0;32m     62\u001b[0m )\n\u001b[1;32m---> 63\u001b[0m \u001b[39mreturn\u001b[39;00m \u001b[39msuper\u001b[39;49m()\u001b[39m.\u001b[39;49m\u001b[39m__call__\u001b[39;49m(iterable_with_config)\n",
      "File \u001b[1;32mc:\\ProgramData\\Anaconda3\\envs\\d2c\\lib\\site-packages\\joblib\\parallel.py:1088\u001b[0m, in \u001b[0;36mParallel.__call__\u001b[1;34m(self, iterable)\u001b[0m\n\u001b[0;32m   1085\u001b[0m \u001b[39mif\u001b[39;00m \u001b[39mself\u001b[39m\u001b[39m.\u001b[39mdispatch_one_batch(iterator):\n\u001b[0;32m   1086\u001b[0m     \u001b[39mself\u001b[39m\u001b[39m.\u001b[39m_iterating \u001b[39m=\u001b[39m \u001b[39mself\u001b[39m\u001b[39m.\u001b[39m_original_iterator \u001b[39mis\u001b[39;00m \u001b[39mnot\u001b[39;00m \u001b[39mNone\u001b[39;00m\n\u001b[1;32m-> 1088\u001b[0m \u001b[39mwhile\u001b[39;00m \u001b[39mself\u001b[39;49m\u001b[39m.\u001b[39;49mdispatch_one_batch(iterator):\n\u001b[0;32m   1089\u001b[0m     \u001b[39mpass\u001b[39;00m\n\u001b[0;32m   1091\u001b[0m \u001b[39mif\u001b[39;00m pre_dispatch \u001b[39m==\u001b[39m \u001b[39m\"\u001b[39m\u001b[39mall\u001b[39m\u001b[39m\"\u001b[39m \u001b[39mor\u001b[39;00m n_jobs \u001b[39m==\u001b[39m \u001b[39m1\u001b[39m:\n\u001b[0;32m   1092\u001b[0m     \u001b[39m# The iterable was consumed all at once by the above for loop.\u001b[39;00m\n\u001b[0;32m   1093\u001b[0m     \u001b[39m# No need to wait for async callbacks to trigger to\u001b[39;00m\n\u001b[0;32m   1094\u001b[0m     \u001b[39m# consumption.\u001b[39;00m\n",
      "File \u001b[1;32mc:\\ProgramData\\Anaconda3\\envs\\d2c\\lib\\site-packages\\joblib\\parallel.py:873\u001b[0m, in \u001b[0;36mParallel.dispatch_one_batch\u001b[1;34m(self, iterator)\u001b[0m\n\u001b[0;32m    870\u001b[0m n_jobs \u001b[39m=\u001b[39m \u001b[39mself\u001b[39m\u001b[39m.\u001b[39m_cached_effective_n_jobs\n\u001b[0;32m    871\u001b[0m big_batch_size \u001b[39m=\u001b[39m batch_size \u001b[39m*\u001b[39m n_jobs\n\u001b[1;32m--> 873\u001b[0m islice \u001b[39m=\u001b[39m \u001b[39mlist\u001b[39;49m(itertools\u001b[39m.\u001b[39;49mislice(iterator, big_batch_size))\n\u001b[0;32m    874\u001b[0m \u001b[39mif\u001b[39;00m \u001b[39mlen\u001b[39m(islice) \u001b[39m==\u001b[39m \u001b[39m0\u001b[39m:\n\u001b[0;32m    875\u001b[0m     \u001b[39mreturn\u001b[39;00m \u001b[39mFalse\u001b[39;00m\n",
      "File \u001b[1;32m~\\AppData\\Roaming\\Python\\Python38\\site-packages\\sklearn\\utils\\parallel.py:59\u001b[0m, in \u001b[0;36m<genexpr>\u001b[1;34m(.0)\u001b[0m\n\u001b[0;32m     54\u001b[0m \u001b[39m# Capture the thread-local scikit-learn configuration at the time\u001b[39;00m\n\u001b[0;32m     55\u001b[0m \u001b[39m# Parallel.__call__ is issued since the tasks can be dispatched\u001b[39;00m\n\u001b[0;32m     56\u001b[0m \u001b[39m# in a different thread depending on the backend and on the value of\u001b[39;00m\n\u001b[0;32m     57\u001b[0m \u001b[39m# pre_dispatch and n_jobs.\u001b[39;00m\n\u001b[0;32m     58\u001b[0m config \u001b[39m=\u001b[39m get_config()\n\u001b[1;32m---> 59\u001b[0m iterable_with_config \u001b[39m=\u001b[39m (\n\u001b[0;32m     60\u001b[0m     (_with_config(delayed_func, config), args, kwargs)\n\u001b[0;32m     61\u001b[0m     \u001b[39mfor\u001b[39;00m delayed_func, args, kwargs \u001b[39min\u001b[39;00m iterable\n\u001b[0;32m     62\u001b[0m )\n\u001b[0;32m     63\u001b[0m \u001b[39mreturn\u001b[39;00m \u001b[39msuper\u001b[39m()\u001b[39m.\u001b[39m\u001b[39m__call__\u001b[39m(iterable_with_config)\n",
      "File \u001b[1;32m~\\AppData\\Roaming\\Python\\Python38\\site-packages\\sklearn\\model_selection\\_validation.py:266\u001b[0m, in \u001b[0;36m<genexpr>\u001b[1;34m(.0)\u001b[0m\n\u001b[0;32m    263\u001b[0m \u001b[39m# We clone the estimator to make sure that all the folds are\u001b[39;00m\n\u001b[0;32m    264\u001b[0m \u001b[39m# independent, and that it is pickle-able.\u001b[39;00m\n\u001b[0;32m    265\u001b[0m parallel \u001b[39m=\u001b[39m Parallel(n_jobs\u001b[39m=\u001b[39mn_jobs, verbose\u001b[39m=\u001b[39mverbose, pre_dispatch\u001b[39m=\u001b[39mpre_dispatch)\n\u001b[1;32m--> 266\u001b[0m results \u001b[39m=\u001b[39m parallel(\n\u001b[0;32m    267\u001b[0m     delayed(_fit_and_score)(\n\u001b[0;32m    268\u001b[0m         clone(estimator),\n\u001b[0;32m    269\u001b[0m         X,\n\u001b[0;32m    270\u001b[0m         y,\n\u001b[0;32m    271\u001b[0m         scorers,\n\u001b[0;32m    272\u001b[0m         train,\n\u001b[0;32m    273\u001b[0m         test,\n\u001b[0;32m    274\u001b[0m         verbose,\n\u001b[0;32m    275\u001b[0m         \u001b[39mNone\u001b[39;00m,\n\u001b[0;32m    276\u001b[0m         fit_params,\n\u001b[0;32m    277\u001b[0m         return_train_score\u001b[39m=\u001b[39mreturn_train_score,\n\u001b[0;32m    278\u001b[0m         return_times\u001b[39m=\u001b[39m\u001b[39mTrue\u001b[39;00m,\n\u001b[0;32m    279\u001b[0m         return_estimator\u001b[39m=\u001b[39mreturn_estimator,\n\u001b[0;32m    280\u001b[0m         error_score\u001b[39m=\u001b[39merror_score,\n\u001b[0;32m    281\u001b[0m     )\n\u001b[0;32m    282\u001b[0m     \u001b[39mfor\u001b[39;00m train, test \u001b[39min\u001b[39;00m cv\u001b[39m.\u001b[39msplit(X, y, groups)\n\u001b[0;32m    283\u001b[0m )\n\u001b[0;32m    285\u001b[0m _warn_or_raise_about_fit_failures(results, error_score)\n\u001b[0;32m    287\u001b[0m \u001b[39m# For callabe scoring, the return type is only know after calling. If the\u001b[39;00m\n\u001b[0;32m    288\u001b[0m \u001b[39m# return type is a dictionary, the error scores can now be inserted with\u001b[39;00m\n\u001b[0;32m    289\u001b[0m \u001b[39m# the correct key.\u001b[39;00m\n",
      "File \u001b[1;32m~\\AppData\\Roaming\\Python\\Python38\\site-packages\\sklearn\\model_selection\\_split.py:352\u001b[0m, in \u001b[0;36m_BaseKFold.split\u001b[1;34m(self, X, y, groups)\u001b[0m\n\u001b[0;32m    344\u001b[0m \u001b[39mif\u001b[39;00m \u001b[39mself\u001b[39m\u001b[39m.\u001b[39mn_splits \u001b[39m>\u001b[39m n_samples:\n\u001b[0;32m    345\u001b[0m     \u001b[39mraise\u001b[39;00m \u001b[39mValueError\u001b[39;00m(\n\u001b[0;32m    346\u001b[0m         (\n\u001b[0;32m    347\u001b[0m             \u001b[39m\"\u001b[39m\u001b[39mCannot have number of splits n_splits=\u001b[39m\u001b[39m{0}\u001b[39;00m\u001b[39m greater\u001b[39m\u001b[39m\"\u001b[39m\n\u001b[0;32m    348\u001b[0m             \u001b[39m\"\u001b[39m\u001b[39m than the number of samples: n_samples=\u001b[39m\u001b[39m{1}\u001b[39;00m\u001b[39m.\u001b[39m\u001b[39m\"\u001b[39m\n\u001b[0;32m    349\u001b[0m         )\u001b[39m.\u001b[39mformat(\u001b[39mself\u001b[39m\u001b[39m.\u001b[39mn_splits, n_samples)\n\u001b[0;32m    350\u001b[0m     )\n\u001b[1;32m--> 352\u001b[0m \u001b[39mfor\u001b[39;00m train, test \u001b[39min\u001b[39;00m \u001b[39msuper\u001b[39m()\u001b[39m.\u001b[39msplit(X, y, groups):\n\u001b[0;32m    353\u001b[0m     \u001b[39myield\u001b[39;00m train, test\n",
      "File \u001b[1;32m~\\AppData\\Roaming\\Python\\Python38\\site-packages\\sklearn\\model_selection\\_split.py:85\u001b[0m, in \u001b[0;36mBaseCrossValidator.split\u001b[1;34m(self, X, y, groups)\u001b[0m\n\u001b[0;32m     83\u001b[0m X, y, groups \u001b[39m=\u001b[39m indexable(X, y, groups)\n\u001b[0;32m     84\u001b[0m indices \u001b[39m=\u001b[39m np\u001b[39m.\u001b[39marange(_num_samples(X))\n\u001b[1;32m---> 85\u001b[0m \u001b[39mfor\u001b[39;00m test_index \u001b[39min\u001b[39;00m \u001b[39mself\u001b[39m\u001b[39m.\u001b[39m_iter_test_masks(X, y, groups):\n\u001b[0;32m     86\u001b[0m     train_index \u001b[39m=\u001b[39m indices[np\u001b[39m.\u001b[39mlogical_not(test_index)]\n\u001b[0;32m     87\u001b[0m     test_index \u001b[39m=\u001b[39m indices[test_index]\n",
      "File \u001b[1;32m~\\AppData\\Roaming\\Python\\Python38\\site-packages\\sklearn\\model_selection\\_split.py:99\u001b[0m, in \u001b[0;36mBaseCrossValidator._iter_test_masks\u001b[1;34m(self, X, y, groups)\u001b[0m\n\u001b[0;32m     97\u001b[0m \u001b[39mfor\u001b[39;00m test_index \u001b[39min\u001b[39;00m \u001b[39mself\u001b[39m\u001b[39m.\u001b[39m_iter_test_indices(X, y, groups):\n\u001b[0;32m     98\u001b[0m     test_mask \u001b[39m=\u001b[39m np\u001b[39m.\u001b[39mzeros(_num_samples(X), dtype\u001b[39m=\u001b[39m\u001b[39mbool\u001b[39m)\n\u001b[1;32m---> 99\u001b[0m     test_mask[test_index] \u001b[39m=\u001b[39m \u001b[39mTrue\u001b[39;00m\n\u001b[0;32m    100\u001b[0m     \u001b[39myield\u001b[39;00m test_mask\n",
      "\u001b[1;31mKeyboardInterrupt\u001b[0m: "
     ]
    }
   ],
   "source": [
    "d2c = D2C(training_DAGs,training_observations)\n",
    "d2c.initialize()\n",
    "# d2c.save_descriptors_df('timeseries.csv')\n"
   ]
  },
  {
   "cell_type": "code",
   "execution_count": 12,
   "metadata": {},
   "outputs": [],
   "source": []
  },
  {
   "cell_type": "code",
   "execution_count": 7,
   "metadata": {},
   "outputs": [
    {
     "name": "stdout",
     "output_type": "stream",
     "text": [
      "14:30:27 Descriptors for DAG 0 edge pair 1 0 computed\n",
      "14:30:28 Descriptors for DAG 0 edge pair 0 1 computed\n",
      "14:30:30 Descriptors for DAG 0 edge pair 2 0 computed\n",
      "14:30:31 Descriptors for DAG 0 edge pair 0 2 computed\n",
      "14:30:33 Descriptors for DAG 0 edge pair 2 1 computed\n",
      "14:30:34 Descriptors for DAG 0 edge pair 1 2 computed\n",
      "14:30:35 Descriptors for DAG 0 edge pair 3 0 computed\n",
      "14:30:37 Descriptors for DAG 0 edge pair 0 3 computed\n",
      "14:30:38 Descriptors for DAG 0 edge pair 3 1 computed\n",
      "14:30:40 Descriptors for DAG 0 edge pair 1 3 computed\n",
      "14:30:41 Descriptors for DAG 0 edge pair 3 2 computed\n",
      "14:30:42 Descriptors for DAG 0 edge pair 2 3 computed\n"
     ]
    }
   ],
   "source": [
    "d2c_test = D2C([testing_DAGs],[testing_observations])\n",
    "# d2c_test.initialize()\n",
    "# d2c_test.save_descriptors_df('timeseries_test.csv')\n",
    "d2c_test.load_descriptors_df('timeseries_test.csv')\n",
    "\n"
   ]
  },
  {
   "cell_type": "code",
   "execution_count": 9,
   "metadata": {},
   "outputs": [],
   "source": [
    "score, G = d2c.test(test_df=d2c_test.get_descriptors_df(), reconstruct=True)\n",
    "\n"
   ]
  },
  {
   "attachments": {},
   "cell_type": "markdown",
   "metadata": {},
   "source": [
    "True graph"
   ]
  },
  {
   "cell_type": "code",
   "execution_count": 10,
   "metadata": {},
   "outputs": [
    {
     "name": "stdout",
     "output_type": "stream",
     "text": [
      "Node 1\n",
      "Node 0\n",
      "Node 2\n",
      "Node 3\n",
      "Edge 1 -> 0\n",
      "Edge 2 -> 0\n",
      "Edge 2 -> 1\n",
      "Edge 3 -> 0\n",
      "Edge 3 -> 1\n",
      "Edge 3 -> 2\n"
     ]
    }
   ],
   "source": [
    "for node, _ in testing_DAGs.nodes(data=True):\n",
    "        print(f\"Node {node}\")\n",
    "for edge_source, edge_dest, _ in testing_DAGs.edges(data=True):\n",
    "        print(f\"Edge {edge_source} -> {edge_dest}\")"
   ]
  },
  {
   "attachments": {},
   "cell_type": "markdown",
   "metadata": {},
   "source": [
    "Reconstructed graph"
   ]
  },
  {
   "cell_type": "code",
   "execution_count": 11,
   "metadata": {},
   "outputs": [
    {
     "name": "stdout",
     "output_type": "stream",
     "text": [
      "Node 1.0\n",
      "Node 0.0\n",
      "Node 2.0\n",
      "Node 3.0\n",
      "Edge 1.0 -> 0.0\n",
      "Edge 0.0 -> 1.0\n",
      "Edge 2.0 -> 1.0\n",
      "Edge 3.0 -> 0.0\n",
      "Edge 3.0 -> 1.0\n"
     ]
    }
   ],
   "source": [
    "for node, _ in G.nodes(data=True):\n",
    "        print(f\"Node {node}\")\n",
    "for edge_source, edge_dest, _ in G.edges(data=True):\n",
    "        print(f\"Edge {edge_source} -> {edge_dest}\")"
   ]
  },
  {
   "cell_type": "code",
   "execution_count": null,
   "metadata": {},
   "outputs": [],
   "source": []
  }
 ],
 "metadata": {
  "kernelspec": {
   "display_name": "d2c",
   "language": "python",
   "name": "python3"
  },
  "language_info": {
   "codemirror_mode": {
    "name": "ipython",
    "version": 3
   },
   "file_extension": ".py",
   "mimetype": "text/x-python",
   "name": "python",
   "nbconvert_exporter": "python",
   "pygments_lexer": "ipython3",
   "version": "3.8.16"
  },
  "orig_nbformat": 4
 },
 "nbformat": 4,
 "nbformat_minor": 2
}
