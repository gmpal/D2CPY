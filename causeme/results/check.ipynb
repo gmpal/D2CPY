{
 "cells": [
  {
   "cell_type": "code",
   "execution_count": 3,
   "metadata": {},
   "outputs": [],
   "source": [
    "#unzip bz2 file varmodel-python_maxlags=1_linear-VAR_N-3_T-150.json.bz2\n",
    "import bz2\n",
    "import json\n",
    "import numpy as np\n",
    "\n",
    "with bz2.open('varmodel-python_maxlags=1_linear-VAR_N-3_T-150.json.bz2', 'rt') as f:\n",
    "    results = json.load(f)\n",
    "\n",
    "\n"
   ]
  },
  {
   "cell_type": "code",
   "execution_count": 4,
   "metadata": {},
   "outputs": [
    {
     "data": {
      "text/plain": [
       "{'method_sha': 'e182a71f4e1645a1b9ede10f615df88a',\n",
       " 'parameter_values': 'maxlags=1',\n",
       " 'model': 'linear-VAR',\n",
       " 'experiment': 'linear-VAR_N-3_T-150',\n",
       " 'scores': [],\n",
       " 'runtimes': []}"
      ]
     },
     "execution_count": 4,
     "metadata": {},
     "output_type": "execute_result"
    }
   ],
   "source": [
    "results"
   ]
  },
  {
   "cell_type": "code",
   "execution_count": null,
   "metadata": {},
   "outputs": [],
   "source": []
  }
 ],
 "metadata": {
  "kernelspec": {
   "display_name": "d2c",
   "language": "python",
   "name": "python3"
  },
  "language_info": {
   "codemirror_mode": {
    "name": "ipython",
    "version": 3
   },
   "file_extension": ".py",
   "mimetype": "text/x-python",
   "name": "python",
   "nbconvert_exporter": "python",
   "pygments_lexer": "ipython3",
   "version": "3.8.16"
  },
  "orig_nbformat": 4
 },
 "nbformat": 4,
 "nbformat_minor": 2
}
