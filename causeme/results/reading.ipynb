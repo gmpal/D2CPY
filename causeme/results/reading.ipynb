{
 "cells": [
  {
   "cell_type": "code",
   "execution_count": null,
   "metadata": {},
   "outputs": [],
   "source": [
    "import os\n",
    "import json\n",
    "\n",
    "scores = []\n",
    "pvalues = []\n",
    "lags = []\n",
    "#read the json in varmodel-python_maxlags=1_linear-VAR_N-3_T-150 folder with name varmodel-python_maxlags=1_linear-VAR_N-3_T-150.json\n",
    "with open('varmodel-python_maxlags=1_linear-VAR_N-3_T-150/varmodel-python_maxlags=1_linear-VAR_N-3_T-150.json') as json_file:\n",
    "    data = json.load(json_file)\n",
    "    for p in data['results']:\n",
    "        scores.append(p['score'])\n",
    "        pvalues.append(p['pvalue'])\n",
    "        lags.append(p['lag'])\n",
    "    print(scores)\n",
    "    print(pvalues)\n",
    "    print(lags)\n",
    "\n"
   ]
  },
  {
   "cell_type": "code",
   "execution_count": null,
   "metadata": {},
   "outputs": [],
   "source": []
  }
 ],
 "metadata": {
  "kernelspec": {
   "display_name": "d2c",
   "language": "python",
   "name": "python3"
  },
  "language_info": {
   "name": "python",
   "version": "3.8.16"
  },
  "orig_nbformat": 4
 },
 "nbformat": 4,
 "nbformat_minor": 2
}
