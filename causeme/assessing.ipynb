{
 "cells": [
  {
   "cell_type": "code",
   "execution_count": 6,
   "metadata": {},
   "outputs": [],
   "source": []
  },
  {
   "cell_type": "code",
   "execution_count": 3,
   "metadata": {},
   "outputs": [],
   "source": []
  },
  {
   "cell_type": "code",
   "execution_count": 7,
   "metadata": {},
   "outputs": [
    {
     "name": "stderr",
     "output_type": "stream",
     "text": [
      "  0%|          | 2/10000 [00:00<32:47,  5.08it/s]"
     ]
    },
    {
     "name": "stdout",
     "output_type": "stream",
     "text": [
      "Logistic Regression scores:  (0.5, 0.4, 0.5)\n",
      "Random Classifier scores:  (0.5, 0.5714285714285715, 0.5)\n",
      "Logistic Regression scores:  (0.8333333333333334, 0.8, 0.8333333333333333)\n",
      "Random Classifier scores:  (0.6666666666666666, 0.5, 0.6666666666666666)\n"
     ]
    },
    {
     "name": "stderr",
     "output_type": "stream",
     "text": [
      "  0%|          | 4/10000 [00:00<30:49,  5.41it/s]"
     ]
    },
    {
     "name": "stdout",
     "output_type": "stream",
     "text": [
      "Logistic Regression scores:  (0.5, 0.0, 0.5)\n",
      "Random Classifier scores:  (0.6666666666666666, 0.5, 0.6666666666666666)\n",
      "Logistic Regression scores:  (0.0, 0.0, 0.0)\n",
      "Random Classifier scores:  (0.3333333333333333, 0.5, 0.3333333333333333)\n"
     ]
    },
    {
     "name": "stderr",
     "output_type": "stream",
     "text": [
      "  0%|          | 6/10000 [00:01<29:54,  5.57it/s]"
     ]
    },
    {
     "name": "stdout",
     "output_type": "stream",
     "text": [
      "Logistic Regression scores:  (0.3333333333333333, 0.0, 0.33333333333333337)\n",
      "Random Classifier scores:  (0.8333333333333334, 0.8571428571428571, 0.8333333333333334)\n",
      "Logistic Regression scores:  (0.6666666666666666, 0.5, 0.6666666666666666)\n",
      "Random Classifier scores:  (0.5, 0.4, 0.5)\n"
     ]
    },
    {
     "name": "stderr",
     "output_type": "stream",
     "text": [
      "  0%|          | 8/10000 [00:01<29:11,  5.70it/s]"
     ]
    },
    {
     "name": "stdout",
     "output_type": "stream",
     "text": [
      "Logistic Regression scores:  (1.0, 1.0, 1.0)\n",
      "Random Classifier scores:  (0.5, 0.6666666666666666, 0.5)\n",
      "Logistic Regression scores:  (0.8333333333333334, 0.8, 0.8333333333333333)\n",
      "Random Classifier scores:  (0.6666666666666666, 0.6666666666666666, 0.6666666666666667)\n"
     ]
    },
    {
     "name": "stderr",
     "output_type": "stream",
     "text": [
      "  0%|          | 10/10000 [00:01<29:14,  5.69it/s]"
     ]
    },
    {
     "name": "stdout",
     "output_type": "stream",
     "text": [
      "Logistic Regression scores:  (0.8333333333333334, 0.8, 0.8333333333333333)\n",
      "Random Classifier scores:  (0.8333333333333334, 0.8, 0.8333333333333333)\n",
      "Logistic Regression scores:  (0.6666666666666666, 0.5, 0.6666666666666666)\n",
      "Random Classifier scores:  (0.3333333333333333, 0.3333333333333333, 0.33333333333333337)\n"
     ]
    },
    {
     "name": "stderr",
     "output_type": "stream",
     "text": [
      "  0%|          | 12/10000 [00:02<28:52,  5.77it/s]"
     ]
    },
    {
     "name": "stdout",
     "output_type": "stream",
     "text": [
      "Logistic Regression scores:  (0.3333333333333333, 0.0, 0.33333333333333337)\n",
      "Random Classifier scores:  (0.3333333333333333, 0.5, 0.3333333333333333)\n",
      "Logistic Regression scores:  (0.8333333333333334, 0.8, 0.8333333333333333)\n",
      "Random Classifier scores:  (0.5, 0.5714285714285715, 0.5)\n"
     ]
    },
    {
     "name": "stderr",
     "output_type": "stream",
     "text": [
      "  0%|          | 14/10000 [00:02<28:57,  5.75it/s]"
     ]
    },
    {
     "name": "stdout",
     "output_type": "stream",
     "text": [
      "Logistic Regression scores:  (0.6666666666666666, 0.5, 0.6666666666666666)\n",
      "Random Classifier scores:  (0.6666666666666666, 0.6666666666666666, 0.6666666666666667)\n",
      "Logistic Regression scores:  (0.5, 0.5714285714285715, 0.5)\n",
      "Random Classifier scores:  (0.3333333333333333, 0.3333333333333333, 0.33333333333333337)\n"
     ]
    },
    {
     "name": "stderr",
     "output_type": "stream",
     "text": [
      "  0%|          | 16/10000 [00:02<27:58,  5.95it/s]"
     ]
    },
    {
     "name": "stdout",
     "output_type": "stream",
     "text": [
      "Logistic Regression scores:  (0.5, 0.0, 0.5)\n",
      "Random Classifier scores:  (0.3333333333333333, 0.3333333333333333, 0.33333333333333337)\n",
      "Logistic Regression scores:  (0.6666666666666666, 0.5, 0.6666666666666666)\n",
      "Random Classifier scores:  (0.3333333333333333, 0.3333333333333333, 0.33333333333333337)\n"
     ]
    },
    {
     "name": "stderr",
     "output_type": "stream",
     "text": [
      "  0%|          | 18/10000 [00:03<29:21,  5.67it/s]"
     ]
    },
    {
     "name": "stdout",
     "output_type": "stream",
     "text": [
      "Logistic Regression scores:  (0.8333333333333334, 0.8, 0.8333333333333333)\n",
      "Random Classifier scores:  (0.6666666666666666, 0.6666666666666666, 0.6666666666666667)\n",
      "Logistic Regression scores:  (0.6666666666666666, 0.6666666666666666, 0.6666666666666667)\n",
      "Random Classifier scores:  (0.5, 0.5714285714285715, 0.5)\n"
     ]
    },
    {
     "name": "stderr",
     "output_type": "stream",
     "text": [
      "\n"
     ]
    },
    {
     "ename": "KeyboardInterrupt",
     "evalue": "",
     "output_type": "error",
     "traceback": [
      "\u001b[1;31m---------------------------------------------------------------------------\u001b[0m",
      "\u001b[1;31mKeyboardInterrupt\u001b[0m                         Traceback (most recent call last)",
      "\u001b[1;32mc:\\Users\\Administrateur\\git\\D2CPY\\causeme\\assessing.ipynb Cell 3\u001b[0m in \u001b[0;36m<cell line: 9>\u001b[1;34m()\u001b[0m\n\u001b[0;32m     <a href='vscode-notebook-cell:/c%3A/Users/Administrateur/git/D2CPY/causeme/assessing.ipynb#W2sZmlsZQ%3D%3D?line=13'>14</a>\u001b[0m test_y \u001b[39m=\u001b[39m y[df[\u001b[39m'\u001b[39m\u001b[39mgraph_id\u001b[39m\u001b[39m'\u001b[39m] \u001b[39m==\u001b[39m graph_id]\n\u001b[0;32m     <a href='vscode-notebook-cell:/c%3A/Users/Administrateur/git/D2CPY/causeme/assessing.ipynb#W2sZmlsZQ%3D%3D?line=15'>16</a>\u001b[0m \u001b[39m# Train and predict with Logistic Regression\u001b[39;00m\n\u001b[1;32m---> <a href='vscode-notebook-cell:/c%3A/Users/Administrateur/git/D2CPY/causeme/assessing.ipynb#W2sZmlsZQ%3D%3D?line=16'>17</a>\u001b[0m log_reg\u001b[39m.\u001b[39;49mfit(train_x, train_y)\n\u001b[0;32m     <a href='vscode-notebook-cell:/c%3A/Users/Administrateur/git/D2CPY/causeme/assessing.ipynb#W2sZmlsZQ%3D%3D?line=17'>18</a>\u001b[0m pred_y \u001b[39m=\u001b[39m log_reg\u001b[39m.\u001b[39mpredict(test_x)\n\u001b[0;32m     <a href='vscode-notebook-cell:/c%3A/Users/Administrateur/git/D2CPY/causeme/assessing.ipynb#W2sZmlsZQ%3D%3D?line=19'>20</a>\u001b[0m \u001b[39m# Train and predict with Random Classifier\u001b[39;00m\n",
      "File \u001b[1;32m~\\AppData\\Roaming\\Python\\Python38\\site-packages\\sklearn\\linear_model\\_logistic.py:1196\u001b[0m, in \u001b[0;36mLogisticRegression.fit\u001b[1;34m(self, X, y, sample_weight)\u001b[0m\n\u001b[0;32m   1193\u001b[0m \u001b[39melse\u001b[39;00m:\n\u001b[0;32m   1194\u001b[0m     _dtype \u001b[39m=\u001b[39m [np\u001b[39m.\u001b[39mfloat64, np\u001b[39m.\u001b[39mfloat32]\n\u001b[1;32m-> 1196\u001b[0m X, y \u001b[39m=\u001b[39m \u001b[39mself\u001b[39;49m\u001b[39m.\u001b[39;49m_validate_data(\n\u001b[0;32m   1197\u001b[0m     X,\n\u001b[0;32m   1198\u001b[0m     y,\n\u001b[0;32m   1199\u001b[0m     accept_sparse\u001b[39m=\u001b[39;49m\u001b[39m\"\u001b[39;49m\u001b[39mcsr\u001b[39;49m\u001b[39m\"\u001b[39;49m,\n\u001b[0;32m   1200\u001b[0m     dtype\u001b[39m=\u001b[39;49m_dtype,\n\u001b[0;32m   1201\u001b[0m     order\u001b[39m=\u001b[39;49m\u001b[39m\"\u001b[39;49m\u001b[39mC\u001b[39;49m\u001b[39m\"\u001b[39;49m,\n\u001b[0;32m   1202\u001b[0m     accept_large_sparse\u001b[39m=\u001b[39;49msolver \u001b[39mnot\u001b[39;49;00m \u001b[39min\u001b[39;49;00m [\u001b[39m\"\u001b[39;49m\u001b[39mliblinear\u001b[39;49m\u001b[39m\"\u001b[39;49m, \u001b[39m\"\u001b[39;49m\u001b[39msag\u001b[39;49m\u001b[39m\"\u001b[39;49m, \u001b[39m\"\u001b[39;49m\u001b[39msaga\u001b[39;49m\u001b[39m\"\u001b[39;49m],\n\u001b[0;32m   1203\u001b[0m )\n\u001b[0;32m   1204\u001b[0m check_classification_targets(y)\n\u001b[0;32m   1205\u001b[0m \u001b[39mself\u001b[39m\u001b[39m.\u001b[39mclasses_ \u001b[39m=\u001b[39m np\u001b[39m.\u001b[39munique(y)\n",
      "File \u001b[1;32m~\\AppData\\Roaming\\Python\\Python38\\site-packages\\sklearn\\base.py:584\u001b[0m, in \u001b[0;36mBaseEstimator._validate_data\u001b[1;34m(self, X, y, reset, validate_separately, **check_params)\u001b[0m\n\u001b[0;32m    582\u001b[0m         y \u001b[39m=\u001b[39m check_array(y, input_name\u001b[39m=\u001b[39m\u001b[39m\"\u001b[39m\u001b[39my\u001b[39m\u001b[39m\"\u001b[39m, \u001b[39m*\u001b[39m\u001b[39m*\u001b[39mcheck_y_params)\n\u001b[0;32m    583\u001b[0m     \u001b[39melse\u001b[39;00m:\n\u001b[1;32m--> 584\u001b[0m         X, y \u001b[39m=\u001b[39m check_X_y(X, y, \u001b[39m*\u001b[39;49m\u001b[39m*\u001b[39;49mcheck_params)\n\u001b[0;32m    585\u001b[0m     out \u001b[39m=\u001b[39m X, y\n\u001b[0;32m    587\u001b[0m \u001b[39mif\u001b[39;00m \u001b[39mnot\u001b[39;00m no_val_X \u001b[39mand\u001b[39;00m check_params\u001b[39m.\u001b[39mget(\u001b[39m\"\u001b[39m\u001b[39mensure_2d\u001b[39m\u001b[39m\"\u001b[39m, \u001b[39mTrue\u001b[39;00m):\n",
      "File \u001b[1;32m~\\AppData\\Roaming\\Python\\Python38\\site-packages\\sklearn\\utils\\validation.py:1106\u001b[0m, in \u001b[0;36mcheck_X_y\u001b[1;34m(X, y, accept_sparse, accept_large_sparse, dtype, order, copy, force_all_finite, ensure_2d, allow_nd, multi_output, ensure_min_samples, ensure_min_features, y_numeric, estimator)\u001b[0m\n\u001b[0;32m   1101\u001b[0m         estimator_name \u001b[39m=\u001b[39m _check_estimator_name(estimator)\n\u001b[0;32m   1102\u001b[0m     \u001b[39mraise\u001b[39;00m \u001b[39mValueError\u001b[39;00m(\n\u001b[0;32m   1103\u001b[0m         \u001b[39mf\u001b[39m\u001b[39m\"\u001b[39m\u001b[39m{\u001b[39;00mestimator_name\u001b[39m}\u001b[39;00m\u001b[39m requires y to be passed, but the target y is None\u001b[39m\u001b[39m\"\u001b[39m\n\u001b[0;32m   1104\u001b[0m     )\n\u001b[1;32m-> 1106\u001b[0m X \u001b[39m=\u001b[39m check_array(\n\u001b[0;32m   1107\u001b[0m     X,\n\u001b[0;32m   1108\u001b[0m     accept_sparse\u001b[39m=\u001b[39;49maccept_sparse,\n\u001b[0;32m   1109\u001b[0m     accept_large_sparse\u001b[39m=\u001b[39;49maccept_large_sparse,\n\u001b[0;32m   1110\u001b[0m     dtype\u001b[39m=\u001b[39;49mdtype,\n\u001b[0;32m   1111\u001b[0m     order\u001b[39m=\u001b[39;49morder,\n\u001b[0;32m   1112\u001b[0m     copy\u001b[39m=\u001b[39;49mcopy,\n\u001b[0;32m   1113\u001b[0m     force_all_finite\u001b[39m=\u001b[39;49mforce_all_finite,\n\u001b[0;32m   1114\u001b[0m     ensure_2d\u001b[39m=\u001b[39;49mensure_2d,\n\u001b[0;32m   1115\u001b[0m     allow_nd\u001b[39m=\u001b[39;49mallow_nd,\n\u001b[0;32m   1116\u001b[0m     ensure_min_samples\u001b[39m=\u001b[39;49mensure_min_samples,\n\u001b[0;32m   1117\u001b[0m     ensure_min_features\u001b[39m=\u001b[39;49mensure_min_features,\n\u001b[0;32m   1118\u001b[0m     estimator\u001b[39m=\u001b[39;49mestimator,\n\u001b[0;32m   1119\u001b[0m     input_name\u001b[39m=\u001b[39;49m\u001b[39m\"\u001b[39;49m\u001b[39mX\u001b[39;49m\u001b[39m\"\u001b[39;49m,\n\u001b[0;32m   1120\u001b[0m )\n\u001b[0;32m   1122\u001b[0m y \u001b[39m=\u001b[39m _check_y(y, multi_output\u001b[39m=\u001b[39mmulti_output, y_numeric\u001b[39m=\u001b[39my_numeric, estimator\u001b[39m=\u001b[39mestimator)\n\u001b[0;32m   1124\u001b[0m check_consistent_length(X, y)\n",
      "File \u001b[1;32m~\\AppData\\Roaming\\Python\\Python38\\site-packages\\sklearn\\utils\\validation.py:879\u001b[0m, in \u001b[0;36mcheck_array\u001b[1;34m(array, accept_sparse, accept_large_sparse, dtype, order, copy, force_all_finite, ensure_2d, allow_nd, ensure_min_samples, ensure_min_features, estimator, input_name)\u001b[0m\n\u001b[0;32m    877\u001b[0m         array \u001b[39m=\u001b[39m xp\u001b[39m.\u001b[39mastype(array, dtype, copy\u001b[39m=\u001b[39m\u001b[39mFalse\u001b[39;00m)\n\u001b[0;32m    878\u001b[0m     \u001b[39melse\u001b[39;00m:\n\u001b[1;32m--> 879\u001b[0m         array \u001b[39m=\u001b[39m _asarray_with_order(array, order\u001b[39m=\u001b[39;49morder, dtype\u001b[39m=\u001b[39;49mdtype, xp\u001b[39m=\u001b[39;49mxp)\n\u001b[0;32m    880\u001b[0m \u001b[39mexcept\u001b[39;00m ComplexWarning \u001b[39mas\u001b[39;00m complex_warning:\n\u001b[0;32m    881\u001b[0m     \u001b[39mraise\u001b[39;00m \u001b[39mValueError\u001b[39;00m(\n\u001b[0;32m    882\u001b[0m         \u001b[39m\"\u001b[39m\u001b[39mComplex data not supported\u001b[39m\u001b[39m\\n\u001b[39;00m\u001b[39m{}\u001b[39;00m\u001b[39m\\n\u001b[39;00m\u001b[39m\"\u001b[39m\u001b[39m.\u001b[39mformat(array)\n\u001b[0;32m    883\u001b[0m     ) \u001b[39mfrom\u001b[39;00m \u001b[39mcomplex_warning\u001b[39;00m\n",
      "File \u001b[1;32m~\\AppData\\Roaming\\Python\\Python38\\site-packages\\sklearn\\utils\\_array_api.py:185\u001b[0m, in \u001b[0;36m_asarray_with_order\u001b[1;34m(array, dtype, order, copy, xp)\u001b[0m\n\u001b[0;32m    182\u001b[0m     xp, _ \u001b[39m=\u001b[39m get_namespace(array)\n\u001b[0;32m    183\u001b[0m \u001b[39mif\u001b[39;00m xp\u001b[39m.\u001b[39m\u001b[39m__name__\u001b[39m \u001b[39min\u001b[39;00m {\u001b[39m\"\u001b[39m\u001b[39mnumpy\u001b[39m\u001b[39m\"\u001b[39m, \u001b[39m\"\u001b[39m\u001b[39mnumpy.array_api\u001b[39m\u001b[39m\"\u001b[39m}:\n\u001b[0;32m    184\u001b[0m     \u001b[39m# Use NumPy API to support order\u001b[39;00m\n\u001b[1;32m--> 185\u001b[0m     array \u001b[39m=\u001b[39m numpy\u001b[39m.\u001b[39;49masarray(array, order\u001b[39m=\u001b[39;49morder, dtype\u001b[39m=\u001b[39;49mdtype)\n\u001b[0;32m    186\u001b[0m     \u001b[39mreturn\u001b[39;00m xp\u001b[39m.\u001b[39masarray(array, copy\u001b[39m=\u001b[39mcopy)\n\u001b[0;32m    187\u001b[0m \u001b[39melse\u001b[39;00m:\n",
      "\u001b[1;31mKeyboardInterrupt\u001b[0m: "
     ]
    }
   ],
   "source": [
    "\n",
    "from sklearn.linear_model import LogisticRegression\n",
    "from sklearn.metrics import accuracy_score, f1_score, roc_auc_score\n",
    "from sklearn.dummy import DummyClassifier\n",
    "import numpy as np\n",
    "import pandas as pd\n",
    "from tqdm import tqdm\n",
    "\n",
    "\n",
    "df = pd.read_csv('descriptors.csv')  # Load your data\n",
    "X = df.drop(columns=['graph_id','edge_source','edge_dest', 'is_causal'])  # Your features\n",
    "y = df['is_causal']  # Your target\n",
    "graph_ids = df['graph_id'].unique()  # Unique graph IDs\n",
    "\n",
    "# Placeholder for scores\n",
    "log_reg_scores = []\n",
    "random_scores = []\n",
    "\n",
    "# Logistic Regression and Random Classifier \n",
    "log_reg = LogisticRegression(solver='liblinear')\n",
    "random_clf = DummyClassifier(strategy='uniform')  # It guesses randomly\n",
    "\n",
    "for graph_id in tqdm(graph_ids):\n",
    "    # Split the data\n",
    "    train_x = X[df['graph_id'] != graph_id]\n",
    "    train_y = y[df['graph_id'] != graph_id]\n",
    "    test_x = X[df['graph_id'] == graph_id]\n",
    "    test_y = y[df['graph_id'] == graph_id]\n",
    "\n",
    "    # Train and predict with Logistic Regression\n",
    "    log_reg.fit(train_x, train_y)\n",
    "    pred_y = log_reg.predict(test_x)\n",
    "\n",
    "    # Train and predict with Random Classifier\n",
    "    random_clf.fit(train_x, train_y)\n",
    "    random_pred_y = random_clf.predict(test_x)\n",
    "\n",
    "    score1 = (accuracy_score(test_y, pred_y), f1_score(test_y, pred_y), roc_auc_score(test_y, pred_y))\n",
    "    score2 = (accuracy_score(test_y, random_pred_y), f1_score(test_y, random_pred_y), roc_auc_score(test_y, random_pred_y))\n",
    "    # Get the performance metrics and store them\n",
    "    log_reg_scores.append(score1)\n",
    "    random_scores.append(score2)\n",
    "\n",
    "\n",
    "# Convert scores to numpy arrays for easier manipulation\n",
    "log_reg_scores = np.array(log_reg_scores)\n",
    "random_scores = np.array(random_scores)\n",
    "\n",
    "# Calculate the mean score for each metric\n",
    "mean_log_reg_scores = log_reg_scores.mean(axis=0)\n",
    "mean_random_scores = random_scores.mean(axis=0)\n",
    "\n",
    "print('Logistic Regression scores: ', mean_log_reg_scores)\n",
    "print('Random Classifier scores: ', mean_random_scores)\n"
   ]
  },
  {
   "cell_type": "code",
   "execution_count": null,
   "metadata": {},
   "outputs": [],
   "source": []
  }
 ],
 "metadata": {
  "kernelspec": {
   "display_name": "d2c",
   "language": "python",
   "name": "python3"
  },
  "language_info": {
   "codemirror_mode": {
    "name": "ipython",
    "version": 3
   },
   "file_extension": ".py",
   "mimetype": "text/x-python",
   "name": "python",
   "nbconvert_exporter": "python",
   "pygments_lexer": "ipython3",
   "version": "3.8.16"
  },
  "orig_nbformat": 4
 },
 "nbformat": 4,
 "nbformat_minor": 2
}
