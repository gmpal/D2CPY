{
 "cells": [
  {
   "attachments": {},
   "cell_type": "markdown",
   "metadata": {},
   "source": [
    "# Comparison\n",
    "Goal of this is to compare the original DAG with the graph computed by D2C and by CausalNex (NOTEARS algorithm)"
   ]
  },
  {
   "cell_type": "code",
   "execution_count": 9,
   "metadata": {},
   "outputs": [],
   "source": [
    "from d2c.simulatedDAGs import SimulatedDAGs\n",
    "from d2c.D2C import D2C\n",
    "from causalnex.structure.notears import from_pandas\n",
    "from causalnex.structure import StructureModel\n",
    "from causalnex.plots import plot_structure, NODE_STYLE, EDGE_STYLE\n",
    "\n",
    "from sklearn.ensemble import RandomForestClassifier\n",
    "\n",
    "import pandas as pd\n",
    "import networkx as nx"
   ]
  },
  {
   "cell_type": "code",
   "execution_count": 2,
   "metadata": {},
   "outputs": [],
   "source": [
    "n_dags = 5\n",
    "n_observations = 100\n",
    "n_nodes = 4"
   ]
  },
  {
   "cell_type": "code",
   "execution_count": 3,
   "metadata": {},
   "outputs": [],
   "source": [
    "simulated_dags = SimulatedDAGs(n_dags, n_observations, n_nodes)\n",
    "simulated_dags.generate_dags()"
   ]
  },
  {
   "cell_type": "code",
   "execution_count": 4,
   "metadata": {},
   "outputs": [],
   "source": [
    "#generate the observations \n",
    "simulated_dags.simulate_observations()"
   ]
  },
  {
   "cell_type": "code",
   "execution_count": 5,
   "metadata": {},
   "outputs": [],
   "source": [
    "#keep just the last graph for test \n",
    "all_DAGs = simulated_dags.get_dags()\n",
    "training_DAGs = all_DAGs[:-1]\n",
    "testing_DAGs = all_DAGs[-1]\n",
    "\n",
    "all_observations = simulated_dags.get_observations()\n",
    "training_observations = all_observations[:-1]\n",
    "testing_observations = all_observations[-1]\n"
   ]
  },
  {
   "attachments": {},
   "cell_type": "markdown",
   "metadata": {},
   "source": [
    "## CausalNex (NOTEAR Algo)"
   ]
  },
  {
   "cell_type": "code",
   "execution_count": 15,
   "metadata": {},
   "outputs": [],
   "source": [
    "#using causalnex for structure learning\n",
    "sm = from_pandas(testing_observations)\n",
    "viz = plot_structure(\n",
    "    sm,\n",
    "    all_node_attributes=NODE_STYLE.WEAK,\n",
    "    all_edge_attributes=EDGE_STYLE.WEAK,\n",
    ")\n",
    "\n",
    "html = viz.generate_html()\n",
    "with open(\"comparison/causalnex.html\", mode='w', encoding='utf-8') as fp:\n",
    "        fp.write(html)\n"
   ]
  },
  {
   "attachments": {},
   "cell_type": "markdown",
   "metadata": {},
   "source": [
    "## True DAG"
   ]
  },
  {
   "cell_type": "code",
   "execution_count": 16,
   "metadata": {},
   "outputs": [],
   "source": [
    "sm = StructureModel()\n",
    "sm.add_edges_from(testing_DAGs.edges())\n",
    "viz = plot_structure(\n",
    "    sm,\n",
    "    all_node_attributes=NODE_STYLE.WEAK,\n",
    "    all_edge_attributes=EDGE_STYLE.WEAK,\n",
    ")\n",
    "\n",
    "html = viz.generate_html()\n",
    "with open(\"comparison/truth.html\", mode='w', encoding='utf-8') as fp:\n",
    "        fp.write(html)\n",
    "\n"
   ]
  },
  {
   "attachments": {},
   "cell_type": "markdown",
   "metadata": {},
   "source": [
    "## D2C"
   ]
  },
  {
   "cell_type": "code",
   "execution_count": 6,
   "metadata": {},
   "outputs": [],
   "source": [
    "d2c = D2C(simulated_dags)\n",
    "# d2c.initialize()\n",
    "# d2c.save_df('comparison/comparison_descriptors.csv')"
   ]
  },
  {
   "cell_type": "code",
   "execution_count": 7,
   "metadata": {},
   "outputs": [],
   "source": [
    "\n",
    "d2c.load_descriptors('comparison/comparison_descriptors.csv')"
   ]
  },
  {
   "cell_type": "code",
   "execution_count": 17,
   "metadata": {},
   "outputs": [
    {
     "name": "stderr",
     "output_type": "stream",
     "text": [
      "C:\\Users\\Administrateur\\AppData\\Local\\Temp\\ipykernel_19968\\4142077036.py:19: SettingWithCopyWarning: \n",
      "A value is trying to be set on a copy of a slice from a DataFrame.\n",
      "Try using .loc[row_indexer,col_indexer] = value instead\n",
      "\n",
      "See the caveats in the documentation: https://pandas.pydata.org/pandas-docs/stable/user_guide/indexing.html#returning-a-view-versus-a-copy\n",
      "  test['is_causal'] = y_pred\n"
     ]
    }
   ],
   "source": [
    "#split train test where test is the rows with graph_id = 4\n",
    "df = d2c.get_df()\n",
    "train = df[df['graph_id'] != 4]\n",
    "test = df[df['graph_id'] == 4]\n",
    "\n",
    "#train a random forest classifier \n",
    "X_train = train.drop(['graph_id', 'edge_source', 'edge_dest', 'is_causal'], axis=1)\n",
    "y_train = train['is_causal']\n",
    "\n",
    "X_test = test.drop(['graph_id', 'edge_source', 'edge_dest', 'is_causal'], axis=1)\n",
    "X_test = test.drop(['graph_id', 'edge_source', 'edge_dest', 'is_causal'], axis=1)\n",
    "y_test = test['is_causal']\n",
    "\n",
    "rf = RandomForestClassifier(n_estimators=100, max_depth=2, random_state=0)\n",
    "rf.fit(X_train, y_train)\n",
    "\n",
    "#predict on test set\n",
    "y_pred = rf.predict(X_test)\n",
    "test['is_causal'] = y_pred\n",
    "\n",
    "G = nx.DiGraph()  # Creates a directed graph\n",
    "\n",
    "for index, row in test.iterrows():\n",
    "    if row['is_causal']:\n",
    "        G.add_edge(int(row['edge_source']), int(row['edge_dest']))"
   ]
  },
  {
   "cell_type": "code",
   "execution_count": 19,
   "metadata": {},
   "outputs": [],
   "source": [
    "sm = StructureModel()\n",
    "sm.add_edges_from(G.edges())\n",
    "viz = plot_structure(\n",
    "    sm,\n",
    "    all_node_attributes=NODE_STYLE.WEAK,\n",
    "    all_edge_attributes=EDGE_STYLE.WEAK,\n",
    ")\n",
    "\n",
    "html = viz.generate_html()\n",
    "with open(\"comparison/D2C.html\", mode='w', encoding='utf-8') as fp:\n",
    "        fp.write(html)\n",
    "\n"
   ]
  },
  {
   "cell_type": "code",
   "execution_count": null,
   "metadata": {},
   "outputs": [],
   "source": []
  }
 ],
 "metadata": {
  "kernelspec": {
   "display_name": "d2c",
   "language": "python",
   "name": "python3"
  },
  "language_info": {
   "codemirror_mode": {
    "name": "ipython",
    "version": 3
   },
   "file_extension": ".py",
   "mimetype": "text/x-python",
   "name": "python",
   "nbconvert_exporter": "python",
   "pygments_lexer": "ipython3",
   "version": "3.8.16"
  },
  "orig_nbformat": 4
 },
 "nbformat": 4,
 "nbformat_minor": 2
}
