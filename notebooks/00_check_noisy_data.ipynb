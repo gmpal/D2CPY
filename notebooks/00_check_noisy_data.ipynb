{
 "cells": [
  {
   "cell_type": "code",
   "execution_count": 1,
   "metadata": {},
   "outputs": [],
   "source": [
    "import pandas as pd\n",
    "import numpy as np \n",
    "import pickle\n",
    "import os "
   ]
  },
  {
   "cell_type": "code",
   "execution_count": 2,
   "metadata": {},
   "outputs": [],
   "source": [
    "observations = {}\n",
    "\n",
    "for n_var in [3,5,10,20]:\n",
    "    observations[n_var] = {}\n",
    "    for std in [0.5,0.75]:\n",
    "        observations[n_var][std] = {}\n",
    "        DATA_PATH =  os.path.join('..','data','synthetic',f\"data_N{n_var}_std{std}\")\n",
    "        for generative_process in range(1,21):\n",
    "            with open(os.path.join(DATA_PATH,f\"data_{generative_process}.pkl\"),'rb') as f:\n",
    "                observation, _ , _ , _ = pickle.load(f)\n",
    "\n",
    "            observations[n_var][std][generative_process] = observation"
   ]
  },
  {
   "cell_type": "code",
   "execution_count": 3,
   "metadata": {},
   "outputs": [],
   "source": [
    "for n_var in [3,5,10,20]:\n",
    "    for std in [0.5,0.75]:\n",
    "        for generative_process in range(1,21):\n",
    "            for multivariate_ts in observations[n_var][std][generative_process]:\n",
    "                #check for na \n",
    "                if multivariate_ts.isna().sum().sum() > 0:\n",
    "                    print(multivariate_ts.isna().sum())\n",
    "                    print(f\"Found NA in {n_var} {std} {generative_process}\")\n",
    "                #check for inf\n",
    "                if multivariate_ts.isin([np.inf, -np.inf]).sum().sum() > 0:\n",
    "                    print(multivariate_ts.isin([np.inf, -np.inf]).sum().sum())\n",
    "                    print(f\"Found inf in {n_var} {std} {generative_process}\")\n"
   ]
  },
  {
   "cell_type": "code",
   "execution_count": null,
   "metadata": {},
   "outputs": [],
   "source": []
  }
 ],
 "metadata": {
  "kernelspec": {
   "display_name": "d2cpy",
   "language": "python",
   "name": "python3"
  },
  "language_info": {
   "codemirror_mode": {
    "name": "ipython",
    "version": 3
   },
   "file_extension": ".py",
   "mimetype": "text/x-python",
   "name": "python",
   "nbconvert_exporter": "python",
   "pygments_lexer": "ipython3",
   "version": "3.8.18"
  }
 },
 "nbformat": 4,
 "nbformat_minor": 2
}
