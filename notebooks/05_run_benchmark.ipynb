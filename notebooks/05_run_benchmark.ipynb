{
 "cells": [
  {
   "cell_type": "code",
   "execution_count": 1,
   "metadata": {},
   "outputs": [
    {
     "name": "stderr",
     "output_type": "stream",
     "text": [
      "/home/gpaldino/miniconda3/envs/d2cpy/lib/python3.8/site-packages/tqdm/auto.py:21: TqdmWarning: IProgress not found. Please update jupyter and ipywidgets. See https://ipywidgets.readthedocs.io/en/stable/user_install.html\n",
      "  from .autonotebook import tqdm as notebook_tqdm\n"
     ]
    }
   ],
   "source": [
    "import os\n",
    "import sys\n",
    "import numpy as np \n",
    "import matplotlib.pyplot as plt\n",
    "import pickle\n",
    "from sklearn.metrics import roc_curve, auc\n",
    "\n",
    "\n",
    "sys.path.append('..')\n",
    "\n",
    "from src.benchmark.d2c_wrapper import D2C\n",
    "from src.benchmark.dynotears import DYNOTEARS\n",
    "from src.benchmark.granger import Granger\n",
    "from src.benchmark.pcmci import PCMCI\n",
    "from src.benchmark.var import VAR\n",
    "from src.benchmark.varlingam import VARLiNGAM\n",
    "\n",
    "from src.benchmark.metrics import make_plots, compute_roc_auc_curves\n",
    "from src.descriptors.d2c_past_gen import DescriptorsGenerator"
   ]
  },
  {
   "cell_type": "code",
   "execution_count": 2,
   "metadata": {},
   "outputs": [],
   "source": [
    "# Configuration\n",
    "series_time_lag = 3\n",
    "timesteps_per_series = 250\n",
    "n_gen_proc = 20\n",
    "n_series_per_generative_process = 50\n",
    "n_jobs = 50\n",
    "seed = 42 "
   ]
  },
  {
   "cell_type": "code",
   "execution_count": 3,
   "metadata": {},
   "outputs": [],
   "source": [
    "import pandas as pd \n",
    "\n",
    "def from_preds_to_df(preds):\n",
    "    dfs = []\n",
    "    for key in preds.keys():\n",
    "        df = pd.DataFrame(preds[key][0])\n",
    "        df['predicted_proba'] = preds[key][1]\n",
    "        df['graph_id'] = key\n",
    "        dfs.append(df)\n",
    "    return pd.concat(dfs)"
   ]
  },
  {
   "cell_type": "code",
   "execution_count": 5,
   "metadata": {},
   "outputs": [
    {
     "name": "stderr",
     "output_type": "stream",
     "text": [
      "  0%|          | 0/3 [00:00<?, ?it/s]"
     ]
    },
    {
     "name": "stderr",
     "output_type": "stream",
     "text": [
      "100%|██████████| 3/3 [20:46<00:00, 415.64s/it]\n",
      "100%|██████████| 3/3 [34:24<00:00, 688.28s/it]\n",
      "100%|██████████| 3/3 [1:42:06<00:00, 2042.00s/it]\n"
     ]
    }
   ],
   "source": [
    "from tqdm import tqdm\n",
    "# If methods have not been evaluated yet\n",
    "\n",
    "for n_variables in [5,10,20]:\n",
    "    for noise_std in tqdm([0.01,0.1,0.3]):\n",
    "        \n",
    "        output_folder = f'data_N{n_variables}_std{noise_std}/'\n",
    "        data_path = os.path.join('..','data', 'synthetic', output_folder)\n",
    "        pickle_path = os.path.join('..','results', 'predictions')\n",
    "\n",
    "        os.makedirs(pickle_path, exist_ok=True)\n",
    "        \n",
    "        descr_gen = DescriptorsGenerator(data_path = data_path, n_jobs=n_jobs, mutual_information_proxy='Ridge')    \n",
    "        data = descr_gen.get_observations()\n",
    "        ground_truth = descr_gen.get_causal_dfs()\n",
    "\n",
    "        d2c = D2C(data, maxlags=series_time_lag, n_jobs=n_jobs, ground_truth=ground_truth,\n",
    "          descriptors_path=data_path+'descriptors_var.pkl', n_variables=n_variables, suffix='', n_gen_proc=n_gen_proc)\n",
    "\n",
    "        var = VAR(data, maxlags=series_time_lag, n_jobs=n_jobs, ground_truth=ground_truth)\n",
    "\n",
    "        granger = Granger(data, maxlags=series_time_lag, n_jobs=n_jobs, ground_truth=ground_truth)\n",
    "        pcmci  =PCMCI(data, maxlags=series_time_lag, n_jobs=n_jobs, ground_truth=ground_truth)\n",
    "        varlingam = VARLiNGAM(data, maxlags=series_time_lag, n_jobs=n_jobs, ground_truth=ground_truth)\n",
    "        dynotears = DYNOTEARS(data, maxlags=series_time_lag, n_jobs=n_jobs, ground_truth=ground_truth)\n",
    "\n",
    "        #ETA 3m27s\n",
    "        d2c.run()\n",
    "\n",
    "        #ETA 23s\n",
    "        var.run()\n",
    "\n",
    "        pcmci.run()\n",
    "\n",
    "        granger.run()\n",
    "\n",
    "        varlingam.run()\n",
    "\n",
    "        dynotears.run()\n",
    "\n",
    "        causal_dfs = d2c.get_causal_dfs()\n",
    "        var.filter_causal_dfs(causal_dfs)\n",
    "        granger.filter_causal_dfs(causal_dfs)\n",
    "        pcmci.filter_causal_dfs(causal_dfs)\n",
    "        varlingam.filter_causal_dfs(causal_dfs)\n",
    "        dynotears.filter_causal_dfs(causal_dfs)\n",
    "\n",
    "        d2cpreds = d2c.get_predictions()\n",
    "        varpreds = var.get_predictions()\n",
    "        grangerpreds = granger.get_predictions()\n",
    "        pcmcipreds = pcmci.get_predictions()\n",
    "        varlingampreds = varlingam.get_predictions()\n",
    "        dynotearspreds = dynotears.get_predictions()\n",
    "\n",
    "        d2c_df = from_preds_to_df(d2cpreds)\n",
    "        var_df = from_preds_to_df(varpreds)\n",
    "        granger_df = from_preds_to_df(grangerpreds)\n",
    "        pcmci_df = from_preds_to_df(pcmcipreds)\n",
    "        varlingam_df = from_preds_to_df(varlingampreds)\n",
    "        dynotears_df = from_preds_to_df(dynotearspreds)\n",
    "\n",
    "\n",
    "        d2c_dir = os.path.join(pickle_path,'d2c')\n",
    "        os.makedirs(d2c_dir, exist_ok=True)\n",
    "        var_dir = os.path.join(pickle_path,'var')\n",
    "        os.makedirs(var_dir, exist_ok=True)\n",
    "        granger_dir = os.path.join(pickle_path,'granger')\n",
    "        os.makedirs(granger_dir, exist_ok=True)\n",
    "        pcmci_dir = os.path.join(pickle_path,'pcmci')\n",
    "        os.makedirs(pcmci_dir, exist_ok=True)\n",
    "        varlingam_dir = os.path.join(pickle_path,'varlingam')\n",
    "        os.makedirs(varlingam_dir, exist_ok=True)\n",
    "        dynotears_dir = os.path.join(pickle_path,'dynotears')\n",
    "        os.makedirs(dynotears_dir, exist_ok=True)\n",
    "\n",
    "\n",
    "        d2c_df.to_pickle(os.path.join(d2c_dir,f'n{n_variables}_s{noise_std}.pkl'))\n",
    "        var_df.to_pickle(os.path.join(var_dir,f'n{n_variables}_s{noise_std}.pkl'))\n",
    "        granger_df.to_pickle(os.path.join(granger_dir,f'n{n_variables}_s{noise_std}.pkl'))\n",
    "        pcmci_df.to_pickle(os.path.join(pcmci_dir,f'n{n_variables}_s{noise_std}.pkl'))\n",
    "        varlingam_df.to_pickle(os.path.join(varlingam_dir,f'n{n_variables}_s{noise_std}.pkl'))\n",
    "        dynotears_df.to_pickle(os.path.join(dynotears_dir,f'n{n_variables}_s{noise_std}.pkl'))\n",
    "\n"
   ]
  },
  {
   "cell_type": "code",
   "execution_count": null,
   "metadata": {},
   "outputs": [],
   "source": []
  }
 ],
 "metadata": {
  "kernelspec": {
   "display_name": "d2cpy",
   "language": "python",
   "name": "python3"
  },
  "language_info": {
   "codemirror_mode": {
    "name": "ipython",
    "version": 3
   },
   "file_extension": ".py",
   "mimetype": "text/x-python",
   "name": "python",
   "nbconvert_exporter": "python",
   "pygments_lexer": "ipython3",
   "version": "3.8.18"
  }
 },
 "nbformat": 4,
 "nbformat_minor": 2
}
