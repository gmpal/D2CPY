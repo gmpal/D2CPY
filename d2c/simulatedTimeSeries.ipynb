{
 "cells": [
  {
   "cell_type": "code",
   "execution_count": null,
   "metadata": {},
   "outputs": [],
   "source": [
    "import numpy as np\n",
    "\n",
    "def simulate_var(B, c, e, n):\n",
    "    \"\"\"\n",
    "    Simulates a VAR model.\n",
    "    \n",
    "    B: Coefficient matrix. Shape (k, maxlags, k). B[i, j, l] is the coefficient for the lth variable at lag j in the ith equation.\n",
    "    c: Constants vector. Length k. c[i] is the constant term for the ith equation.\n",
    "    e: Error terms. Shape (k, n). e[i, t] is the error term for the ith equation at time t.\n",
    "    n: Number of observations to simulate.\n",
    "    \"\"\"\n",
    "    \n",
    "    maxlags = B.shape[1]\n",
    "    k = B.shape[0]\n",
    "\n",
    "    # Initialize the series\n",
    "    Y = np.zeros((k, n))\n",
    "\n",
    "    # Fill in the first few values with random errors\n",
    "    for t in range(maxlags):\n",
    "        for i in range(k):\n",
    "            Y[i, t] = e[i, t]\n",
    "\n",
    "    # Main loop\n",
    "    for t in range(maxlags, n):\n",
    "        for i in range(k):\n",
    "            # Start with the constant term\n",
    "            Y[i, t] = c[i]\n",
    "\n",
    "            # Add the lagged terms\n",
    "            for j in range(maxlags):\n",
    "                for l in range(k):\n",
    "                    Y[i, t] += B[i, j, l] * Y[l, t-j-1]\n",
    "\n",
    "            # Add the error term\n",
    "            Y[i, t] += e[i, t]\n",
    "\n",
    "    return Y\n"
   ]
  }
 ],
 "metadata": {
  "language_info": {
   "name": "python"
  },
  "orig_nbformat": 4
 },
 "nbformat": 4,
 "nbformat_minor": 2
}
