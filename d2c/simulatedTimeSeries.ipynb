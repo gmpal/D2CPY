{
 "cells": [
  {
   "cell_type": "code",
   "execution_count": 1,
   "metadata": {},
   "outputs": [],
   "source": [
    "import numpy as np\n",
    "import networkx as nx\n",
    "from networkx.algorithms.dag import is_directed_acyclic_graph\n",
    "from multiprocessing import Pool\n",
    "import pandas as pd\n",
    "import random\n",
    "\n",
    "from typing import List\n",
    "\n",
    "from simulated import Simulated\n",
    "from simulatedTimeSeries import SimulatedTimeSeries\n",
    "\n"
   ]
  },
  {
   "cell_type": "code",
   "execution_count": 2,
   "metadata": {},
   "outputs": [
    {
     "name": "stdout",
     "output_type": "stream",
     "text": [
      "current lag: 1\n",
      "      0     1     2\n",
      "0  0.02  0.97  0.83\n",
      "current lag: 1\n",
      "      0     1     2\n",
      "0  0.14  0.29  0.37\n",
      "current lag: 1\n",
      "      0     1    2\n",
      "0  0.97  0.81  0.3\n",
      "current lag: 1\n",
      "      0     1     2\n",
      "0  0.66  0.31  0.52\n",
      "current lag: 1\n",
      "      0     1     2\n",
      "0  0.83  0.36  0.28\n",
      "current lag: 1\n",
      "      0     1     2\n",
      "0  0.82  0.71  0.73\n",
      "current lag: 1\n",
      "      0     1     2\n",
      "0  0.89  0.47  0.12\n",
      "current lag: 1\n",
      "      0     1     2\n",
      "0  0.11  0.03  0.64\n",
      "current lag: 1\n",
      "      0     1     2\n",
      "0  0.93  0.81  0.63\n",
      "current lag: 1\n",
      "      0     1     2\n",
      "0  0.11  0.23  0.43\n"
     ]
    }
   ],
   "source": [
    "n_series = 10  # You can change this as needed\n",
    "n_observations = 10\n",
    "n_variables = 3\n",
    "# Testing with a single process\n",
    "generator = SimulatedTimeSeries(n_series, n_observations, n_variables, maxlags=1)\n",
    "generator.generate()\n",
    "dags = generator.get_dags()\n",
    "DAG = generator.get_updated_dags()\n",
    "data = generator.get_observations()\n",
    "\n"
   ]
  },
  {
   "cell_type": "code",
   "execution_count": 4,
   "metadata": {},
   "outputs": [],
   "source": [
    "def plot(DAG):\n",
    "    from graphviz import Digraph\n",
    "\n",
    "    G_dot = Digraph(engine=\"dot\",format='png')\n",
    "\n",
    "    for node in DAG.nodes():\n",
    "        G_dot.node(str(node))\n",
    "    for edge in DAG.edges():\n",
    "        G_dot.edge(str(edge[0]), str(edge[1]))\n",
    "\n",
    "    # Render the graph in a hierarchical layout\n",
    "    #save the graph\n",
    "    G_dot.render('graph', view=True)\n"
   ]
  },
  {
   "cell_type": "code",
   "execution_count": 5,
   "metadata": {},
   "outputs": [],
   "source": [
    "import networkx as nx\n",
    "\n",
    "def print_dag_details(DAG):\n",
    "    # Print all nodes with their attributes\n",
    "    print(\"Nodes and their attributes:\")\n",
    "    for node, attributes in DAG.nodes(data=True):\n",
    "        print(node, attributes)\n",
    "    \n",
    "    # Print a separator for clarity\n",
    "    print(\"\\n\" + \"-\"*50 + \"\\n\")\n",
    "    \n",
    "    # Print all edges with their attributes\n",
    "    print(\"Edges and their attributes:\")\n",
    "    for source, target, attributes in DAG.edges(data=True):\n",
    "        print(f\"({source}, {target})\", attributes)\n",
    "\n",
    "# Example usage:\n",
    "\n",
    "\n"
   ]
  },
  {
   "cell_type": "code",
   "execution_count": 6,
   "metadata": {},
   "outputs": [
    {
     "name": "stdout",
     "output_type": "stream",
     "text": [
      "Nodes and their attributes:\n",
      "1 {'bias': 0.5, 'sigma': 0.1, 'seed': 42, 'value': -3.83}\n",
      "0 {'bias': -0.14, 'sigma': 0.1, 'seed': 42, 'value': 3.5999999999999996}\n",
      "2 {'bias': 0.65, 'sigma': 0.1, 'seed': 42, 'value': 2.31}\n",
      "2_t-1 {'bias': 0.65, 'sigma': 0.1, 'seed': 42, 'value': 2.28}\n",
      "1_t-1 {'bias': 0.5, 'sigma': 0.1, 'seed': 42, 'value': -3.7199999999999998}\n",
      "0_t-1 {'bias': -0.14, 'sigma': 0.1, 'seed': 42, 'value': 3.18}\n",
      "\n",
      "--------------------------------------------------\n",
      "\n",
      "Edges and their attributes:\n",
      "(1, 0) {'weight': -1.0, 'H': 'linear'}\n",
      "(2, 0) {'weight': -1.0, 'H': 'linear'}\n",
      "(2, 1) {'weight': -1.0, 'H': 'linear'}\n",
      "(2_t-1, 2) {'weight': 0.73, 'H': 'linear'}\n",
      "(2_t-1, 0) {'weight': -1.0, 'H': 'linear'}\n",
      "(2_t-1, 1) {'weight': -1.0, 'H': 'linear'}\n",
      "(1_t-1, 1) {'weight': 0.2, 'H': 'linear'}\n",
      "(1_t-1, 0) {'weight': -1.0, 'H': 'linear'}\n",
      "(0_t-1, 0) {'weight': 0.42, 'H': 'linear'}\n"
     ]
    }
   ],
   "source": [
    "print_dag_details(DAG[0])\n",
    "plot(DAG[0])"
   ]
  },
  {
   "cell_type": "code",
   "execution_count": 20,
   "metadata": {},
   "outputs": [
    {
     "data": {
      "text/plain": [
       "0   -7.60\n",
       "1    4.44\n",
       "2   -0.58\n",
       "Name: 1, dtype: float64"
      ]
     },
     "execution_count": 20,
     "metadata": {},
     "output_type": "execute_result"
    }
   ],
   "source": [
    "first_line = data[1].iloc[1,:]\n",
    "first_line"
   ]
  },
  {
   "cell_type": "code",
   "execution_count": 18,
   "metadata": {},
   "outputs": [],
   "source": [
    "\n",
    "dag_dict = {}\n",
    "for node in nx.topological_sort(DAG[0]):\n",
    "    if f\"_t-\" in str(node):\n",
    "        idx = int(str(node)[0])\n",
    "        dag_dict[node] = first_line[idx]\n",
    "    else:\n",
    "        dag_dict[node] = 0\n",
    "        parents = list(DAG[0].predecessors(node))\n",
    "        for parent in parents:\n",
    "            dag_dict[node] += dag_dict[parent] * DAG[0].edges[parent, node]['weight'] + DAG[0].nodes[node]['bias']\n"
   ]
  },
  {
   "cell_type": "code",
   "execution_count": 19,
   "metadata": {},
   "outputs": [
    {
     "data": {
      "text/plain": [
       "{'2_t-1': 4.4399999999999995,\n",
       " '1_t-1': 4.4399999999999995,\n",
       " '0_t-1': 4.4399999999999995,\n",
       " 2: 3.8911999999999995,\n",
       " 1: -5.943199999999999,\n",
       " 0: -5.663199999999998}"
      ]
     },
     "execution_count": 19,
     "metadata": {},
     "output_type": "execute_result"
    }
   ],
   "source": [
    "dag_dict"
   ]
  },
  {
   "cell_type": "code",
   "execution_count": 7,
   "metadata": {},
   "outputs": [
    {
     "data": {
      "text/html": [
       "<div>\n",
       "<style scoped>\n",
       "    .dataframe tbody tr th:only-of-type {\n",
       "        vertical-align: middle;\n",
       "    }\n",
       "\n",
       "    .dataframe tbody tr th {\n",
       "        vertical-align: top;\n",
       "    }\n",
       "\n",
       "    .dataframe thead th {\n",
       "        text-align: right;\n",
       "    }\n",
       "</style>\n",
       "<table border=\"1\" class=\"dataframe\">\n",
       "  <thead>\n",
       "    <tr style=\"text-align: right;\">\n",
       "      <th></th>\n",
       "      <th>0</th>\n",
       "      <th>1</th>\n",
       "      <th>2</th>\n",
       "    </tr>\n",
       "  </thead>\n",
       "  <tbody>\n",
       "    <tr>\n",
       "      <th>0</th>\n",
       "      <td>0.02</td>\n",
       "      <td>0.97</td>\n",
       "      <td>0.83</td>\n",
       "    </tr>\n",
       "    <tr>\n",
       "      <th>1</th>\n",
       "      <td>-3.35</td>\n",
       "      <td>-0.40</td>\n",
       "      <td>1.26</td>\n",
       "    </tr>\n",
       "    <tr>\n",
       "      <th>2</th>\n",
       "      <td>-3.13</td>\n",
       "      <td>-1.41</td>\n",
       "      <td>1.57</td>\n",
       "    </tr>\n",
       "    <tr>\n",
       "      <th>3</th>\n",
       "      <td>-1.82</td>\n",
       "      <td>-2.15</td>\n",
       "      <td>1.80</td>\n",
       "    </tr>\n",
       "    <tr>\n",
       "      <th>4</th>\n",
       "      <td>-0.38</td>\n",
       "      <td>-2.69</td>\n",
       "      <td>1.96</td>\n",
       "    </tr>\n",
       "    <tr>\n",
       "      <th>5</th>\n",
       "      <td>0.87</td>\n",
       "      <td>-3.08</td>\n",
       "      <td>2.08</td>\n",
       "    </tr>\n",
       "    <tr>\n",
       "      <th>6</th>\n",
       "      <td>1.87</td>\n",
       "      <td>-3.37</td>\n",
       "      <td>2.17</td>\n",
       "    </tr>\n",
       "    <tr>\n",
       "      <th>7</th>\n",
       "      <td>2.63</td>\n",
       "      <td>-3.57</td>\n",
       "      <td>2.23</td>\n",
       "    </tr>\n",
       "    <tr>\n",
       "      <th>8</th>\n",
       "      <td>3.18</td>\n",
       "      <td>-3.72</td>\n",
       "      <td>2.28</td>\n",
       "    </tr>\n",
       "    <tr>\n",
       "      <th>9</th>\n",
       "      <td>3.60</td>\n",
       "      <td>-3.83</td>\n",
       "      <td>2.31</td>\n",
       "    </tr>\n",
       "  </tbody>\n",
       "</table>\n",
       "</div>"
      ],
      "text/plain": [
       "      0     1     2\n",
       "0  0.02  0.97  0.83\n",
       "1 -3.35 -0.40  1.26\n",
       "2 -3.13 -1.41  1.57\n",
       "3 -1.82 -2.15  1.80\n",
       "4 -0.38 -2.69  1.96\n",
       "5  0.87 -3.08  2.08\n",
       "6  1.87 -3.37  2.17\n",
       "7  2.63 -3.57  2.23\n",
       "8  3.18 -3.72  2.28\n",
       "9  3.60 -3.83  2.31"
      ]
     },
     "execution_count": 7,
     "metadata": {},
     "output_type": "execute_result"
    }
   ],
   "source": [
    "\n"
   ]
  },
  {
   "cell_type": "code",
   "execution_count": 8,
   "metadata": {},
   "outputs": [
    {
     "data": {
      "text/plain": [
       "['2_t-1', '1_t-1', '0_t-1', 2, 1, 0]"
      ]
     },
     "execution_count": 8,
     "metadata": {},
     "output_type": "execute_result"
    }
   ],
   "source": [
    "list(nx.topological_sort(DAG[0]))"
   ]
  },
  {
   "cell_type": "code",
   "execution_count": 13,
   "metadata": {},
   "outputs": [
    {
     "data": {
      "text/plain": [
       "-1.396"
      ]
     },
     "execution_count": 13,
     "metadata": {},
     "output_type": "execute_result"
    }
   ],
   "source": [
    "0.5+1.26*(-1)+0.83*(-1)+0.97*(0.2)"
   ]
  }
 ],
 "metadata": {
  "kernelspec": {
   "display_name": "d2c",
   "language": "python",
   "name": "python3"
  },
  "language_info": {
   "codemirror_mode": {
    "name": "ipython",
    "version": 3
   },
   "file_extension": ".py",
   "mimetype": "text/x-python",
   "name": "python",
   "nbconvert_exporter": "python",
   "pygments_lexer": "ipython3",
   "version": "3.8.16"
  },
  "orig_nbformat": 4
 },
 "nbformat": 4,
 "nbformat_minor": 2
}
