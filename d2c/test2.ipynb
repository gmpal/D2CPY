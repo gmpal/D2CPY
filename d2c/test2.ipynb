{
 "cells": [
  {
   "cell_type": "code",
   "execution_count": 23,
   "metadata": {},
   "outputs": [],
   "source": [
    "import networkx as nx\n",
    "import pandas as pd\n",
    "import numpy as np\n",
    "\n",
    "def generate_timestep_observation(dag: nx.DiGraph, data: pd.DataFrame) -> pd.DataFrame:\n",
    "    #inizialize the first row of the dataframe\n",
    "    current_len = len(data)\n",
    "\n",
    "    for node in nx.topological_sort(dag):\n",
    "        print(data)\n",
    "        if f\"_t-\" in str(node):\n",
    "            variable = int(str(node)[0])\n",
    "            timestamp = int(str(node)[-1])\n",
    "            dag.nodes[node]['value'] = data.loc[len(data) - timestamp, variable] \n",
    "        else:\n",
    "            parents = list(dag.predecessors(node))\n",
    "            data.loc[current_len, node] = 0\n",
    "            for parent in parents:\n",
    "                data.loc[current_len, node] += compute_value(dag.nodes[node], dag.edges[parent, node], dag.nodes[parent]['value'])\n",
    "            data.loc[current_len, node] += dag.nodes[node]['bias']\n",
    "            dag.nodes[node]['value'] = data.loc[current_len, node]\n",
    "    \n",
    "\n",
    "\n",
    "def compute_value(node_data, edge_data, parent_value):\n",
    "    weight = edge_data['weight'] \n",
    "    return parent_value * weight\n"
   ]
  },
  {
   "cell_type": "code",
   "execution_count": 24,
   "metadata": {},
   "outputs": [],
   "source": [
    "import pickle\n",
    "\n",
    "dag = pickle.load(open(\"DAG1.pkl\", \"rb\"))\n",
    "first_lines = pickle.load(open(\"first_lines.pickle\", \"rb\"))"
   ]
  },
  {
   "cell_type": "code",
   "execution_count": 30,
   "metadata": {},
   "outputs": [],
   "source": [
    "def testfunction(dag, first_lines):\n",
    "    \n",
    "    dag_dict = {}\n",
    "    for node in nx.topological_sort(dag):\n",
    "        if f\"_t-\" in str(node):\n",
    "            idx = int(str(node)[0])\n",
    "            position = int(str(node)[-1])\n",
    "            dag_dict[node] = first_lines[idx][2 - position]\n",
    "        else:\n",
    "            dag_dict[node] = 0\n",
    "            parents = list(dag.predecessors(node))\n",
    "            for parent in parents:\n",
    "                dag_dict[node] += dag_dict[parent] * dag.edges[parent, node]['weight']\n",
    "            dag_dict[node] += dag.nodes[node]['bias']\n",
    "    return dag_dict"
   ]
  },
  {
   "cell_type": "code",
   "execution_count": 31,
   "metadata": {},
   "outputs": [
    {
     "data": {
      "text/plain": [
       "{'2_t-2': 0.51,\n",
       " '1_t-2': 0.2,\n",
       " '0_t-2': 0.79,\n",
       " '2_t-1': 0.61,\n",
       " '1_t-1': 0.05,\n",
       " '0_t-1': 0.59,\n",
       " 2: 1.2260000000000002,\n",
       " 1: -0.59,\n",
       " 0: -0.6904}"
      ]
     },
     "execution_count": 31,
     "metadata": {},
     "output_type": "execute_result"
    }
   ],
   "source": [
    "#expectation \n",
    "testfunction(dag, first_lines)"
   ]
  },
  {
   "cell_type": "code",
   "execution_count": 27,
   "metadata": {},
   "outputs": [
    {
     "name": "stdout",
     "output_type": "stream",
     "text": [
      "      0     1     2\n",
      "0  0.79  0.20  0.51\n",
      "1  0.59  0.05  0.61\n",
      "      0     1     2\n",
      "0  0.79  0.20  0.51\n",
      "1  0.59  0.05  0.61\n",
      "      0     1     2\n",
      "0  0.79  0.20  0.51\n",
      "1  0.59  0.05  0.61\n",
      "      0     1     2\n",
      "0  0.79  0.20  0.51\n",
      "1  0.59  0.05  0.61\n",
      "      0     1     2\n",
      "0  0.79  0.20  0.51\n",
      "1  0.59  0.05  0.61\n",
      "      0     1     2\n",
      "0  0.79  0.20  0.51\n",
      "1  0.59  0.05  0.61\n",
      "      0     1     2\n",
      "0  0.79  0.20  0.51\n",
      "1  0.59  0.05  0.61\n",
      "      0     1      2\n",
      "0  0.79  0.20  0.510\n",
      "1  0.59  0.05  0.610\n",
      "2   NaN   NaN  1.226\n",
      "      0     1      2\n",
      "0  0.79  0.20  0.510\n",
      "1  0.59  0.05  0.610\n",
      "2   NaN -0.59  1.226\n"
     ]
    },
    {
     "data": {
      "text/plain": [
       "0   -0.6904\n",
       "1   -0.5900\n",
       "2    1.2260\n",
       "Name: 2, dtype: float64"
      ]
     },
     "execution_count": 27,
     "metadata": {},
     "output_type": "execute_result"
    }
   ],
   "source": [
    "#reality\n",
    "generate_timestep_observation(dag, first_lines)\n",
    "first_lines.iloc[-1,:]"
   ]
  },
  {
   "cell_type": "code",
   "execution_count": null,
   "metadata": {},
   "outputs": [],
   "source": []
  }
 ],
 "metadata": {
  "kernelspec": {
   "display_name": "d2c",
   "language": "python",
   "name": "python3"
  },
  "language_info": {
   "codemirror_mode": {
    "name": "ipython",
    "version": 3
   },
   "file_extension": ".py",
   "mimetype": "text/x-python",
   "name": "python",
   "nbconvert_exporter": "python",
   "pygments_lexer": "ipython3",
   "version": "3.8.16"
  },
  "orig_nbformat": 4
 },
 "nbformat": 4,
 "nbformat_minor": 2
}
