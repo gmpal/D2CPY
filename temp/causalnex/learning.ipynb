{
 "cells": [
  {
   "cell_type": "code",
   "execution_count": 21,
   "metadata": {},
   "outputs": [],
   "source": [
    "import warnings\n",
    "from causalnex.structure import StructureModel\n",
    "warnings.filterwarnings(\"ignore\")  # silence warnings\n",
    "from IPython.lib.display import IFrame\n",
    "from IPython.display import Image\n",
    "\n",
    "from causalnex.plots import plot_structure, NODE_STYLE, EDGE_STYLE"
   ]
  },
  {
   "cell_type": "code",
   "execution_count": 3,
   "metadata": {},
   "outputs": [],
   "source": [
    "sm = StructureModel()"
   ]
  },
  {
   "cell_type": "code",
   "execution_count": 4,
   "metadata": {},
   "outputs": [],
   "source": [
    "sm.add_edges_from([\n",
    "    ('health', 'absences'),\n",
    "    ('health', 'G1')\n",
    "])"
   ]
  },
  {
   "cell_type": "code",
   "execution_count": 17,
   "metadata": {},
   "outputs": [
    {
     "data": {
      "text/plain": [
       "OutEdgeView([('health', 'absences'), ('health', 'G1')])"
      ]
     },
     "execution_count": 17,
     "metadata": {},
     "output_type": "execute_result"
    }
   ],
   "source": [
    "sm.edges"
   ]
  },
  {
   "cell_type": "code",
   "execution_count": 18,
   "metadata": {},
   "outputs": [],
   "source": [
    "#make dir supporting_files if not exists \n",
    "import os \n",
    "if not os.path.exists('supporting_files'):\n",
    "    os.mkdir('supporting_files')\n",
    "\n",
    "viz = plot_structure(\n",
    "    sm,\n",
    "    all_node_attributes=NODE_STYLE.WEAK,\n",
    "    all_edge_attributes=EDGE_STYLE.WEAK,\n",
    ")\n"
   ]
  },
  {
   "cell_type": "code",
   "execution_count": 24,
   "metadata": {},
   "outputs": [
    {
     "data": {
      "text/html": [
       "<div>\n",
       "<style scoped>\n",
       "    .dataframe tbody tr th:only-of-type {\n",
       "        vertical-align: middle;\n",
       "    }\n",
       "\n",
       "    .dataframe tbody tr th {\n",
       "        vertical-align: top;\n",
       "    }\n",
       "\n",
       "    .dataframe thead th {\n",
       "        text-align: right;\n",
       "    }\n",
       "</style>\n",
       "<table border=\"1\" class=\"dataframe\">\n",
       "  <thead>\n",
       "    <tr style=\"text-align: right;\">\n",
       "      <th></th>\n",
       "      <th>school</th>\n",
       "      <th>sex</th>\n",
       "      <th>age</th>\n",
       "      <th>address</th>\n",
       "      <th>famsize</th>\n",
       "      <th>Pstatus</th>\n",
       "      <th>Medu</th>\n",
       "      <th>Fedu</th>\n",
       "      <th>Mjob</th>\n",
       "      <th>Fjob</th>\n",
       "      <th>...</th>\n",
       "      <th>famrel</th>\n",
       "      <th>freetime</th>\n",
       "      <th>goout</th>\n",
       "      <th>Dalc</th>\n",
       "      <th>Walc</th>\n",
       "      <th>health</th>\n",
       "      <th>absences</th>\n",
       "      <th>G1</th>\n",
       "      <th>G2</th>\n",
       "      <th>G3</th>\n",
       "    </tr>\n",
       "  </thead>\n",
       "  <tbody>\n",
       "    <tr>\n",
       "      <th>0</th>\n",
       "      <td>GP</td>\n",
       "      <td>F</td>\n",
       "      <td>18</td>\n",
       "      <td>U</td>\n",
       "      <td>GT3</td>\n",
       "      <td>A</td>\n",
       "      <td>4</td>\n",
       "      <td>4</td>\n",
       "      <td>at_home</td>\n",
       "      <td>teacher</td>\n",
       "      <td>...</td>\n",
       "      <td>4</td>\n",
       "      <td>3</td>\n",
       "      <td>4</td>\n",
       "      <td>1</td>\n",
       "      <td>1</td>\n",
       "      <td>3</td>\n",
       "      <td>4</td>\n",
       "      <td>0</td>\n",
       "      <td>11</td>\n",
       "      <td>11</td>\n",
       "    </tr>\n",
       "    <tr>\n",
       "      <th>1</th>\n",
       "      <td>GP</td>\n",
       "      <td>F</td>\n",
       "      <td>17</td>\n",
       "      <td>U</td>\n",
       "      <td>GT3</td>\n",
       "      <td>T</td>\n",
       "      <td>1</td>\n",
       "      <td>1</td>\n",
       "      <td>at_home</td>\n",
       "      <td>other</td>\n",
       "      <td>...</td>\n",
       "      <td>5</td>\n",
       "      <td>3</td>\n",
       "      <td>3</td>\n",
       "      <td>1</td>\n",
       "      <td>1</td>\n",
       "      <td>3</td>\n",
       "      <td>2</td>\n",
       "      <td>9</td>\n",
       "      <td>11</td>\n",
       "      <td>11</td>\n",
       "    </tr>\n",
       "    <tr>\n",
       "      <th>2</th>\n",
       "      <td>GP</td>\n",
       "      <td>F</td>\n",
       "      <td>15</td>\n",
       "      <td>U</td>\n",
       "      <td>LE3</td>\n",
       "      <td>T</td>\n",
       "      <td>1</td>\n",
       "      <td>1</td>\n",
       "      <td>at_home</td>\n",
       "      <td>other</td>\n",
       "      <td>...</td>\n",
       "      <td>4</td>\n",
       "      <td>3</td>\n",
       "      <td>2</td>\n",
       "      <td>2</td>\n",
       "      <td>3</td>\n",
       "      <td>3</td>\n",
       "      <td>6</td>\n",
       "      <td>12</td>\n",
       "      <td>13</td>\n",
       "      <td>12</td>\n",
       "    </tr>\n",
       "    <tr>\n",
       "      <th>3</th>\n",
       "      <td>GP</td>\n",
       "      <td>F</td>\n",
       "      <td>15</td>\n",
       "      <td>U</td>\n",
       "      <td>GT3</td>\n",
       "      <td>T</td>\n",
       "      <td>4</td>\n",
       "      <td>2</td>\n",
       "      <td>health</td>\n",
       "      <td>services</td>\n",
       "      <td>...</td>\n",
       "      <td>3</td>\n",
       "      <td>2</td>\n",
       "      <td>2</td>\n",
       "      <td>1</td>\n",
       "      <td>1</td>\n",
       "      <td>5</td>\n",
       "      <td>0</td>\n",
       "      <td>14</td>\n",
       "      <td>14</td>\n",
       "      <td>14</td>\n",
       "    </tr>\n",
       "    <tr>\n",
       "      <th>4</th>\n",
       "      <td>GP</td>\n",
       "      <td>F</td>\n",
       "      <td>16</td>\n",
       "      <td>U</td>\n",
       "      <td>GT3</td>\n",
       "      <td>T</td>\n",
       "      <td>3</td>\n",
       "      <td>3</td>\n",
       "      <td>other</td>\n",
       "      <td>other</td>\n",
       "      <td>...</td>\n",
       "      <td>4</td>\n",
       "      <td>3</td>\n",
       "      <td>2</td>\n",
       "      <td>1</td>\n",
       "      <td>2</td>\n",
       "      <td>5</td>\n",
       "      <td>0</td>\n",
       "      <td>11</td>\n",
       "      <td>13</td>\n",
       "      <td>13</td>\n",
       "    </tr>\n",
       "  </tbody>\n",
       "</table>\n",
       "<p>5 rows × 33 columns</p>\n",
       "</div>"
      ],
      "text/plain": [
       "  school sex  age address famsize Pstatus  Medu  Fedu     Mjob      Fjob  ...  \\\n",
       "0     GP   F   18       U     GT3       A     4     4  at_home   teacher  ...   \n",
       "1     GP   F   17       U     GT3       T     1     1  at_home     other  ...   \n",
       "2     GP   F   15       U     LE3       T     1     1  at_home     other  ...   \n",
       "3     GP   F   15       U     GT3       T     4     2   health  services  ...   \n",
       "4     GP   F   16       U     GT3       T     3     3    other     other  ...   \n",
       "\n",
       "  famrel freetime  goout  Dalc  Walc health absences  G1  G2  G3  \n",
       "0      4        3      4     1     1      3        4   0  11  11  \n",
       "1      5        3      3     1     1      3        2   9  11  11  \n",
       "2      4        3      2     2     3      3        6  12  13  12  \n",
       "3      3        2      2     1     1      5        0  14  14  14  \n",
       "4      4        3      2     1     2      5        0  11  13  13  \n",
       "\n",
       "[5 rows x 33 columns]"
      ]
     },
     "execution_count": 24,
     "metadata": {},
     "output_type": "execute_result"
    }
   ],
   "source": [
    "import pandas as pd\n",
    "\n",
    "data = pd.read_csv('student-por.csv', delimiter=';')\n",
    "data.head(5)"
   ]
  },
  {
   "cell_type": "code",
   "execution_count": 25,
   "metadata": {},
   "outputs": [
    {
     "data": {
      "text/html": [
       "<div>\n",
       "<style scoped>\n",
       "    .dataframe tbody tr th:only-of-type {\n",
       "        vertical-align: middle;\n",
       "    }\n",
       "\n",
       "    .dataframe tbody tr th {\n",
       "        vertical-align: top;\n",
       "    }\n",
       "\n",
       "    .dataframe thead th {\n",
       "        text-align: right;\n",
       "    }\n",
       "</style>\n",
       "<table border=\"1\" class=\"dataframe\">\n",
       "  <thead>\n",
       "    <tr style=\"text-align: right;\">\n",
       "      <th></th>\n",
       "      <th>address</th>\n",
       "      <th>famsize</th>\n",
       "      <th>Pstatus</th>\n",
       "      <th>Medu</th>\n",
       "      <th>Fedu</th>\n",
       "      <th>traveltime</th>\n",
       "      <th>studytime</th>\n",
       "      <th>failures</th>\n",
       "      <th>schoolsup</th>\n",
       "      <th>famsup</th>\n",
       "      <th>...</th>\n",
       "      <th>famrel</th>\n",
       "      <th>freetime</th>\n",
       "      <th>goout</th>\n",
       "      <th>Dalc</th>\n",
       "      <th>Walc</th>\n",
       "      <th>health</th>\n",
       "      <th>absences</th>\n",
       "      <th>G1</th>\n",
       "      <th>G2</th>\n",
       "      <th>G3</th>\n",
       "    </tr>\n",
       "  </thead>\n",
       "  <tbody>\n",
       "    <tr>\n",
       "      <th>0</th>\n",
       "      <td>U</td>\n",
       "      <td>GT3</td>\n",
       "      <td>A</td>\n",
       "      <td>4</td>\n",
       "      <td>4</td>\n",
       "      <td>2</td>\n",
       "      <td>2</td>\n",
       "      <td>0</td>\n",
       "      <td>yes</td>\n",
       "      <td>no</td>\n",
       "      <td>...</td>\n",
       "      <td>4</td>\n",
       "      <td>3</td>\n",
       "      <td>4</td>\n",
       "      <td>1</td>\n",
       "      <td>1</td>\n",
       "      <td>3</td>\n",
       "      <td>4</td>\n",
       "      <td>0</td>\n",
       "      <td>11</td>\n",
       "      <td>11</td>\n",
       "    </tr>\n",
       "    <tr>\n",
       "      <th>1</th>\n",
       "      <td>U</td>\n",
       "      <td>GT3</td>\n",
       "      <td>T</td>\n",
       "      <td>1</td>\n",
       "      <td>1</td>\n",
       "      <td>1</td>\n",
       "      <td>2</td>\n",
       "      <td>0</td>\n",
       "      <td>no</td>\n",
       "      <td>yes</td>\n",
       "      <td>...</td>\n",
       "      <td>5</td>\n",
       "      <td>3</td>\n",
       "      <td>3</td>\n",
       "      <td>1</td>\n",
       "      <td>1</td>\n",
       "      <td>3</td>\n",
       "      <td>2</td>\n",
       "      <td>9</td>\n",
       "      <td>11</td>\n",
       "      <td>11</td>\n",
       "    </tr>\n",
       "    <tr>\n",
       "      <th>2</th>\n",
       "      <td>U</td>\n",
       "      <td>LE3</td>\n",
       "      <td>T</td>\n",
       "      <td>1</td>\n",
       "      <td>1</td>\n",
       "      <td>1</td>\n",
       "      <td>2</td>\n",
       "      <td>0</td>\n",
       "      <td>yes</td>\n",
       "      <td>no</td>\n",
       "      <td>...</td>\n",
       "      <td>4</td>\n",
       "      <td>3</td>\n",
       "      <td>2</td>\n",
       "      <td>2</td>\n",
       "      <td>3</td>\n",
       "      <td>3</td>\n",
       "      <td>6</td>\n",
       "      <td>12</td>\n",
       "      <td>13</td>\n",
       "      <td>12</td>\n",
       "    </tr>\n",
       "    <tr>\n",
       "      <th>3</th>\n",
       "      <td>U</td>\n",
       "      <td>GT3</td>\n",
       "      <td>T</td>\n",
       "      <td>4</td>\n",
       "      <td>2</td>\n",
       "      <td>1</td>\n",
       "      <td>3</td>\n",
       "      <td>0</td>\n",
       "      <td>no</td>\n",
       "      <td>yes</td>\n",
       "      <td>...</td>\n",
       "      <td>3</td>\n",
       "      <td>2</td>\n",
       "      <td>2</td>\n",
       "      <td>1</td>\n",
       "      <td>1</td>\n",
       "      <td>5</td>\n",
       "      <td>0</td>\n",
       "      <td>14</td>\n",
       "      <td>14</td>\n",
       "      <td>14</td>\n",
       "    </tr>\n",
       "    <tr>\n",
       "      <th>4</th>\n",
       "      <td>U</td>\n",
       "      <td>GT3</td>\n",
       "      <td>T</td>\n",
       "      <td>3</td>\n",
       "      <td>3</td>\n",
       "      <td>1</td>\n",
       "      <td>2</td>\n",
       "      <td>0</td>\n",
       "      <td>no</td>\n",
       "      <td>yes</td>\n",
       "      <td>...</td>\n",
       "      <td>4</td>\n",
       "      <td>3</td>\n",
       "      <td>2</td>\n",
       "      <td>1</td>\n",
       "      <td>2</td>\n",
       "      <td>5</td>\n",
       "      <td>0</td>\n",
       "      <td>11</td>\n",
       "      <td>13</td>\n",
       "      <td>13</td>\n",
       "    </tr>\n",
       "  </tbody>\n",
       "</table>\n",
       "<p>5 rows × 26 columns</p>\n",
       "</div>"
      ],
      "text/plain": [
       "  address famsize Pstatus  Medu  Fedu  traveltime  studytime  failures  \\\n",
       "0       U     GT3       A     4     4           2          2         0   \n",
       "1       U     GT3       T     1     1           1          2         0   \n",
       "2       U     LE3       T     1     1           1          2         0   \n",
       "3       U     GT3       T     4     2           1          3         0   \n",
       "4       U     GT3       T     3     3           1          2         0   \n",
       "\n",
       "  schoolsup famsup  ... famrel freetime goout Dalc Walc health  absences  G1  \\\n",
       "0       yes     no  ...      4        3     4    1    1      3         4   0   \n",
       "1        no    yes  ...      5        3     3    1    1      3         2   9   \n",
       "2       yes     no  ...      4        3     2    2    3      3         6  12   \n",
       "3        no    yes  ...      3        2     2    1    1      5         0  14   \n",
       "4        no    yes  ...      4        3     2    1    2      5         0  11   \n",
       "\n",
       "   G2  G3  \n",
       "0  11  11  \n",
       "1  11  11  \n",
       "2  13  12  \n",
       "3  14  14  \n",
       "4  13  13  \n",
       "\n",
       "[5 rows x 26 columns]"
      ]
     },
     "execution_count": 25,
     "metadata": {},
     "output_type": "execute_result"
    }
   ],
   "source": [
    "drop_col = ['school','sex','age','Mjob', 'Fjob','reason','guardian']\n",
    "data = data.drop(columns=drop_col)\n",
    "data.head(5)"
   ]
  },
  {
   "cell_type": "code",
   "execution_count": 26,
   "metadata": {},
   "outputs": [
    {
     "name": "stdout",
     "output_type": "stream",
     "text": [
      "['address', 'famsize', 'Pstatus', 'schoolsup', 'famsup', 'paid', 'activities', 'nursery', 'higher', 'internet', 'romantic']\n"
     ]
    }
   ],
   "source": [
    "import numpy as np\n",
    "\n",
    "struct_data = data.copy()\n",
    "non_numeric_columns = list(struct_data.select_dtypes(exclude=[np.number]).columns)\n",
    "\n",
    "print(non_numeric_columns)"
   ]
  },
  {
   "cell_type": "code",
   "execution_count": 27,
   "metadata": {},
   "outputs": [
    {
     "data": {
      "text/html": [
       "<div>\n",
       "<style scoped>\n",
       "    .dataframe tbody tr th:only-of-type {\n",
       "        vertical-align: middle;\n",
       "    }\n",
       "\n",
       "    .dataframe tbody tr th {\n",
       "        vertical-align: top;\n",
       "    }\n",
       "\n",
       "    .dataframe thead th {\n",
       "        text-align: right;\n",
       "    }\n",
       "</style>\n",
       "<table border=\"1\" class=\"dataframe\">\n",
       "  <thead>\n",
       "    <tr style=\"text-align: right;\">\n",
       "      <th></th>\n",
       "      <th>address</th>\n",
       "      <th>famsize</th>\n",
       "      <th>Pstatus</th>\n",
       "      <th>Medu</th>\n",
       "      <th>Fedu</th>\n",
       "      <th>traveltime</th>\n",
       "      <th>studytime</th>\n",
       "      <th>failures</th>\n",
       "      <th>schoolsup</th>\n",
       "      <th>famsup</th>\n",
       "      <th>...</th>\n",
       "      <th>famrel</th>\n",
       "      <th>freetime</th>\n",
       "      <th>goout</th>\n",
       "      <th>Dalc</th>\n",
       "      <th>Walc</th>\n",
       "      <th>health</th>\n",
       "      <th>absences</th>\n",
       "      <th>G1</th>\n",
       "      <th>G2</th>\n",
       "      <th>G3</th>\n",
       "    </tr>\n",
       "  </thead>\n",
       "  <tbody>\n",
       "    <tr>\n",
       "      <th>0</th>\n",
       "      <td>1</td>\n",
       "      <td>0</td>\n",
       "      <td>0</td>\n",
       "      <td>4</td>\n",
       "      <td>4</td>\n",
       "      <td>2</td>\n",
       "      <td>2</td>\n",
       "      <td>0</td>\n",
       "      <td>1</td>\n",
       "      <td>0</td>\n",
       "      <td>...</td>\n",
       "      <td>4</td>\n",
       "      <td>3</td>\n",
       "      <td>4</td>\n",
       "      <td>1</td>\n",
       "      <td>1</td>\n",
       "      <td>3</td>\n",
       "      <td>4</td>\n",
       "      <td>0</td>\n",
       "      <td>11</td>\n",
       "      <td>11</td>\n",
       "    </tr>\n",
       "    <tr>\n",
       "      <th>1</th>\n",
       "      <td>1</td>\n",
       "      <td>0</td>\n",
       "      <td>1</td>\n",
       "      <td>1</td>\n",
       "      <td>1</td>\n",
       "      <td>1</td>\n",
       "      <td>2</td>\n",
       "      <td>0</td>\n",
       "      <td>0</td>\n",
       "      <td>1</td>\n",
       "      <td>...</td>\n",
       "      <td>5</td>\n",
       "      <td>3</td>\n",
       "      <td>3</td>\n",
       "      <td>1</td>\n",
       "      <td>1</td>\n",
       "      <td>3</td>\n",
       "      <td>2</td>\n",
       "      <td>9</td>\n",
       "      <td>11</td>\n",
       "      <td>11</td>\n",
       "    </tr>\n",
       "    <tr>\n",
       "      <th>2</th>\n",
       "      <td>1</td>\n",
       "      <td>1</td>\n",
       "      <td>1</td>\n",
       "      <td>1</td>\n",
       "      <td>1</td>\n",
       "      <td>1</td>\n",
       "      <td>2</td>\n",
       "      <td>0</td>\n",
       "      <td>1</td>\n",
       "      <td>0</td>\n",
       "      <td>...</td>\n",
       "      <td>4</td>\n",
       "      <td>3</td>\n",
       "      <td>2</td>\n",
       "      <td>2</td>\n",
       "      <td>3</td>\n",
       "      <td>3</td>\n",
       "      <td>6</td>\n",
       "      <td>12</td>\n",
       "      <td>13</td>\n",
       "      <td>12</td>\n",
       "    </tr>\n",
       "    <tr>\n",
       "      <th>3</th>\n",
       "      <td>1</td>\n",
       "      <td>0</td>\n",
       "      <td>1</td>\n",
       "      <td>4</td>\n",
       "      <td>2</td>\n",
       "      <td>1</td>\n",
       "      <td>3</td>\n",
       "      <td>0</td>\n",
       "      <td>0</td>\n",
       "      <td>1</td>\n",
       "      <td>...</td>\n",
       "      <td>3</td>\n",
       "      <td>2</td>\n",
       "      <td>2</td>\n",
       "      <td>1</td>\n",
       "      <td>1</td>\n",
       "      <td>5</td>\n",
       "      <td>0</td>\n",
       "      <td>14</td>\n",
       "      <td>14</td>\n",
       "      <td>14</td>\n",
       "    </tr>\n",
       "    <tr>\n",
       "      <th>4</th>\n",
       "      <td>1</td>\n",
       "      <td>0</td>\n",
       "      <td>1</td>\n",
       "      <td>3</td>\n",
       "      <td>3</td>\n",
       "      <td>1</td>\n",
       "      <td>2</td>\n",
       "      <td>0</td>\n",
       "      <td>0</td>\n",
       "      <td>1</td>\n",
       "      <td>...</td>\n",
       "      <td>4</td>\n",
       "      <td>3</td>\n",
       "      <td>2</td>\n",
       "      <td>1</td>\n",
       "      <td>2</td>\n",
       "      <td>5</td>\n",
       "      <td>0</td>\n",
       "      <td>11</td>\n",
       "      <td>13</td>\n",
       "      <td>13</td>\n",
       "    </tr>\n",
       "  </tbody>\n",
       "</table>\n",
       "<p>5 rows × 26 columns</p>\n",
       "</div>"
      ],
      "text/plain": [
       "   address  famsize  Pstatus  Medu  Fedu  traveltime  studytime  failures  \\\n",
       "0        1        0        0     4     4           2          2         0   \n",
       "1        1        0        1     1     1           1          2         0   \n",
       "2        1        1        1     1     1           1          2         0   \n",
       "3        1        0        1     4     2           1          3         0   \n",
       "4        1        0        1     3     3           1          2         0   \n",
       "\n",
       "   schoolsup  famsup  ...  famrel  freetime  goout  Dalc  Walc  health  \\\n",
       "0          1       0  ...       4         3      4     1     1       3   \n",
       "1          0       1  ...       5         3      3     1     1       3   \n",
       "2          1       0  ...       4         3      2     2     3       3   \n",
       "3          0       1  ...       3         2      2     1     1       5   \n",
       "4          0       1  ...       4         3      2     1     2       5   \n",
       "\n",
       "   absences  G1  G2  G3  \n",
       "0         4   0  11  11  \n",
       "1         2   9  11  11  \n",
       "2         6  12  13  12  \n",
       "3         0  14  14  14  \n",
       "4         0  11  13  13  \n",
       "\n",
       "[5 rows x 26 columns]"
      ]
     },
     "execution_count": 27,
     "metadata": {},
     "output_type": "execute_result"
    }
   ],
   "source": [
    "from sklearn.preprocessing import LabelEncoder\n",
    "\n",
    "le = LabelEncoder()\n",
    "\n",
    "for col in non_numeric_columns:\n",
    "    struct_data[col] = le.fit_transform(struct_data[col])\n",
    "\n",
    "struct_data.head(5)"
   ]
  },
  {
   "cell_type": "code",
   "execution_count": 34,
   "metadata": {},
   "outputs": [],
   "source": [
    "from causalnex.structure.notears import from_pandas\n",
    "sm = from_pandas(struct_data)"
   ]
  },
  {
   "cell_type": "code",
   "execution_count": 36,
   "metadata": {},
   "outputs": [
    {
     "data": {
      "text/plain": [
       "(OutEdgeView([('address', 'famsize'), ('address', 'Pstatus'), ('address', 'Medu'), ('address', 'Fedu'), ('address', 'traveltime'), ('address', 'studytime'), ('address', 'failures'), ('address', 'schoolsup'), ('address', 'famsup'), ('address', 'paid'), ('address', 'activities'), ('address', 'nursery'), ('address', 'higher'), ('address', 'internet'), ('address', 'romantic'), ('address', 'famrel'), ('address', 'freetime'), ('address', 'goout'), ('address', 'Dalc'), ('address', 'Walc'), ('address', 'health'), ('address', 'absences'), ('address', 'G1'), ('address', 'G2'), ('address', 'G3'), ('famsize', 'address'), ('famsize', 'Pstatus'), ('famsize', 'Medu'), ('famsize', 'Fedu'), ('famsize', 'traveltime'), ('famsize', 'studytime'), ('famsize', 'failures'), ('famsize', 'schoolsup'), ('famsize', 'famsup'), ('famsize', 'paid'), ('famsize', 'activities'), ('famsize', 'nursery'), ('famsize', 'higher'), ('famsize', 'internet'), ('famsize', 'romantic'), ('famsize', 'famrel'), ('famsize', 'freetime'), ('famsize', 'goout'), ('famsize', 'Dalc'), ('famsize', 'Walc'), ('famsize', 'health'), ('famsize', 'absences'), ('famsize', 'G1'), ('famsize', 'G2'), ('famsize', 'G3'), ('Pstatus', 'address'), ('Pstatus', 'famsize'), ('Pstatus', 'Medu'), ('Pstatus', 'Fedu'), ('Pstatus', 'traveltime'), ('Pstatus', 'studytime'), ('Pstatus', 'failures'), ('Pstatus', 'schoolsup'), ('Pstatus', 'famsup'), ('Pstatus', 'paid'), ('Pstatus', 'activities'), ('Pstatus', 'nursery'), ('Pstatus', 'higher'), ('Pstatus', 'internet'), ('Pstatus', 'romantic'), ('Pstatus', 'famrel'), ('Pstatus', 'freetime'), ('Pstatus', 'goout'), ('Pstatus', 'Dalc'), ('Pstatus', 'Walc'), ('Pstatus', 'health'), ('Pstatus', 'absences'), ('Pstatus', 'G1'), ('Pstatus', 'G2'), ('Pstatus', 'G3'), ('Medu', 'address'), ('Medu', 'famsize'), ('Medu', 'Pstatus'), ('Medu', 'Fedu'), ('Medu', 'traveltime'), ('Medu', 'studytime'), ('Medu', 'failures'), ('Medu', 'schoolsup'), ('Medu', 'famsup'), ('Medu', 'paid'), ('Medu', 'activities'), ('Medu', 'nursery'), ('Medu', 'higher'), ('Medu', 'internet'), ('Medu', 'romantic'), ('Medu', 'famrel'), ('Medu', 'freetime'), ('Medu', 'goout'), ('Medu', 'Dalc'), ('Medu', 'Walc'), ('Medu', 'health'), ('Medu', 'absences'), ('Medu', 'G1'), ('Medu', 'G2'), ('Medu', 'G3'), ('Fedu', 'address'), ('Fedu', 'famsize'), ('Fedu', 'Pstatus'), ('Fedu', 'Medu'), ('Fedu', 'traveltime'), ('Fedu', 'studytime'), ('Fedu', 'failures'), ('Fedu', 'schoolsup'), ('Fedu', 'famsup'), ('Fedu', 'paid'), ('Fedu', 'activities'), ('Fedu', 'nursery'), ('Fedu', 'higher'), ('Fedu', 'internet'), ('Fedu', 'romantic'), ('Fedu', 'famrel'), ('Fedu', 'freetime'), ('Fedu', 'goout'), ('Fedu', 'Dalc'), ('Fedu', 'Walc'), ('Fedu', 'health'), ('Fedu', 'absences'), ('Fedu', 'G1'), ('Fedu', 'G2'), ('Fedu', 'G3'), ('traveltime', 'address'), ('traveltime', 'famsize'), ('traveltime', 'Pstatus'), ('traveltime', 'Medu'), ('traveltime', 'Fedu'), ('traveltime', 'studytime'), ('traveltime', 'failures'), ('traveltime', 'schoolsup'), ('traveltime', 'famsup'), ('traveltime', 'paid'), ('traveltime', 'activities'), ('traveltime', 'nursery'), ('traveltime', 'higher'), ('traveltime', 'internet'), ('traveltime', 'romantic'), ('traveltime', 'famrel'), ('traveltime', 'freetime'), ('traveltime', 'goout'), ('traveltime', 'Dalc'), ('traveltime', 'Walc'), ('traveltime', 'health'), ('traveltime', 'absences'), ('traveltime', 'G1'), ('traveltime', 'G2'), ('traveltime', 'G3'), ('studytime', 'address'), ('studytime', 'famsize'), ('studytime', 'Pstatus'), ('studytime', 'Medu'), ('studytime', 'Fedu'), ('studytime', 'traveltime'), ('studytime', 'failures'), ('studytime', 'schoolsup'), ('studytime', 'famsup'), ('studytime', 'paid'), ('studytime', 'activities'), ('studytime', 'nursery'), ('studytime', 'higher'), ('studytime', 'internet'), ('studytime', 'romantic'), ('studytime', 'famrel'), ('studytime', 'freetime'), ('studytime', 'goout'), ('studytime', 'Dalc'), ('studytime', 'Walc'), ('studytime', 'health'), ('studytime', 'absences'), ('studytime', 'G1'), ('studytime', 'G2'), ('studytime', 'G3'), ('failures', 'address'), ('failures', 'famsize'), ('failures', 'Pstatus'), ('failures', 'Medu'), ('failures', 'Fedu'), ('failures', 'traveltime'), ('failures', 'studytime'), ('failures', 'schoolsup'), ('failures', 'famsup'), ('failures', 'paid'), ('failures', 'activities'), ('failures', 'nursery'), ('failures', 'higher'), ('failures', 'internet'), ('failures', 'romantic'), ('failures', 'famrel'), ('failures', 'freetime'), ('failures', 'goout'), ('failures', 'Dalc'), ('failures', 'Walc'), ('failures', 'health'), ('failures', 'absences'), ('failures', 'G1'), ('failures', 'G2'), ('failures', 'G3'), ('schoolsup', 'address'), ('schoolsup', 'famsize'), ('schoolsup', 'Pstatus'), ('schoolsup', 'Medu'), ('schoolsup', 'Fedu'), ('schoolsup', 'traveltime'), ('schoolsup', 'studytime'), ('schoolsup', 'failures'), ('schoolsup', 'famsup'), ('schoolsup', 'paid'), ('schoolsup', 'activities'), ('schoolsup', 'nursery'), ('schoolsup', 'higher'), ('schoolsup', 'internet'), ('schoolsup', 'romantic'), ('schoolsup', 'famrel'), ('schoolsup', 'freetime'), ('schoolsup', 'goout'), ('schoolsup', 'Dalc'), ('schoolsup', 'Walc'), ('schoolsup', 'health'), ('schoolsup', 'absences'), ('schoolsup', 'G1'), ('schoolsup', 'G2'), ('schoolsup', 'G3'), ('famsup', 'address'), ('famsup', 'famsize'), ('famsup', 'Pstatus'), ('famsup', 'Medu'), ('famsup', 'Fedu'), ('famsup', 'traveltime'), ('famsup', 'studytime'), ('famsup', 'failures'), ('famsup', 'schoolsup'), ('famsup', 'paid'), ('famsup', 'activities'), ('famsup', 'nursery'), ('famsup', 'higher'), ('famsup', 'internet'), ('famsup', 'romantic'), ('famsup', 'famrel'), ('famsup', 'freetime'), ('famsup', 'goout'), ('famsup', 'Dalc'), ('famsup', 'Walc'), ('famsup', 'health'), ('famsup', 'absences'), ('famsup', 'G1'), ('famsup', 'G2'), ('famsup', 'G3'), ('paid', 'address'), ('paid', 'famsize'), ('paid', 'Pstatus'), ('paid', 'Medu'), ('paid', 'Fedu'), ('paid', 'traveltime'), ('paid', 'studytime'), ('paid', 'failures'), ('paid', 'schoolsup'), ('paid', 'famsup'), ('paid', 'activities'), ('paid', 'nursery'), ('paid', 'higher'), ('paid', 'internet'), ('paid', 'romantic'), ('paid', 'famrel'), ('paid', 'freetime'), ('paid', 'goout'), ('paid', 'Dalc'), ('paid', 'Walc'), ('paid', 'health'), ('paid', 'absences'), ('paid', 'G1'), ('paid', 'G2'), ('paid', 'G3'), ('activities', 'address'), ('activities', 'famsize'), ('activities', 'Pstatus'), ('activities', 'Medu'), ('activities', 'Fedu'), ('activities', 'traveltime'), ('activities', 'studytime'), ('activities', 'failures'), ('activities', 'schoolsup'), ('activities', 'famsup'), ('activities', 'paid'), ('activities', 'nursery'), ('activities', 'higher'), ('activities', 'internet'), ('activities', 'romantic'), ('activities', 'famrel'), ('activities', 'freetime'), ('activities', 'goout'), ('activities', 'Dalc'), ('activities', 'Walc'), ('activities', 'health'), ('activities', 'absences'), ('activities', 'G1'), ('activities', 'G2'), ('activities', 'G3'), ('nursery', 'address'), ('nursery', 'famsize'), ('nursery', 'Pstatus'), ('nursery', 'Medu'), ('nursery', 'Fedu'), ('nursery', 'traveltime'), ('nursery', 'studytime'), ('nursery', 'failures'), ('nursery', 'schoolsup'), ('nursery', 'famsup'), ('nursery', 'paid'), ('nursery', 'activities'), ('nursery', 'higher'), ('nursery', 'internet'), ('nursery', 'romantic'), ('nursery', 'famrel'), ('nursery', 'freetime'), ('nursery', 'goout'), ('nursery', 'Dalc'), ('nursery', 'Walc'), ('nursery', 'health'), ('nursery', 'absences'), ('nursery', 'G1'), ('nursery', 'G2'), ('nursery', 'G3'), ('higher', 'address'), ('higher', 'famsize'), ('higher', 'Pstatus'), ('higher', 'Medu'), ('higher', 'Fedu'), ('higher', 'traveltime'), ('higher', 'studytime'), ('higher', 'failures'), ('higher', 'schoolsup'), ('higher', 'famsup'), ('higher', 'paid'), ('higher', 'activities'), ('higher', 'nursery'), ('higher', 'internet'), ('higher', 'romantic'), ('higher', 'famrel'), ('higher', 'freetime'), ('higher', 'goout'), ('higher', 'Dalc'), ('higher', 'Walc'), ('higher', 'health'), ('higher', 'absences'), ('higher', 'G1'), ('higher', 'G2'), ('higher', 'G3'), ('internet', 'address'), ('internet', 'famsize'), ('internet', 'Pstatus'), ('internet', 'Medu'), ('internet', 'Fedu'), ('internet', 'traveltime'), ('internet', 'studytime'), ('internet', 'failures'), ('internet', 'schoolsup'), ('internet', 'famsup'), ('internet', 'paid'), ('internet', 'activities'), ('internet', 'nursery'), ('internet', 'higher'), ('internet', 'romantic'), ('internet', 'famrel'), ('internet', 'freetime'), ('internet', 'goout'), ('internet', 'Dalc'), ('internet', 'Walc'), ('internet', 'health'), ('internet', 'absences'), ('internet', 'G1'), ('internet', 'G2'), ('internet', 'G3'), ('romantic', 'address'), ('romantic', 'famsize'), ('romantic', 'Pstatus'), ('romantic', 'Medu'), ('romantic', 'Fedu'), ('romantic', 'traveltime'), ('romantic', 'studytime'), ('romantic', 'failures'), ('romantic', 'schoolsup'), ('romantic', 'famsup'), ('romantic', 'paid'), ('romantic', 'activities'), ('romantic', 'nursery'), ('romantic', 'higher'), ('romantic', 'internet'), ('romantic', 'famrel'), ('romantic', 'freetime'), ('romantic', 'goout'), ('romantic', 'Dalc'), ('romantic', 'Walc'), ('romantic', 'health'), ('romantic', 'absences'), ('romantic', 'G1'), ('romantic', 'G2'), ('romantic', 'G3'), ('famrel', 'address'), ('famrel', 'famsize'), ('famrel', 'Pstatus'), ('famrel', 'Medu'), ('famrel', 'Fedu'), ('famrel', 'traveltime'), ('famrel', 'studytime'), ('famrel', 'failures'), ('famrel', 'schoolsup'), ('famrel', 'famsup'), ('famrel', 'paid'), ('famrel', 'activities'), ('famrel', 'nursery'), ('famrel', 'higher'), ('famrel', 'internet'), ('famrel', 'romantic'), ('famrel', 'freetime'), ('famrel', 'goout'), ('famrel', 'Dalc'), ('famrel', 'Walc'), ('famrel', 'health'), ('famrel', 'absences'), ('famrel', 'G1'), ('famrel', 'G2'), ('famrel', 'G3'), ('freetime', 'address'), ('freetime', 'famsize'), ('freetime', 'Pstatus'), ('freetime', 'Medu'), ('freetime', 'Fedu'), ('freetime', 'traveltime'), ('freetime', 'studytime'), ('freetime', 'failures'), ('freetime', 'schoolsup'), ('freetime', 'famsup'), ('freetime', 'paid'), ('freetime', 'activities'), ('freetime', 'nursery'), ('freetime', 'higher'), ('freetime', 'internet'), ('freetime', 'romantic'), ('freetime', 'famrel'), ('freetime', 'goout'), ('freetime', 'Dalc'), ('freetime', 'Walc'), ('freetime', 'health'), ('freetime', 'absences'), ('freetime', 'G1'), ('freetime', 'G2'), ('freetime', 'G3'), ('goout', 'address'), ('goout', 'famsize'), ('goout', 'Pstatus'), ('goout', 'Medu'), ('goout', 'Fedu'), ('goout', 'traveltime'), ('goout', 'studytime'), ('goout', 'failures'), ('goout', 'schoolsup'), ('goout', 'famsup'), ('goout', 'paid'), ('goout', 'activities'), ('goout', 'nursery'), ('goout', 'higher'), ('goout', 'internet'), ('goout', 'romantic'), ('goout', 'famrel'), ('goout', 'freetime'), ('goout', 'Dalc'), ('goout', 'Walc'), ('goout', 'health'), ('goout', 'absences'), ('goout', 'G1'), ('goout', 'G2'), ('goout', 'G3'), ('Dalc', 'address'), ('Dalc', 'famsize'), ('Dalc', 'Pstatus'), ('Dalc', 'Medu'), ('Dalc', 'Fedu'), ('Dalc', 'traveltime'), ('Dalc', 'studytime'), ('Dalc', 'failures'), ('Dalc', 'schoolsup'), ('Dalc', 'famsup'), ('Dalc', 'paid'), ('Dalc', 'activities'), ('Dalc', 'nursery'), ('Dalc', 'higher'), ('Dalc', 'internet'), ('Dalc', 'romantic'), ('Dalc', 'famrel'), ('Dalc', 'freetime'), ('Dalc', 'goout'), ('Dalc', 'Walc'), ('Dalc', 'health'), ('Dalc', 'absences'), ('Dalc', 'G1'), ('Dalc', 'G2'), ('Dalc', 'G3'), ('Walc', 'address'), ('Walc', 'famsize'), ('Walc', 'Pstatus'), ('Walc', 'Medu'), ('Walc', 'Fedu'), ('Walc', 'traveltime'), ('Walc', 'studytime'), ('Walc', 'failures'), ('Walc', 'schoolsup'), ('Walc', 'famsup'), ('Walc', 'paid'), ('Walc', 'activities'), ('Walc', 'nursery'), ('Walc', 'higher'), ('Walc', 'internet'), ('Walc', 'romantic'), ('Walc', 'famrel'), ('Walc', 'freetime'), ('Walc', 'goout'), ('Walc', 'Dalc'), ('Walc', 'health'), ('Walc', 'absences'), ('Walc', 'G1'), ('Walc', 'G2'), ('Walc', 'G3'), ('health', 'address'), ('health', 'famsize'), ('health', 'Pstatus'), ('health', 'Medu'), ('health', 'Fedu'), ('health', 'traveltime'), ('health', 'studytime'), ('health', 'failures'), ('health', 'schoolsup'), ('health', 'famsup'), ('health', 'paid'), ('health', 'activities'), ('health', 'nursery'), ('health', 'higher'), ('health', 'internet'), ('health', 'romantic'), ('health', 'famrel'), ('health', 'freetime'), ('health', 'goout'), ('health', 'Dalc'), ('health', 'Walc'), ('health', 'absences'), ('health', 'G1'), ('health', 'G2'), ('health', 'G3'), ('absences', 'address'), ('absences', 'famsize'), ('absences', 'Pstatus'), ('absences', 'Medu'), ('absences', 'Fedu'), ('absences', 'traveltime'), ('absences', 'studytime'), ('absences', 'failures'), ('absences', 'schoolsup'), ('absences', 'famsup'), ('absences', 'paid'), ('absences', 'activities'), ('absences', 'nursery'), ('absences', 'higher'), ('absences', 'internet'), ('absences', 'romantic'), ('absences', 'famrel'), ('absences', 'freetime'), ('absences', 'goout'), ('absences', 'Dalc'), ('absences', 'Walc'), ('absences', 'health'), ('absences', 'G1'), ('absences', 'G2'), ('absences', 'G3'), ('G1', 'address'), ('G1', 'famsize'), ('G1', 'Pstatus'), ('G1', 'Medu'), ('G1', 'Fedu'), ('G1', 'traveltime'), ('G1', 'studytime'), ('G1', 'failures'), ('G1', 'schoolsup'), ('G1', 'famsup'), ('G1', 'paid'), ('G1', 'activities'), ('G1', 'nursery'), ('G1', 'higher'), ('G1', 'internet'), ('G1', 'romantic'), ('G1', 'famrel'), ('G1', 'freetime'), ('G1', 'goout'), ('G1', 'Dalc'), ('G1', 'Walc'), ('G1', 'health'), ('G1', 'absences'), ('G1', 'G2'), ('G1', 'G3'), ('G2', 'address'), ('G2', 'famsize'), ('G2', 'Pstatus'), ('G2', 'Medu'), ('G2', 'Fedu'), ('G2', 'traveltime'), ('G2', 'studytime'), ('G2', 'failures'), ('G2', 'schoolsup'), ('G2', 'famsup'), ('G2', 'paid'), ('G2', 'activities'), ('G2', 'nursery'), ('G2', 'higher'), ('G2', 'internet'), ('G2', 'romantic'), ('G2', 'famrel'), ('G2', 'freetime'), ('G2', 'goout'), ('G2', 'Dalc'), ('G2', 'Walc'), ('G2', 'health'), ('G2', 'absences'), ('G2', 'G1'), ('G2', 'G3'), ('G3', 'address'), ('G3', 'famsize'), ('G3', 'Pstatus'), ('G3', 'Medu'), ('G3', 'Fedu'), ('G3', 'traveltime'), ('G3', 'studytime'), ('G3', 'failures'), ('G3', 'schoolsup'), ('G3', 'famsup'), ('G3', 'paid'), ('G3', 'activities'), ('G3', 'nursery'), ('G3', 'higher'), ('G3', 'internet'), ('G3', 'romantic'), ('G3', 'famrel'), ('G3', 'freetime'), ('G3', 'goout'), ('G3', 'Dalc'), ('G3', 'Walc'), ('G3', 'health'), ('G3', 'absences'), ('G3', 'G1'), ('G3', 'G2')]),\n",
       " 650)"
      ]
     },
     "execution_count": 36,
     "metadata": {},
     "output_type": "execute_result"
    }
   ],
   "source": [
    "sm.edges, len(sm.edges)"
   ]
  },
  {
   "cell_type": "code",
   "execution_count": 31,
   "metadata": {},
   "outputs": [],
   "source": [
    "viz = plot_structure(\n",
    "    sm,\n",
    "    all_node_attributes=NODE_STYLE.WEAK,\n",
    "    all_edge_attributes=EDGE_STYLE.WEAK,\n",
    ")\n"
   ]
  },
  {
   "cell_type": "code",
   "execution_count": 38,
   "metadata": {},
   "outputs": [],
   "source": [
    "sm.remove_edges_below_threshold(0.8)"
   ]
  },
  {
   "cell_type": "code",
   "execution_count": 39,
   "metadata": {},
   "outputs": [
    {
     "data": {
      "text/plain": [
       "(OutEdgeView([('address', 'absences'), ('address', 'G1'), ('Pstatus', 'famrel'), ('Pstatus', 'absences'), ('Pstatus', 'G1'), ('studytime', 'G1'), ('failures', 'absences'), ('paid', 'absences'), ('higher', 'Medu'), ('higher', 'G1'), ('internet', 'absences'), ('Dalc', 'Walc'), ('G1', 'G2'), ('G2', 'G3')]),\n",
       " 14)"
      ]
     },
     "execution_count": 39,
     "metadata": {},
     "output_type": "execute_result"
    }
   ],
   "source": [
    "sm.edges, len(sm.edges)"
   ]
  },
  {
   "cell_type": "code",
   "execution_count": 40,
   "metadata": {},
   "outputs": [],
   "source": [
    "sm = from_pandas(struct_data, tabu_edges=[(\"higher\", \"Medu\")], w_threshold=0.8)"
   ]
  },
  {
   "cell_type": "code",
   "execution_count": 41,
   "metadata": {},
   "outputs": [
    {
     "data": {
      "text/plain": [
       "(OutEdgeView([('address', 'absences'), ('address', 'G1'), ('Pstatus', 'famrel'), ('Pstatus', 'absences'), ('Pstatus', 'G1'), ('studytime', 'G1'), ('failures', 'absences'), ('schoolsup', 'G1'), ('paid', 'absences'), ('higher', 'famrel'), ('higher', 'G1'), ('internet', 'absences'), ('Dalc', 'Walc'), ('G1', 'G2'), ('G2', 'G3')]),\n",
       " 15)"
      ]
     },
     "execution_count": 41,
     "metadata": {},
     "output_type": "execute_result"
    }
   ],
   "source": [
    "sm.edges, len(sm.edges)"
   ]
  },
  {
   "cell_type": "code",
   "execution_count": 45,
   "metadata": {},
   "outputs": [],
   "source": [
    "sm.add_edge(\"failures\", \"G1\")\n"
   ]
  },
  {
   "cell_type": "code",
   "execution_count": 46,
   "metadata": {},
   "outputs": [],
   "source": [
    "sm = sm.get_largest_subgraph()"
   ]
  },
  {
   "cell_type": "code",
   "execution_count": 48,
   "metadata": {},
   "outputs": [],
   "source": [
    "import networkx as nx\n",
    "\n",
    "nx.drawing.nx_pydot.write_dot(sm, 'graph.dot')"
   ]
  },
  {
   "cell_type": "code",
   "execution_count": 50,
   "metadata": {},
   "outputs": [],
   "source": [
    "from causalnex.network import BayesianNetwork\n",
    "bn = BayesianNetwork(sm)"
   ]
  },
  {
   "attachments": {},
   "cell_type": "markdown",
   "metadata": {},
   "source": [
    "Bayesian Networks in CausalNex support only discrete distributions. Any continuous features, or features with a large number of categories, should be discretised prior to fitting the Bayesian Network. Models containing variables with many possible values will typically be badly fit, and exhibit poor performance. \n",
    "For example, consider P(G2 | G1), where G1 and G2 have possible values 0 to 20. The discrete conditional probability distribution is therefore specified using 21x21 (441) possible combinations - most of which we will be unlikely to observe.\n",
    "\n",
    "CausalNex provides a few helper methods to make discretisation easier. Let’s start by reducing the number of categories in some of the categorical features by combining similar values. We will make numeric features categorical by discretisation, and then give the buckets meaningful labels."
   ]
  },
  {
   "cell_type": "code",
   "execution_count": 51,
   "metadata": {},
   "outputs": [],
   "source": [
    "discretised_data = data.copy()\n",
    "\n",
    "data_vals = {col: data[col].unique() for col in data.columns}\n",
    "\n",
    "failures_map = {v: 'no-failure' if v == [0]\n",
    "                else 'have-failure' for v in data_vals['failures']}\n",
    "studytime_map = {v: 'short-studytime' if v in [1,2]\n",
    "                 else 'long-studytime' for v in data_vals['studytime']}"
   ]
  },
  {
   "cell_type": "code",
   "execution_count": 52,
   "metadata": {},
   "outputs": [
    {
     "data": {
      "text/plain": [
       "{2: 'short-studytime',\n",
       " 3: 'long-studytime',\n",
       " 1: 'short-studytime',\n",
       " 4: 'long-studytime'}"
      ]
     },
     "execution_count": 52,
     "metadata": {},
     "output_type": "execute_result"
    }
   ],
   "source": [
    "studytime_map"
   ]
  },
  {
   "cell_type": "code",
   "execution_count": 53,
   "metadata": {},
   "outputs": [],
   "source": [
    "discretised_data[\"failures\"] = discretised_data[\"failures\"].map(failures_map)\n",
    "discretised_data[\"studytime\"] = discretised_data[\"studytime\"].map(studytime_map)"
   ]
  },
  {
   "attachments": {},
   "cell_type": "markdown",
   "metadata": {},
   "source": [
    "To make numeric features categorical, they must first be discretised. CausalNex provides a helper class `causalnex.discretiser.Discretiser`, which supports several discretisation methods. For our data the fixed method will be applied, providing static values that define the bucket boundaries. For example, `absences` will be discretised into the buckets < 1, 1 to 9, and >=10. Each bucket will be labelled as an integer from zero."
   ]
  },
  {
   "cell_type": "code",
   "execution_count": 54,
   "metadata": {},
   "outputs": [
    {
     "name": "stderr",
     "output_type": "stream",
     "text": [
      "WARNING:root:MDLP was not imported successfully\n"
     ]
    }
   ],
   "source": [
    "from causalnex.discretiser import Discretiser\n",
    "\n",
    "discretised_data[\"absences\"] = Discretiser(method=\"fixed\",\n",
    "                          numeric_split_points=[1, 10]).transform(discretised_data[\"absences\"].values)\n",
    "discretised_data[\"G1\"] = Discretiser(method=\"fixed\",\n",
    "                          numeric_split_points=[10]).transform(discretised_data[\"G1\"].values)\n",
    "discretised_data[\"G2\"] = Discretiser(method=\"fixed\",\n",
    "                          numeric_split_points=[10]).transform(discretised_data[\"G2\"].values)\n",
    "discretised_data[\"G3\"] = Discretiser(method=\"fixed\",\n",
    "                          numeric_split_points=[10]).transform(discretised_data[\"G3\"].values)"
   ]
  },
  {
   "cell_type": "code",
   "execution_count": 55,
   "metadata": {},
   "outputs": [],
   "source": [
    "absences_map = {0: \"No-absence\", 1: \"Low-absence\", 2: \"High-absence\"}\n",
    "\n",
    "G1_map = {0: \"Fail\", 1: \"Pass\"}\n",
    "G2_map = {0: \"Fail\", 1: \"Pass\"}\n",
    "G3_map = {0: \"Fail\", 1: \"Pass\"}\n",
    "\n",
    "discretised_data[\"absences\"] = discretised_data[\"absences\"].map(absences_map)\n",
    "discretised_data[\"G1\"] = discretised_data[\"G1\"].map(G1_map)\n",
    "discretised_data[\"G2\"] = discretised_data[\"G2\"].map(G2_map)\n",
    "discretised_data[\"G3\"] = discretised_data[\"G3\"].map(G3_map)"
   ]
  },
  {
   "attachments": {},
   "cell_type": "markdown",
   "metadata": {},
   "source": [
    "With the learnt structure model from earlier and the discretised data, we can now fit the probability distrbution of the Bayesian Network. The first step in this is specifying all of the states that each node can take. This can be done either from data, or providing a dictionary of node values. We use the full dataset here to avoid cases where states in our test set do not exist in the training set. For real-world applications, these states may need to be provided using the dictionary method."
   ]
  },
  {
   "cell_type": "code",
   "execution_count": 56,
   "metadata": {},
   "outputs": [],
   "source": [
    "bn = bn.fit_node_states(discretised_data)"
   ]
  },
  {
   "cell_type": "code",
   "execution_count": 58,
   "metadata": {},
   "outputs": [],
   "source": [
    "# Split 90% train and 10% test\n",
    "from sklearn.model_selection import train_test_split\n",
    "\n",
    "train, test = train_test_split(discretised_data, train_size=0.9, test_size=0.1, random_state=7)\n",
    "bn = bn.fit_cpds(train, method=\"BayesianEstimator\", bayes_prior=\"K2\")\n"
   ]
  },
  {
   "cell_type": "code",
   "execution_count": 59,
   "metadata": {},
   "outputs": [
    {
     "data": {
      "text/html": [
       "<div>\n",
       "<style scoped>\n",
       "    .dataframe tbody tr th:only-of-type {\n",
       "        vertical-align: middle;\n",
       "    }\n",
       "\n",
       "    .dataframe tbody tr th {\n",
       "        vertical-align: top;\n",
       "    }\n",
       "\n",
       "    .dataframe thead tr th {\n",
       "        text-align: left;\n",
       "    }\n",
       "\n",
       "    .dataframe thead tr:last-of-type th {\n",
       "        text-align: right;\n",
       "    }\n",
       "</style>\n",
       "<table border=\"1\" class=\"dataframe\">\n",
       "  <thead>\n",
       "    <tr>\n",
       "      <th>failures</th>\n",
       "      <th colspan=\"8\" halign=\"left\">have-failure</th>\n",
       "      <th colspan=\"8\" halign=\"left\">no-failure</th>\n",
       "    </tr>\n",
       "    <tr>\n",
       "      <th>higher</th>\n",
       "      <th colspan=\"4\" halign=\"left\">no</th>\n",
       "      <th colspan=\"4\" halign=\"left\">yes</th>\n",
       "      <th colspan=\"4\" halign=\"left\">no</th>\n",
       "      <th colspan=\"4\" halign=\"left\">yes</th>\n",
       "    </tr>\n",
       "    <tr>\n",
       "      <th>schoolsup</th>\n",
       "      <th colspan=\"2\" halign=\"left\">no</th>\n",
       "      <th colspan=\"2\" halign=\"left\">yes</th>\n",
       "      <th colspan=\"2\" halign=\"left\">no</th>\n",
       "      <th colspan=\"2\" halign=\"left\">yes</th>\n",
       "      <th colspan=\"2\" halign=\"left\">no</th>\n",
       "      <th colspan=\"2\" halign=\"left\">yes</th>\n",
       "      <th colspan=\"2\" halign=\"left\">no</th>\n",
       "      <th colspan=\"2\" halign=\"left\">yes</th>\n",
       "    </tr>\n",
       "    <tr>\n",
       "      <th>studytime</th>\n",
       "      <th>long-studytime</th>\n",
       "      <th>short-studytime</th>\n",
       "      <th>long-studytime</th>\n",
       "      <th>short-studytime</th>\n",
       "      <th>long-studytime</th>\n",
       "      <th>short-studytime</th>\n",
       "      <th>long-studytime</th>\n",
       "      <th>short-studytime</th>\n",
       "      <th>long-studytime</th>\n",
       "      <th>short-studytime</th>\n",
       "      <th>long-studytime</th>\n",
       "      <th>short-studytime</th>\n",
       "      <th>long-studytime</th>\n",
       "      <th>short-studytime</th>\n",
       "      <th>long-studytime</th>\n",
       "      <th>short-studytime</th>\n",
       "    </tr>\n",
       "    <tr>\n",
       "      <th>G1</th>\n",
       "      <th></th>\n",
       "      <th></th>\n",
       "      <th></th>\n",
       "      <th></th>\n",
       "      <th></th>\n",
       "      <th></th>\n",
       "      <th></th>\n",
       "      <th></th>\n",
       "      <th></th>\n",
       "      <th></th>\n",
       "      <th></th>\n",
       "      <th></th>\n",
       "      <th></th>\n",
       "      <th></th>\n",
       "      <th></th>\n",
       "      <th></th>\n",
       "    </tr>\n",
       "  </thead>\n",
       "  <tbody>\n",
       "    <tr>\n",
       "      <th>Fail</th>\n",
       "      <td>0.75</td>\n",
       "      <td>0.806452</td>\n",
       "      <td>0.5</td>\n",
       "      <td>0.75</td>\n",
       "      <td>0.5</td>\n",
       "      <td>0.612245</td>\n",
       "      <td>0.5</td>\n",
       "      <td>0.75</td>\n",
       "      <td>0.5</td>\n",
       "      <td>0.612903</td>\n",
       "      <td>0.5</td>\n",
       "      <td>0.5</td>\n",
       "      <td>0.032967</td>\n",
       "      <td>0.15016</td>\n",
       "      <td>0.111111</td>\n",
       "      <td>0.255814</td>\n",
       "    </tr>\n",
       "    <tr>\n",
       "      <th>Pass</th>\n",
       "      <td>0.25</td>\n",
       "      <td>0.193548</td>\n",
       "      <td>0.5</td>\n",
       "      <td>0.25</td>\n",
       "      <td>0.5</td>\n",
       "      <td>0.387755</td>\n",
       "      <td>0.5</td>\n",
       "      <td>0.25</td>\n",
       "      <td>0.5</td>\n",
       "      <td>0.387097</td>\n",
       "      <td>0.5</td>\n",
       "      <td>0.5</td>\n",
       "      <td>0.967033</td>\n",
       "      <td>0.84984</td>\n",
       "      <td>0.888889</td>\n",
       "      <td>0.744186</td>\n",
       "    </tr>\n",
       "  </tbody>\n",
       "</table>\n",
       "</div>"
      ],
      "text/plain": [
       "failures    have-failure                                                 \\\n",
       "higher                no                                                  \n",
       "schoolsup             no                            yes                   \n",
       "studytime long-studytime short-studytime long-studytime short-studytime   \n",
       "G1                                                                        \n",
       "Fail                0.75        0.806452            0.5            0.75   \n",
       "Pass                0.25        0.193548            0.5            0.25   \n",
       "\n",
       "failures                                                                 \\\n",
       "higher               yes                                                  \n",
       "schoolsup             no                            yes                   \n",
       "studytime long-studytime short-studytime long-studytime short-studytime   \n",
       "G1                                                                        \n",
       "Fail                 0.5        0.612245            0.5            0.75   \n",
       "Pass                 0.5        0.387755            0.5            0.25   \n",
       "\n",
       "failures      no-failure                                                 \\\n",
       "higher                no                                                  \n",
       "schoolsup             no                            yes                   \n",
       "studytime long-studytime short-studytime long-studytime short-studytime   \n",
       "G1                                                                        \n",
       "Fail                 0.5        0.612903            0.5             0.5   \n",
       "Pass                 0.5        0.387097            0.5             0.5   \n",
       "\n",
       "failures                                                                 \n",
       "higher               yes                                                 \n",
       "schoolsup             no                            yes                  \n",
       "studytime long-studytime short-studytime long-studytime short-studytime  \n",
       "G1                                                                       \n",
       "Fail            0.032967         0.15016       0.111111        0.255814  \n",
       "Pass            0.967033         0.84984       0.888889        0.744186  "
      ]
     },
     "execution_count": 59,
     "metadata": {},
     "output_type": "execute_result"
    }
   ],
   "source": [
    "\n",
    "bn.cpds[\"G1\"]"
   ]
  },
  {
   "cell_type": "code",
   "execution_count": 60,
   "metadata": {},
   "outputs": [
    {
     "name": "stdout",
     "output_type": "stream",
     "text": [
      "The prediction is 'Fail'\n",
      "The ground truth is 'Fail'\n"
     ]
    }
   ],
   "source": [
    "#example of prediction\n",
    "discretised_data.loc[18, discretised_data.columns != 'G1']\n",
    "predictions = bn.predict(discretised_data, \"G1\")\n",
    "print(f\"The prediction is '{predictions.loc[18, 'G1_prediction']}'\")\n",
    "print(f\"The ground truth is '{discretised_data.loc[18, 'G1']}'\")"
   ]
  },
  {
   "cell_type": "code",
   "execution_count": 61,
   "metadata": {},
   "outputs": [
    {
     "data": {
      "text/plain": [
       "{'G1_Fail': {'precision': 0.7777777777777778,\n",
       "  'recall': 0.5833333333333334,\n",
       "  'f1-score': 0.6666666666666666,\n",
       "  'support': 12},\n",
       " 'G1_Pass': {'precision': 0.9107142857142857,\n",
       "  'recall': 0.9622641509433962,\n",
       "  'f1-score': 0.9357798165137615,\n",
       "  'support': 53},\n",
       " 'accuracy': 0.8923076923076924,\n",
       " 'macro avg': {'precision': 0.8442460317460317,\n",
       "  'recall': 0.7727987421383649,\n",
       "  'f1-score': 0.8012232415902141,\n",
       "  'support': 65},\n",
       " 'weighted avg': {'precision': 0.8861721611721611,\n",
       "  'recall': 0.8923076923076924,\n",
       "  'f1-score': 0.8860973888496825,\n",
       "  'support': 65}}"
      ]
     },
     "execution_count": 61,
     "metadata": {},
     "output_type": "execute_result"
    }
   ],
   "source": [
    "\n",
    "from causalnex.evaluation import classification_report\n",
    "\n",
    "classification_report(bn, test, \"G1\")"
   ]
  },
  {
   "cell_type": "code",
   "execution_count": 62,
   "metadata": {},
   "outputs": [
    {
     "name": "stdout",
     "output_type": "stream",
     "text": [
      "0.9181065088757396\n"
     ]
    }
   ],
   "source": [
    "from causalnex.evaluation import roc_auc\n",
    "roc, auc = roc_auc(bn, test, \"G1\")\n",
    "print(auc)"
   ]
  },
  {
   "attachments": {},
   "cell_type": "markdown",
   "metadata": {},
   "source": [
    "# Querying Marginals"
   ]
  },
  {
   "attachments": {},
   "cell_type": "markdown",
   "metadata": {},
   "source": [
    "To query the model for baseline marginals that reflect the population as a whole, a query method can be used. First let’s update our model using the complete dataset, since the one we currently have was only built from training data."
   ]
  },
  {
   "cell_type": "code",
   "execution_count": 63,
   "metadata": {},
   "outputs": [],
   "source": [
    "bn = bn.fit_cpds(discretised_data, method=\"BayesianEstimator\", bayes_prior=\"K2\")"
   ]
  },
  {
   "cell_type": "code",
   "execution_count": 64,
   "metadata": {},
   "outputs": [
    {
     "data": {
      "text/plain": [
       "{'Fail': 0.25260687281677224, 'Pass': 0.7473931271832277}"
      ]
     },
     "execution_count": 64,
     "metadata": {},
     "output_type": "execute_result"
    }
   ],
   "source": [
    "from causalnex.inference import InferenceEngine\n",
    "\n",
    "ie = InferenceEngine(bn)\n",
    "marginals = ie.query()\n",
    "marginals[\"G1\"]"
   ]
  },
  {
   "cell_type": "code",
   "execution_count": 65,
   "metadata": {},
   "outputs": [
    {
     "data": {
      "text/plain": [
       "[('Fail', 157), ('Pass', 492)]"
      ]
     },
     "execution_count": 65,
     "metadata": {},
     "output_type": "execute_result"
    }
   ],
   "source": [
    "import numpy as np\n",
    "\n",
    "labels, counts = np.unique(discretised_data[\"G1\"], return_counts=True)\n",
    "list(zip(labels, counts))"
   ]
  },
  {
   "cell_type": "code",
   "execution_count": 66,
   "metadata": {},
   "outputs": [
    {
     "name": "stdout",
     "output_type": "stream",
     "text": [
      "Marginal G1 | Short Studtyime {'Fail': 0.2776556433482524, 'Pass': 0.7223443566517477}\n",
      "Marginal G1 | Long Studytime {'Fail': 0.15504850337837614, 'Pass': 0.8449514966216239}\n"
     ]
    }
   ],
   "source": [
    "marginals_short = ie.query({\"studytime\": \"short-studytime\"})\n",
    "marginals_long = ie.query({\"studytime\": \"long-studytime\"})\n",
    "print(\"Marginal G1 | Short Studtyime\", marginals_short[\"G1\"])\n",
    "print(\"Marginal G1 | Long Studytime\", marginals_long[\"G1\"])"
   ]
  },
  {
   "attachments": {},
   "cell_type": "markdown",
   "metadata": {},
   "source": [
    "# Do Calculus"
   ]
  },
  {
   "cell_type": "code",
   "execution_count": 67,
   "metadata": {},
   "outputs": [
    {
     "name": "stdout",
     "output_type": "stream",
     "text": [
      "distribution before do {'no': 0.10752688172043011, 'yes': 0.8924731182795698}\n",
      "distribution after do {'no': 0.0, 'yes': 0.9999999999999998}\n"
     ]
    }
   ],
   "source": [
    "print(\"distribution before do\", ie.query()[\"higher\"])\n",
    "ie.do_intervention(\"higher\",\n",
    "                   {'yes': 1.0,\n",
    "                    'no': 0.0})\n",
    "print(\"distribution after do\", ie.query()[\"higher\"])"
   ]
  },
  {
   "cell_type": "code",
   "execution_count": 68,
   "metadata": {},
   "outputs": [],
   "source": [
    "ie.reset_do(\"higher\")"
   ]
  },
  {
   "cell_type": "code",
   "execution_count": 69,
   "metadata": {},
   "outputs": [
    {
     "name": "stdout",
     "output_type": "stream",
     "text": [
      "marginal G1 {'Fail': 0.25260687281677224, 'Pass': 0.7473931271832277}\n",
      "updated marginal G1 {'Fail': 0.20682952942551894, 'Pass': 0.7931704705744809}\n"
     ]
    }
   ],
   "source": [
    "print(\"marginal G1\", ie.query()[\"G1\"])\n",
    "ie.do_intervention(\"higher\",\n",
    "                   {'yes': 1.0,\n",
    "                    'no': 0.0})\n",
    "print(\"updated marginal G1\", ie.query()[\"G1\"])"
   ]
  },
  {
   "attachments": {},
   "cell_type": "markdown",
   "metadata": {},
   "source": [
    "In this case, we can see that if 100% of students wanted to do higher education (as opposed to 90% in our data population), then we estimate that pass rate would increase from 74.7% to 79.3%."
   ]
  }
 ],
 "metadata": {
  "kernelspec": {
   "display_name": "d2c",
   "language": "python",
   "name": "python3"
  },
  "language_info": {
   "codemirror_mode": {
    "name": "ipython",
    "version": 3
   },
   "file_extension": ".py",
   "mimetype": "text/x-python",
   "name": "python",
   "nbconvert_exporter": "python",
   "pygments_lexer": "ipython3",
   "version": "3.8.16"
  },
  "orig_nbformat": 4
 },
 "nbformat": 4,
 "nbformat_minor": 2
}
