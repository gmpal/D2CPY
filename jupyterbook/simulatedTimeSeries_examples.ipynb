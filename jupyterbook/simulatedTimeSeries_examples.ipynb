{
 "cells": [
  {
   "attachments": {},
   "cell_type": "markdown",
   "metadata": {},
   "source": [
    "# Examples"
   ]
  },
  {
   "cell_type": "code",
   "execution_count": 1,
   "metadata": {},
   "outputs": [],
   "source": [
    "import sys\n",
    "sys.path.append(\"..\")"
   ]
  },
  {
   "cell_type": "code",
   "execution_count": 2,
   "metadata": {},
   "outputs": [],
   "source": [
    "from d2c.simulatedTimeSeries import SimulatedTimeSeries\n",
    "from d2c.D2C import D2C"
   ]
  },
  {
   "cell_type": "code",
   "execution_count": 3,
   "metadata": {},
   "outputs": [],
   "source": [
    "n_series = 10\n",
    "n_observations = 100\n",
    "n_variables = 4"
   ]
  },
  {
   "cell_type": "code",
   "execution_count": 4,
   "metadata": {},
   "outputs": [],
   "source": [
    "simulated_timeseries = SimulatedTimeSeries(n_series, n_observations, n_variables, random_state=0)\n",
    "simulated_timeseries.generate_time_series()"
   ]
  },
  {
   "cell_type": "code",
   "execution_count": 5,
   "metadata": {},
   "outputs": [],
   "source": [
    "all_DAGs = simulated_timeseries.get_dags()\n",
    "training_DAGs = all_DAGs[:-1]\n",
    "testing_DAGs = all_DAGs[-1]\n",
    "\n",
    "all_observations = simulated_timeseries.get_observations()\n",
    "training_observations = all_observations[:-1]\n",
    "testing_observations = all_observations[-1]\n"
   ]
  },
  {
   "cell_type": "code",
   "execution_count": 6,
   "metadata": {},
   "outputs": [
    {
     "name": "stdout",
     "output_type": "stream",
     "text": [
      "17:26:46 Descriptors for DAG 0 edge pair 1 0 computed\n",
      "17:26:48 Descriptors for DAG 0 edge pair 0 1 computed\n",
      "17:26:50 Descriptors for DAG 0 edge pair 2 0 computed\n",
      "17:26:52 Descriptors for DAG 0 edge pair 0 2 computed\n",
      "17:26:53 Descriptors for DAG 0 edge pair 2 1 computed\n",
      "17:26:55 Descriptors for DAG 0 edge pair 1 2 computed\n",
      "17:26:57 Descriptors for DAG 0 edge pair 3 0 computed\n",
      "17:26:59 Descriptors for DAG 0 edge pair 0 3 computed\n",
      "17:27:01 Descriptors for DAG 0 edge pair 3 1 computed\n",
      "17:27:02 Descriptors for DAG 0 edge pair 1 3 computed\n",
      "17:27:04 Descriptors for DAG 0 edge pair 3 2 computed\n",
      "17:27:05 Descriptors for DAG 0 edge pair 2 3 computed\n",
      "17:27:07 Descriptors for DAG 1 edge pair 1 0 computed\n",
      "17:27:09 Descriptors for DAG 1 edge pair 0 1 computed\n",
      "17:27:12 Descriptors for DAG 1 edge pair 2 0 computed\n",
      "17:27:13 Descriptors for DAG 1 edge pair 0 2 computed\n",
      "17:27:15 Descriptors for DAG 1 edge pair 2 1 computed\n",
      "17:27:17 Descriptors for DAG 1 edge pair 1 2 computed\n",
      "17:27:19 Descriptors for DAG 1 edge pair 3 0 computed\n",
      "17:27:20 Descriptors for DAG 1 edge pair 0 3 computed\n",
      "17:27:22 Descriptors for DAG 1 edge pair 3 1 computed\n",
      "17:27:24 Descriptors for DAG 1 edge pair 1 3 computed\n",
      "17:27:26 Descriptors for DAG 1 edge pair 3 2 computed\n",
      "17:27:27 Descriptors for DAG 1 edge pair 2 3 computed\n",
      "17:27:29 Descriptors for DAG 2 edge pair 1 0 computed\n",
      "17:27:31 Descriptors for DAG 2 edge pair 0 1 computed\n",
      "17:27:32 Descriptors for DAG 2 edge pair 2 0 computed\n",
      "17:27:34 Descriptors for DAG 2 edge pair 0 2 computed\n",
      "17:27:37 Descriptors for DAG 2 edge pair 2 1 computed\n",
      "17:27:38 Descriptors for DAG 2 edge pair 1 2 computed\n",
      "17:27:40 Descriptors for DAG 2 edge pair 3 0 computed\n",
      "17:27:42 Descriptors for DAG 2 edge pair 0 3 computed\n",
      "17:27:43 Descriptors for DAG 2 edge pair 3 1 computed\n",
      "17:27:45 Descriptors for DAG 2 edge pair 1 3 computed\n",
      "17:27:47 Descriptors for DAG 2 edge pair 3 2 computed\n",
      "17:27:48 Descriptors for DAG 2 edge pair 2 3 computed\n",
      "17:27:50 Descriptors for DAG 3 edge pair 1 0 computed\n",
      "17:27:52 Descriptors for DAG 3 edge pair 0 1 computed\n",
      "17:27:53 Descriptors for DAG 3 edge pair 2 0 computed\n",
      "17:27:55 Descriptors for DAG 3 edge pair 0 2 computed\n",
      "17:27:56 Descriptors for DAG 3 edge pair 2 1 computed\n",
      "17:27:58 Descriptors for DAG 3 edge pair 1 2 computed\n",
      "17:28:00 Descriptors for DAG 3 edge pair 3 0 computed\n",
      "17:28:02 Descriptors for DAG 3 edge pair 0 3 computed\n",
      "17:28:03 Descriptors for DAG 3 edge pair 3 1 computed\n",
      "17:28:05 Descriptors for DAG 3 edge pair 1 3 computed\n",
      "17:28:07 Descriptors for DAG 3 edge pair 3 2 computed\n",
      "17:28:09 Descriptors for DAG 3 edge pair 2 3 computed\n",
      "17:28:10 Descriptors for DAG 4 edge pair 1 0 computed\n",
      "17:28:12 Descriptors for DAG 4 edge pair 0 1 computed\n",
      "17:28:14 Descriptors for DAG 4 edge pair 2 0 computed\n",
      "17:28:16 Descriptors for DAG 4 edge pair 0 2 computed\n",
      "17:28:18 Descriptors for DAG 4 edge pair 2 1 computed\n",
      "17:28:20 Descriptors for DAG 4 edge pair 1 2 computed\n",
      "17:28:22 Descriptors for DAG 4 edge pair 3 0 computed\n",
      "17:28:24 Descriptors for DAG 4 edge pair 0 3 computed\n",
      "17:28:26 Descriptors for DAG 4 edge pair 3 1 computed\n",
      "17:28:28 Descriptors for DAG 4 edge pair 1 3 computed\n",
      "17:28:30 Descriptors for DAG 4 edge pair 3 2 computed\n",
      "17:28:32 Descriptors for DAG 4 edge pair 2 3 computed\n",
      "17:28:33 Descriptors for DAG 5 edge pair 1 0 computed\n",
      "17:28:36 Descriptors for DAG 5 edge pair 0 1 computed\n",
      "17:28:38 Descriptors for DAG 5 edge pair 2 0 computed\n",
      "17:28:40 Descriptors for DAG 5 edge pair 0 2 computed\n",
      "17:28:42 Descriptors for DAG 5 edge pair 2 1 computed\n",
      "17:28:43 Descriptors for DAG 5 edge pair 1 2 computed\n",
      "17:28:45 Descriptors for DAG 5 edge pair 3 0 computed\n",
      "17:28:47 Descriptors for DAG 5 edge pair 0 3 computed\n",
      "17:28:49 Descriptors for DAG 5 edge pair 3 1 computed\n",
      "17:28:50 Descriptors for DAG 5 edge pair 1 3 computed\n",
      "17:28:52 Descriptors for DAG 5 edge pair 3 2 computed\n",
      "17:28:54 Descriptors for DAG 5 edge pair 2 3 computed\n",
      "17:28:56 Descriptors for DAG 6 edge pair 1 0 computed\n",
      "17:28:57 Descriptors for DAG 6 edge pair 0 1 computed\n",
      "17:28:59 Descriptors for DAG 6 edge pair 2 0 computed\n",
      "17:29:01 Descriptors for DAG 6 edge pair 0 2 computed\n",
      "17:29:03 Descriptors for DAG 6 edge pair 2 1 computed\n",
      "17:29:05 Descriptors for DAG 6 edge pair 1 2 computed\n",
      "17:29:06 Descriptors for DAG 6 edge pair 3 0 computed\n",
      "17:29:08 Descriptors for DAG 6 edge pair 0 3 computed\n",
      "17:29:11 Descriptors for DAG 6 edge pair 3 1 computed\n",
      "17:29:13 Descriptors for DAG 6 edge pair 1 3 computed\n",
      "17:29:15 Descriptors for DAG 6 edge pair 3 2 computed\n",
      "17:29:17 Descriptors for DAG 6 edge pair 2 3 computed\n",
      "17:29:20 Descriptors for DAG 7 edge pair 1 0 computed\n",
      "17:29:25 Descriptors for DAG 7 edge pair 0 1 computed\n",
      "17:29:28 Descriptors for DAG 7 edge pair 2 0 computed\n",
      "17:29:30 Descriptors for DAG 7 edge pair 0 2 computed\n",
      "17:29:32 Descriptors for DAG 7 edge pair 2 1 computed\n",
      "17:29:34 Descriptors for DAG 7 edge pair 1 2 computed\n",
      "17:29:35 Descriptors for DAG 7 edge pair 3 0 computed\n",
      "17:29:38 Descriptors for DAG 7 edge pair 0 3 computed\n",
      "17:29:40 Descriptors for DAG 7 edge pair 3 1 computed\n",
      "17:29:41 Descriptors for DAG 7 edge pair 1 3 computed\n",
      "17:29:43 Descriptors for DAG 7 edge pair 3 2 computed\n",
      "17:29:45 Descriptors for DAG 7 edge pair 2 3 computed\n",
      "17:29:47 Descriptors for DAG 8 edge pair 1 0 computed\n",
      "17:29:48 Descriptors for DAG 8 edge pair 0 1 computed\n",
      "17:29:50 Descriptors for DAG 8 edge pair 2 0 computed\n",
      "17:29:52 Descriptors for DAG 8 edge pair 0 2 computed\n",
      "17:29:54 Descriptors for DAG 8 edge pair 2 1 computed\n",
      "17:29:55 Descriptors for DAG 8 edge pair 1 2 computed\n",
      "17:29:57 Descriptors for DAG 8 edge pair 3 0 computed\n",
      "17:29:59 Descriptors for DAG 8 edge pair 0 3 computed\n",
      "17:30:00 Descriptors for DAG 8 edge pair 3 1 computed\n",
      "17:30:02 Descriptors for DAG 8 edge pair 1 3 computed\n",
      "17:30:04 Descriptors for DAG 8 edge pair 3 2 computed\n",
      "17:30:06 Descriptors for DAG 8 edge pair 2 3 computed\n"
     ]
    }
   ],
   "source": [
    "d2c = D2C(training_DAGs,training_observations)\n",
    "d2c.initialize()\n"
   ]
  },
  {
   "cell_type": "code",
   "execution_count": 8,
   "metadata": {},
   "outputs": [],
   "source": [
    "d2c.save_descriptors_df('timeseries_training.csv')"
   ]
  },
  {
   "cell_type": "code",
   "execution_count": 7,
   "metadata": {},
   "outputs": [
    {
     "name": "stdout",
     "output_type": "stream",
     "text": [
      "14:30:27 Descriptors for DAG 0 edge pair 1 0 computed\n",
      "14:30:28 Descriptors for DAG 0 edge pair 0 1 computed\n",
      "14:30:30 Descriptors for DAG 0 edge pair 2 0 computed\n",
      "14:30:31 Descriptors for DAG 0 edge pair 0 2 computed\n",
      "14:30:33 Descriptors for DAG 0 edge pair 2 1 computed\n",
      "14:30:34 Descriptors for DAG 0 edge pair 1 2 computed\n",
      "14:30:35 Descriptors for DAG 0 edge pair 3 0 computed\n",
      "14:30:37 Descriptors for DAG 0 edge pair 0 3 computed\n",
      "14:30:38 Descriptors for DAG 0 edge pair 3 1 computed\n",
      "14:30:40 Descriptors for DAG 0 edge pair 1 3 computed\n",
      "14:30:41 Descriptors for DAG 0 edge pair 3 2 computed\n",
      "14:30:42 Descriptors for DAG 0 edge pair 2 3 computed\n"
     ]
    }
   ],
   "source": [
    "d2c_test = D2C([testing_DAGs],[testing_observations])\n",
    "# d2c_test.initialize()\n",
    "# d2c_test.save_descriptors_df('timeseries_test.csv')\n",
    "d2c_test.load_descriptors_df('timeseries_test.csv')\n",
    "\n"
   ]
  },
  {
   "cell_type": "code",
   "execution_count": 9,
   "metadata": {},
   "outputs": [],
   "source": [
    "score, G = d2c.test(test_df=d2c_test.get_descriptors_df(), reconstruct=True)\n",
    "\n"
   ]
  },
  {
   "attachments": {},
   "cell_type": "markdown",
   "metadata": {},
   "source": [
    "True graph"
   ]
  },
  {
   "cell_type": "code",
   "execution_count": 10,
   "metadata": {},
   "outputs": [
    {
     "name": "stdout",
     "output_type": "stream",
     "text": [
      "Node 1\n",
      "Node 0\n",
      "Node 2\n",
      "Node 3\n",
      "Edge 1 -> 0\n",
      "Edge 2 -> 0\n",
      "Edge 2 -> 1\n",
      "Edge 3 -> 0\n",
      "Edge 3 -> 1\n",
      "Edge 3 -> 2\n"
     ]
    }
   ],
   "source": [
    "for node, _ in testing_DAGs.nodes(data=True):\n",
    "        print(f\"Node {node}\")\n",
    "for edge_source, edge_dest, _ in testing_DAGs.edges(data=True):\n",
    "        print(f\"Edge {edge_source} -> {edge_dest}\")"
   ]
  },
  {
   "attachments": {},
   "cell_type": "markdown",
   "metadata": {},
   "source": [
    "Reconstructed graph"
   ]
  },
  {
   "cell_type": "code",
   "execution_count": 11,
   "metadata": {},
   "outputs": [
    {
     "name": "stdout",
     "output_type": "stream",
     "text": [
      "Node 1.0\n",
      "Node 0.0\n",
      "Node 2.0\n",
      "Node 3.0\n",
      "Edge 1.0 -> 0.0\n",
      "Edge 0.0 -> 1.0\n",
      "Edge 2.0 -> 1.0\n",
      "Edge 3.0 -> 0.0\n",
      "Edge 3.0 -> 1.0\n"
     ]
    }
   ],
   "source": [
    "for node, _ in G.nodes(data=True):\n",
    "        print(f\"Node {node}\")\n",
    "for edge_source, edge_dest, _ in G.edges(data=True):\n",
    "        print(f\"Edge {edge_source} -> {edge_dest}\")"
   ]
  },
  {
   "cell_type": "code",
   "execution_count": null,
   "metadata": {},
   "outputs": [],
   "source": []
  }
 ],
 "metadata": {
  "kernelspec": {
   "display_name": "d2c",
   "language": "python",
   "name": "python3"
  },
  "language_info": {
   "codemirror_mode": {
    "name": "ipython",
    "version": 3
   },
   "file_extension": ".py",
   "mimetype": "text/x-python",
   "name": "python",
   "nbconvert_exporter": "python",
   "pygments_lexer": "ipython3",
   "version": "3.8.16"
  },
  "orig_nbformat": 4
 },
 "nbformat": 4,
 "nbformat_minor": 2
}
