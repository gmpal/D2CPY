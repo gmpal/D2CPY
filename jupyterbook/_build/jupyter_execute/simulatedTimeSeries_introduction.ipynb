{
 "cells": [
  {
   "attachments": {},
   "cell_type": "markdown",
   "metadata": {},
   "source": [
    "# SimulatedTimeSeries"
   ]
  },
  {
   "attachments": {},
   "cell_type": "markdown",
   "metadata": {},
   "source": [
    "The `SimulatedTimeSeries` class is a Python object designed to generate and simulate observations on Directed Acyclic Graphs (DAGs) across different time steps. These temporal graphs are utilized to model causal relationships in time series data, encompassing areas such as econometrics, machine learning, and system dynamics.\n",
    "\n",
    "This class provides an efficient way to create a single DAG and simulate observations for it over several time steps. It enables customization of the number of variables (nodes), the length of the time series, and the types of functions applied to the relationships within the DAG. While the initial version supports linear functions, it can be extended to include more complex relationships such as quadratic or sigmoid functions.\n",
    "\n",
    "To further refine the simulation, the class allows the user to specify parameters including the standard deviation of noise, weights, biases, and the type of relationships between the variables (e.g., linear). These settings enable precise control over the simulated process and can be adjusted to align with specific research or analytical goals.\n",
    "\n",
    "Unlike conventional static DAGs, the `SimulatedTimeSeries` class incorporates temporal dependencies by ensuring that past values influence current observations. This adds realism to the simulation, capturing the temporal dynamics inherent in many real-world systems.\n",
    "\n",
    "The `SimulatedTimeSeries` class also provides methods to visually inspect the underlying DAG or to print its structure, aiding in the understanding and verification of the model.\n",
    "\n",
    "To use the `SimulatedTimeSeries` class, an instance is initialized with the desired parameters such as the number of variables, length of the time series, and other optional settings. Then, the DAG can be generated, and the time series is simulated across the specified time frame.\n",
    "\n",
    "The generated time series data can be accessed and analyzed, providing valuable insights into the modeled system's behavior over time. It can also be used for further analysis, such as fitting statistical models or evaluating predictive algorithms.\n",
    "\n",
    "In conclusion, the `SimulatedTimeSeries` class streamlines the process of generating and simulating time series data on DAGs. It offers a flexible and robust tool for researchers and practitioners interested in exploring and modeling causal dynamics in a time-dependent context."
   ]
  },
  {
   "attachments": {},
   "cell_type": "markdown",
   "metadata": {},
   "source": [
    "#### Note"
   ]
  },
  {
   "attachments": {},
   "cell_type": "markdown",
   "metadata": {},
   "source": [
    "As of its current implementation, the `SimulatedTimeSeries` class is designed to consider the influence of past values from only one previous time step. This one-step lag structure forms the basis of the temporal dependencies within the generated time series, capturing immediate past effects on current observations. While this serves as a valid approximation for many applications, it may not fully encapsulate more complex temporal dynamics that require considering influences from multiple previous time steps. Recognizing this limitation, an extension to the `SimulatedTimeSeries` class is foreseen. This planned enhancement will allow users to specify a broader range of lag structures, enabling the simulation of richer and more nuanced temporal dependencies. This flexibility will enhance the class's applicability to a wider variety of research questions and real-world scenarios."
   ]
  }
 ],
 "metadata": {
  "kernelspec": {
   "display_name": "d2c",
   "language": "python",
   "name": "python3"
  },
  "language_info": {
   "codemirror_mode": {
    "name": "ipython",
    "version": 3
   },
   "file_extension": ".py",
   "mimetype": "text/x-python",
   "name": "python",
   "nbconvert_exporter": "python",
   "pygments_lexer": "ipython3",
   "version": "3.8.16"
  }
 },
 "nbformat": 4,
 "nbformat_minor": 2
}