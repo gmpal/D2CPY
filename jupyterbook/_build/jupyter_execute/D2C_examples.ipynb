{
 "cells": [
  {
   "attachments": {},
   "cell_type": "markdown",
   "metadata": {},
   "source": [
    "# Examples"
   ]
  },
  {
   "cell_type": "code",
   "execution_count": 1,
   "metadata": {},
   "outputs": [],
   "source": [
    "import sys\n",
    "sys.path.append(\"..\")"
   ]
  },
  {
   "cell_type": "code",
   "execution_count": 2,
   "metadata": {},
   "outputs": [],
   "source": [
    "import pickle\n",
    "from d2c.D2C import D2C\n",
    "from sklearn.ensemble import RandomForestClassifier\n",
    "\n",
    "# First, create an instance of the SimulatedDAGs class\n",
    "# The specific methods to do this would depend on your implementation of SimulatedDAGs\n",
    "with open('simulatedDAGs.pickle', 'rb') as f:\n",
    "    simulated_DAGs = pickle.load(f)\n",
    "\n",
    "# Create an instance of the D2C class\n",
    "d2c = D2C(simulated_DAGs.get_dags(),simulated_DAGs.get_observations(), rev=True, verbose=True, random_state=42, n_jobs=4)"
   ]
  },
  {
   "cell_type": "code",
   "execution_count": 3,
   "metadata": {},
   "outputs": [],
   "source": [
    "# Initialize the D2C object\n",
    "# d2c.initialize()\n",
    "# d2c.save_descriptors_df('dataframe.csv')\n",
    "d2c.load_descriptors_df('dataframe.csv')"
   ]
  },
  {
   "cell_type": "code",
   "execution_count": 4,
   "metadata": {},
   "outputs": [
    {
     "name": "stdout",
     "output_type": "stream",
     "text": [
      "    graph_id  edge_source  edge_dest         effca         effef    comcau  \\\n",
      "0          0            1          0  6.892631e-01  4.801133e-16  0.449849   \n",
      "1          0            0          1  4.801133e-16  4.640393e-16  0.449732   \n",
      "2          0            2          0  2.193653e-02 -3.165594e-16  0.178385   \n",
      "3          0            0          2 -5.255358e-17  2.840123e-16  0.178429   \n",
      "4          0            2          1 -3.772340e-01  2.678803e-16  0.353385   \n",
      "..       ...          ...        ...           ...           ...       ...   \n",
      "95         4            1          4  1.830362e-16  1.620039e-16  0.402702   \n",
      "96         4            4          2 -3.613654e-19  4.052794e-01  0.137863   \n",
      "97         4            2          4 -4.352466e-16 -2.635870e-16  0.138677   \n",
      "98         4            4          3  1.157671e-16 -5.090505e+13  0.220710   \n",
      "99         4            3          4 -6.852847e-17  4.148920e-16  0.218113   \n",
      "\n",
      "       delta    delta2      delta.i1      delta.i2  ...   Int3.j3   Int3.j4  \\\n",
      "0   0.449849  0.000000  0.000000e+00  0.000000e+00  ... -0.149916 -0.141600   \n",
      "1   0.000000  0.000000  0.000000e+00  0.000000e+00  ... -0.213443 -0.169813   \n",
      "2   0.000000  0.000000  0.000000e+00  0.000000e+00  ... -0.149916 -0.141600   \n",
      "3   0.000000  0.000000  0.000000e+00  0.000000e+00  ... -0.403378 -0.322234   \n",
      "4   0.000000  0.000000  0.000000e+00  0.000000e+00  ... -0.213443 -0.169813   \n",
      "..       ...       ...           ...           ...  ...       ...       ...   \n",
      "95  0.000000  0.000000  4.269991e-10  8.539981e-10  ... -0.103468 -0.049961   \n",
      "96  0.000000  0.138677  0.000000e+00  0.000000e+00  ... -0.245866  0.000000   \n",
      "97  0.000000  0.000000  0.000000e+00  0.000000e+00  ... -0.103468 -0.049961   \n",
      "98  0.000000  0.000000  0.000000e+00  0.000000e+00  ... -0.096983 -0.035796   \n",
      "99  0.000000  0.000000  0.000000e+00  0.000000e+00  ... -0.103468 -0.049961   \n",
      "\n",
      "     Int3.j5   Int3.j6   Int3.j7  gini.delta  gini.delta2  gini.ca.ef  \\\n",
      "0  -0.121706 -0.109769 -0.105791    0.415948      0.00000    0.099514   \n",
      "1  -0.138350 -0.119472 -0.113180    0.000000      0.00000    0.098935   \n",
      "2  -0.121706 -0.109769 -0.105791    0.000000      0.00000    0.168314   \n",
      "3  -0.281664 -0.257321 -0.249207    0.000000      0.00000    0.177884   \n",
      "4  -0.138350 -0.119472 -0.113180    0.000000      0.00000    0.246525   \n",
      "..       ...       ...       ...         ...          ...         ...   \n",
      "95  0.007743  0.042366  0.053907    0.000000      0.00000    0.045896   \n",
      "96  0.040869  0.065391  0.073565    0.000000      0.12638    0.000000   \n",
      "97  0.007743  0.042366  0.053907    0.000000      0.00000    0.000000   \n",
      "98  0.015655  0.046526  0.056816    0.000000      0.00000    0.143618   \n",
      "99  0.007743  0.042366  0.053907    0.000000      0.00000    0.147366   \n",
      "\n",
      "    gini.ef.ca  is_causal  \n",
      "0     0.098935          1  \n",
      "1     0.099514          0  \n",
      "2     0.177884          1  \n",
      "3     0.168314          0  \n",
      "4     0.247482          1  \n",
      "..         ...        ...  \n",
      "95    0.043650          0  \n",
      "96    0.000000          1  \n",
      "97    0.000000          0  \n",
      "98    0.147366          1  \n",
      "99    0.143618          0  \n",
      "\n",
      "[100 rows x 85 columns]\n"
     ]
    }
   ],
   "source": [
    "# Get the concatenated DataFrame of X and Y\n",
    "df = d2c.get_descriptors_df()\n",
    "print(df)"
   ]
  },
  {
   "cell_type": "code",
   "execution_count": 5,
   "metadata": {},
   "outputs": [
    {
     "name": "stdout",
     "output_type": "stream",
     "text": [
      "The accuracy of the model is: 0.9099999999999999\n"
     ]
    }
   ],
   "source": [
    "\n",
    "# Get the score of a Random Forest Classifier\n",
    "score = d2c.get_score(n_splits=5)\n",
    "print(f'The accuracy of the model is: {score}')\n"
   ]
  }
 ],
 "metadata": {
  "kernelspec": {
   "display_name": "d2c",
   "language": "python",
   "name": "python3"
  },
  "language_info": {
   "codemirror_mode": {
    "name": "ipython",
    "version": 3
   },
   "file_extension": ".py",
   "mimetype": "text/x-python",
   "name": "python",
   "nbconvert_exporter": "python",
   "pygments_lexer": "ipython3",
   "version": "3.8.16"
  }
 },
 "nbformat": 4,
 "nbformat_minor": 2
}