{
 "cells": [
  {
   "attachments": {},
   "cell_type": "markdown",
   "metadata": {},
   "source": [
    "# D2C\n",
    "\n",
    "The `D2C` class, standing for Dependency to Causality, is a powerful tool that empowers users to discern causal relationships from observational data. This cutting-edge method employs the use of simulated directed acyclic graphs (DAGs), mathematical structures that represent the relationships between various variables. This approach is particularly valuable as it enables the extraction of insights from data where traditional experimental approaches may be challenging, costly, or simply impractical.\n",
    "\n",
    "The class takes in these DAGs and employs a process of computation to derive what are known as asymmetric descriptors. These descriptors encapsulate the observations associated with each DAG and are fundamental to the `D2C` process. Their asymmetry is key, as it is this property that enables the inference of causal, rather than merely correlative, relationships.\n",
    "\n",
    "At its core, the `D2C` class is structured around a variety of attributes. For instance, it keeps track of the DAGs and their corresponding indices, the observations derived from these DAGs, and computed descriptors. Additionally, it offers flexibility and customization to users through several settings such as the consideration of reverse edges in the DAGs, verbosity of execution logs, and the option for parallel computation.\n",
    "\n",
    "One of the key attributes of the `D2C` class is its ability to initialize and compute these descriptors. The process is not merely a calculation but an orchestration of various tasks that includes generating edge pairs from the DAGs, computing descriptors, and finally preparing a DataFrame that serves as the foundational data structure for further analysis.\n",
    "\n",
    "Once the descriptors are computed and the data is prepared, the `D2C` class also offers a method for evaluating the performance of a machine learning model. This is especially useful as it allows users to not only infer causal relationships but also quantify the accuracy of these inferences.\n"
   ]
  }
 ],
 "metadata": {
  "kernelspec": {
   "display_name": "d2c",
   "language": "python",
   "name": "python3"
  },
  "language_info": {
   "codemirror_mode": {
    "name": "ipython",
    "version": 3
   },
   "file_extension": ".py",
   "mimetype": "text/x-python",
   "name": "python",
   "nbconvert_exporter": "python",
   "pygments_lexer": "ipython3",
   "version": "3.8.16"
  }
 },
 "nbformat": 4,
 "nbformat_minor": 2
}