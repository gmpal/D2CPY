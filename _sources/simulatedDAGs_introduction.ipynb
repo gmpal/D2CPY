{
 "cells": [
  {
   "cell_type": "markdown",
   "metadata": {},
   "source": [
    "# SimulatedDAG"
   ]
  },
  {
   "attachments": {},
   "cell_type": "markdown",
   "metadata": {},
   "source": [
    "The `SimulatedDAGs` class is a Python object designed to generate and simulate observations on Directed Acyclic Graphs (DAGs). DAGs are a type of graph where the edges have a specific direction and do not form any cycles. These graphs are widely used in various fields, including statistics, machine learning, and causal inference.\n",
    "\n",
    "This class provides a convenient way to create multiple DAGs and simulate observations for each of these DAGs. It offers flexibility in specifying the number of DAGs, the number of observations per DAG, the number of nodes in each DAG, and the types of functions to be used in the DAGs. The available function types include \"linear,\" \"quadratic,\" and \"sigmoid,\" although it can be extended to support additional function types.\n",
    "\n",
    "To control the simulation process, the class allows you to set parameters such as the standard deviation of noise in observations, whether to quantize the observations, and whether the output should be the sum of the H transformation of the inputs or the H transformation of the sum of the inputs. These parameters can be adjusted to suit specific modeling or analysis requirements.\n",
    "\n",
    "The `SimulatedDAGs` class supports parallel execution using multiple jobs, enabling faster generation and simulation of DAGs. It also includes a random state parameter to ensure reproducibility of results.\n",
    "\n",
    "The class has attributes to store the generated DAGs and the simulated observations, providing easy access to the generated data for further analysis or visualization.\n",
    "\n",
    "To use the `SimulatedDAGs` class, you initialize an instance by providing the desired parameters, such as the number of DAGs, number of observations, number of nodes, function types, etc. Then, you can generate the DAGs using the `generate_dags()` method and simulate observations for these DAGs using the `simulate_observations()` method.\n",
    "\n",
    "Overall, the `SimulatedDAGs` class simplifies the process of generating and simulating observations on DAGs, making it easier to explore and analyze causal relationships in a simulated environment.\n"
   ]
  }
 ],
 "metadata": {
  "kernelspec": {
   "display_name": "d2c",
   "language": "python",
   "name": "python3"
  },
  "language_info": {
   "codemirror_mode": {
    "name": "ipython",
    "version": 3
   },
   "file_extension": ".py",
   "mimetype": "text/x-python",
   "name": "python",
   "nbconvert_exporter": "python",
   "pygments_lexer": "ipython3",
   "version": "3.8.16"
  },
  "orig_nbformat": 4
 },
 "nbformat": 4,
 "nbformat_minor": 2
}
