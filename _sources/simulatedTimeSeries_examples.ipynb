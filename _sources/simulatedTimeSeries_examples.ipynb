{
 "cells": [
  {
   "attachments": {},
   "cell_type": "markdown",
   "metadata": {},
   "source": [
    "# Examples"
   ]
  },
  {
   "cell_type": "code",
   "execution_count": 1,
   "metadata": {},
   "outputs": [],
   "source": [
    "import sys\n",
    "sys.path.append(\"..\")"
   ]
  },
  {
   "cell_type": "code",
   "execution_count": 2,
   "metadata": {},
   "outputs": [],
   "source": [
    "from d2c.simulatedTimeSeries import SimulatedTimeSeries\n",
    "from d2c.D2C import D2C"
   ]
  },
  {
   "cell_type": "code",
   "execution_count": 3,
   "metadata": {},
   "outputs": [],
   "source": [
    "n_series = 10\n",
    "n_observations = 100\n",
    "n_variables = 4"
   ]
  },
  {
   "cell_type": "code",
   "execution_count": 4,
   "metadata": {},
   "outputs": [],
   "source": [
    "simulated_timeseries = SimulatedTimeSeries(n_series, n_observations, n_variables)\n",
    "simulated_timeseries.generate_time_series()"
   ]
  },
  {
   "cell_type": "code",
   "execution_count": 5,
   "metadata": {},
   "outputs": [],
   "source": [
    "all_DAGs = simulated_timeseries.get_dags()\n",
    "training_DAGs = all_DAGs[:-1]\n",
    "testing_DAGs = all_DAGs[-1]\n",
    "\n",
    "all_observations = simulated_timeseries.get_observations()\n",
    "training_observations = all_observations[:-1]\n",
    "testing_observations = all_observations[-1]\n"
   ]
  },
  {
   "cell_type": "code",
   "execution_count": 6,
   "metadata": {},
   "outputs": [],
   "source": [
    "d2c = D2C(training_DAGs,training_observations)\n",
    "# d2c.initialize()\n",
    "d2c.load_descriptors_df('timeseries.csv')\n"
   ]
  },
  {
   "cell_type": "code",
   "execution_count": 12,
   "metadata": {},
   "outputs": [],
   "source": []
  },
  {
   "cell_type": "code",
   "execution_count": 7,
   "metadata": {},
   "outputs": [
    {
     "name": "stdout",
     "output_type": "stream",
     "text": [
      "14:30:27 Descriptors for DAG 0 edge pair 1 0 computed\n",
      "14:30:28 Descriptors for DAG 0 edge pair 0 1 computed\n",
      "14:30:30 Descriptors for DAG 0 edge pair 2 0 computed\n",
      "14:30:31 Descriptors for DAG 0 edge pair 0 2 computed\n",
      "14:30:33 Descriptors for DAG 0 edge pair 2 1 computed\n",
      "14:30:34 Descriptors for DAG 0 edge pair 1 2 computed\n",
      "14:30:35 Descriptors for DAG 0 edge pair 3 0 computed\n",
      "14:30:37 Descriptors for DAG 0 edge pair 0 3 computed\n",
      "14:30:38 Descriptors for DAG 0 edge pair 3 1 computed\n",
      "14:30:40 Descriptors for DAG 0 edge pair 1 3 computed\n",
      "14:30:41 Descriptors for DAG 0 edge pair 3 2 computed\n",
      "14:30:42 Descriptors for DAG 0 edge pair 2 3 computed\n"
     ]
    }
   ],
   "source": [
    "d2c_test = D2C([testing_DAGs],[testing_observations])\n",
    "# d2c_test.initialize()\n",
    "# d2c_test.save_descriptors_df('timeseries_test.csv')\n",
    "d2c_test.load_descriptors_df('timeseries_test.csv')\n",
    "\n"
   ]
  },
  {
   "cell_type": "code",
   "execution_count": 9,
   "metadata": {},
   "outputs": [],
   "source": [
    "score, G = d2c.test(test_df=d2c_test.get_descriptors_df(), reconstruct=True)\n",
    "\n"
   ]
  },
  {
   "attachments": {},
   "cell_type": "markdown",
   "metadata": {},
   "source": [
    "True graph"
   ]
  },
  {
   "cell_type": "code",
   "execution_count": 10,
   "metadata": {},
   "outputs": [
    {
     "name": "stdout",
     "output_type": "stream",
     "text": [
      "Node 1\n",
      "Node 0\n",
      "Node 2\n",
      "Node 3\n",
      "Edge 1 -> 0\n",
      "Edge 2 -> 0\n",
      "Edge 2 -> 1\n",
      "Edge 3 -> 0\n",
      "Edge 3 -> 1\n",
      "Edge 3 -> 2\n"
     ]
    }
   ],
   "source": [
    "for node, _ in testing_DAGs.nodes(data=True):\n",
    "        print(f\"Node {node}\")\n",
    "for edge_source, edge_dest, _ in testing_DAGs.edges(data=True):\n",
    "        print(f\"Edge {edge_source} -> {edge_dest}\")"
   ]
  },
  {
   "attachments": {},
   "cell_type": "markdown",
   "metadata": {},
   "source": [
    "Reconstructed graph"
   ]
  },
  {
   "cell_type": "code",
   "execution_count": 11,
   "metadata": {},
   "outputs": [
    {
     "name": "stdout",
     "output_type": "stream",
     "text": [
      "Node 1.0\n",
      "Node 0.0\n",
      "Node 2.0\n",
      "Node 3.0\n",
      "Edge 1.0 -> 0.0\n",
      "Edge 0.0 -> 1.0\n",
      "Edge 2.0 -> 1.0\n",
      "Edge 3.0 -> 0.0\n",
      "Edge 3.0 -> 1.0\n"
     ]
    }
   ],
   "source": [
    "for node, _ in G.nodes(data=True):\n",
    "        print(f\"Node {node}\")\n",
    "for edge_source, edge_dest, _ in G.edges(data=True):\n",
    "        print(f\"Edge {edge_source} -> {edge_dest}\")"
   ]
  },
  {
   "cell_type": "code",
   "execution_count": null,
   "metadata": {},
   "outputs": [],
   "source": []
  }
 ],
 "metadata": {
  "kernelspec": {
   "display_name": "d2c",
   "language": "python",
   "name": "python3"
  },
  "language_info": {
   "codemirror_mode": {
    "name": "ipython",
    "version": 3
   },
   "file_extension": ".py",
   "mimetype": "text/x-python",
   "name": "python",
   "nbconvert_exporter": "python",
   "pygments_lexer": "ipython3",
   "version": "3.8.16"
  },
  "orig_nbformat": 4
 },
 "nbformat": 4,
 "nbformat_minor": 2
}
